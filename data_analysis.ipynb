{
 "metadata": {
  "language_info": {
   "codemirror_mode": {
    "name": "ipython",
    "version": 3
   },
   "file_extension": ".py",
   "mimetype": "text/x-python",
   "name": "python",
   "nbconvert_exporter": "python",
   "pygments_lexer": "ipython3",
   "version": "3.8.2-final"
  },
  "orig_nbformat": 2,
  "kernelspec": {
   "name": "python_defaultSpec_1600191399373",
   "display_name": "Python 3.8.2 64-bit"
  }
 },
 "nbformat": 4,
 "nbformat_minor": 2,
 "cells": [
  {
   "source": [
    "### Initial data analysis\n",
    "Before making a selection which models to employ and what features to consider it is a good idea to take a closer look at the data that we'll be working with. The structure of the data could give us some insights as to which tools that are likely to give us the greatest success in attempting to classify songs as liked or disliked."
   ],
   "cell_type": "markdown",
   "metadata": {}
  },
  {
   "source": [
    "import pandas as pd\n",
    "import numpy as np\n",
    "import plotly.graph_objects as go\n",
    "import matplotlib.pyplot as plt\n",
    "from matplotlib.collections import PatchCollection\n",
    "import seaborn as sns\n",
    "sns.set_style(\"dark\")"
   ],
   "cell_type": "code",
   "metadata": {},
   "execution_count": 1,
   "outputs": []
  },
  {
   "source": [
    "# Load dataset and preview\n",
    "df = pd.read_csv(\"project_train.csv\")\n",
    "df.head()"
   ],
   "cell_type": "code",
   "metadata": {},
   "execution_count": 2,
   "outputs": [
    {
     "output_type": "execute_result",
     "data": {
      "text/plain": "   danceability  energy  key  loudness  mode  speechiness  acousticness  \\\n0         0.545   0.884    5    -4.807     0        0.367      0.290000   \n1         0.795   0.545    7    -8.153     1        0.343      0.003960   \n2         0.489   0.871    5    -5.825     1        0.386      0.002850   \n3         0.539   0.931    4    -1.803     0        0.262      0.000713   \n4         0.918   0.734   11    -2.832     0        0.269      0.029400   \n\n   instrumentalness  liveness  valence    tempo  Label  \n0          0.000000     0.370    0.641   86.049      1  \n1          0.000000     0.273    0.809   91.967      1  \n2          0.000004     0.130    0.341  117.431      1  \n3          0.000000     0.204    0.685   85.571      0  \n4          0.000008     0.191    0.608   97.044      1  ",
      "text/html": "<div>\n<style scoped>\n    .dataframe tbody tr th:only-of-type {\n        vertical-align: middle;\n    }\n\n    .dataframe tbody tr th {\n        vertical-align: top;\n    }\n\n    .dataframe thead th {\n        text-align: right;\n    }\n</style>\n<table border=\"1\" class=\"dataframe\">\n  <thead>\n    <tr style=\"text-align: right;\">\n      <th></th>\n      <th>danceability</th>\n      <th>energy</th>\n      <th>key</th>\n      <th>loudness</th>\n      <th>mode</th>\n      <th>speechiness</th>\n      <th>acousticness</th>\n      <th>instrumentalness</th>\n      <th>liveness</th>\n      <th>valence</th>\n      <th>tempo</th>\n      <th>Label</th>\n    </tr>\n  </thead>\n  <tbody>\n    <tr>\n      <th>0</th>\n      <td>0.545</td>\n      <td>0.884</td>\n      <td>5</td>\n      <td>-4.807</td>\n      <td>0</td>\n      <td>0.367</td>\n      <td>0.290000</td>\n      <td>0.000000</td>\n      <td>0.370</td>\n      <td>0.641</td>\n      <td>86.049</td>\n      <td>1</td>\n    </tr>\n    <tr>\n      <th>1</th>\n      <td>0.795</td>\n      <td>0.545</td>\n      <td>7</td>\n      <td>-8.153</td>\n      <td>1</td>\n      <td>0.343</td>\n      <td>0.003960</td>\n      <td>0.000000</td>\n      <td>0.273</td>\n      <td>0.809</td>\n      <td>91.967</td>\n      <td>1</td>\n    </tr>\n    <tr>\n      <th>2</th>\n      <td>0.489</td>\n      <td>0.871</td>\n      <td>5</td>\n      <td>-5.825</td>\n      <td>1</td>\n      <td>0.386</td>\n      <td>0.002850</td>\n      <td>0.000004</td>\n      <td>0.130</td>\n      <td>0.341</td>\n      <td>117.431</td>\n      <td>1</td>\n    </tr>\n    <tr>\n      <th>3</th>\n      <td>0.539</td>\n      <td>0.931</td>\n      <td>4</td>\n      <td>-1.803</td>\n      <td>0</td>\n      <td>0.262</td>\n      <td>0.000713</td>\n      <td>0.000000</td>\n      <td>0.204</td>\n      <td>0.685</td>\n      <td>85.571</td>\n      <td>0</td>\n    </tr>\n    <tr>\n      <th>4</th>\n      <td>0.918</td>\n      <td>0.734</td>\n      <td>11</td>\n      <td>-2.832</td>\n      <td>0</td>\n      <td>0.269</td>\n      <td>0.029400</td>\n      <td>0.000008</td>\n      <td>0.191</td>\n      <td>0.608</td>\n      <td>97.044</td>\n      <td>1</td>\n    </tr>\n  </tbody>\n</table>\n</div>"
     },
     "metadata": {},
     "execution_count": 2
    }
   ]
  },
  {
   "source": [
    "After loading the data into dataframes and normalizing we'll now partition the dataset into two datasets; liked songs and disliked songs."
   ],
   "cell_type": "markdown",
   "metadata": {}
  },
  {
   "cell_type": "code",
   "execution_count": 3,
   "metadata": {
    "tags": []
   },
   "outputs": [],
   "source": [
    "# Split data into liked vs disliked\n",
    "df_liked = df[df['Label'] == 1].drop('Label', axis = 1)\n",
    "df_disliked = df[df['Label'] == 0].drop('Label', axis = 1)\n",
    "\n",
    "# Normalize data\n",
    "df_liked = (df_liked - df_liked.min()) / (df_liked.max() - df_liked.min())\n",
    "df_disliked = (df_disliked - df_disliked.min()) / (df_disliked.max() - df_disliked.min())"
   ]
  },
  {
   "source": [
    "## Identifying distinguishing features for music that is liked vs disliked\n",
    "One way of visualizing the feature importance is to plot a radar chart.\n",
    "After the features has been normalized, the means are calculated for each feature for the two datasets, in order to produce the radar chart below."
   ],
   "cell_type": "markdown",
   "metadata": {
    "tags": []
   }
  },
  {
   "cell_type": "code",
   "execution_count": 4,
   "metadata": {
    "tags": []
   },
   "outputs": [
    {
     "output_type": "display_data",
     "data": {
      "application/vnd.plotly.v1+json": {
       "config": {
        "plotlyServerURL": "https://plot.ly"
       },
       "data": [
        {
         "fill": "toself",
         "name": "Liked songs",
         "r": [
          0.4227816846568279,
          0.004819735789524385,
          0.44402704733283277,
          0.994103994718119,
          0.7231404958677686,
          0.2178405967240584,
          0.46296106607368215,
          0.33912757919417347,
          0.1782212113173877,
          0.3504827114368982,
          0.3857001265997694,
          0.4227816846568279
         ],
         "theta": [
          "danceability",
          "energy",
          "key",
          "loudness",
          "mode",
          "speechiness",
          "acousticness",
          "instrumentalness",
          "liveness",
          "valence",
          "tempo",
          "danceability"
         ],
         "type": "scatterpolar"
        },
        {
         "fill": "toself",
         "name": "Disliked songs",
         "r": [
          0.614215327626873,
          0.7330046936936893,
          0.48887212372689554,
          0.6558075744250044,
          0.6058091286307054,
          0.07094175789411734,
          0.17299988129030008,
          0.043984952671820024,
          0.20928423236514507,
          0.5970061942021143,
          0.44634527464009727,
          0.614215327626873
         ],
         "theta": [
          "danceability",
          "energy",
          "key",
          "loudness",
          "mode",
          "speechiness",
          "acousticness",
          "instrumentalness",
          "liveness",
          "valence",
          "tempo",
          "danceability"
         ],
         "type": "scatterpolar"
        }
       ],
       "layout": {
        "polar": {
         "radialaxis": {
          "range": [
           0,
           1
          ],
          "visible": true
         }
        },
        "showlegend": true,
        "template": {
         "data": {
          "bar": [
           {
            "error_x": {
             "color": "#2a3f5f"
            },
            "error_y": {
             "color": "#2a3f5f"
            },
            "marker": {
             "line": {
              "color": "#E5ECF6",
              "width": 0.5
             }
            },
            "type": "bar"
           }
          ],
          "barpolar": [
           {
            "marker": {
             "line": {
              "color": "#E5ECF6",
              "width": 0.5
             }
            },
            "type": "barpolar"
           }
          ],
          "carpet": [
           {
            "aaxis": {
             "endlinecolor": "#2a3f5f",
             "gridcolor": "white",
             "linecolor": "white",
             "minorgridcolor": "white",
             "startlinecolor": "#2a3f5f"
            },
            "baxis": {
             "endlinecolor": "#2a3f5f",
             "gridcolor": "white",
             "linecolor": "white",
             "minorgridcolor": "white",
             "startlinecolor": "#2a3f5f"
            },
            "type": "carpet"
           }
          ],
          "choropleth": [
           {
            "colorbar": {
             "outlinewidth": 0,
             "ticks": ""
            },
            "type": "choropleth"
           }
          ],
          "contour": [
           {
            "colorbar": {
             "outlinewidth": 0,
             "ticks": ""
            },
            "colorscale": [
             [
              0,
              "#0d0887"
             ],
             [
              0.1111111111111111,
              "#46039f"
             ],
             [
              0.2222222222222222,
              "#7201a8"
             ],
             [
              0.3333333333333333,
              "#9c179e"
             ],
             [
              0.4444444444444444,
              "#bd3786"
             ],
             [
              0.5555555555555556,
              "#d8576b"
             ],
             [
              0.6666666666666666,
              "#ed7953"
             ],
             [
              0.7777777777777778,
              "#fb9f3a"
             ],
             [
              0.8888888888888888,
              "#fdca26"
             ],
             [
              1,
              "#f0f921"
             ]
            ],
            "type": "contour"
           }
          ],
          "contourcarpet": [
           {
            "colorbar": {
             "outlinewidth": 0,
             "ticks": ""
            },
            "type": "contourcarpet"
           }
          ],
          "heatmap": [
           {
            "colorbar": {
             "outlinewidth": 0,
             "ticks": ""
            },
            "colorscale": [
             [
              0,
              "#0d0887"
             ],
             [
              0.1111111111111111,
              "#46039f"
             ],
             [
              0.2222222222222222,
              "#7201a8"
             ],
             [
              0.3333333333333333,
              "#9c179e"
             ],
             [
              0.4444444444444444,
              "#bd3786"
             ],
             [
              0.5555555555555556,
              "#d8576b"
             ],
             [
              0.6666666666666666,
              "#ed7953"
             ],
             [
              0.7777777777777778,
              "#fb9f3a"
             ],
             [
              0.8888888888888888,
              "#fdca26"
             ],
             [
              1,
              "#f0f921"
             ]
            ],
            "type": "heatmap"
           }
          ],
          "heatmapgl": [
           {
            "colorbar": {
             "outlinewidth": 0,
             "ticks": ""
            },
            "colorscale": [
             [
              0,
              "#0d0887"
             ],
             [
              0.1111111111111111,
              "#46039f"
             ],
             [
              0.2222222222222222,
              "#7201a8"
             ],
             [
              0.3333333333333333,
              "#9c179e"
             ],
             [
              0.4444444444444444,
              "#bd3786"
             ],
             [
              0.5555555555555556,
              "#d8576b"
             ],
             [
              0.6666666666666666,
              "#ed7953"
             ],
             [
              0.7777777777777778,
              "#fb9f3a"
             ],
             [
              0.8888888888888888,
              "#fdca26"
             ],
             [
              1,
              "#f0f921"
             ]
            ],
            "type": "heatmapgl"
           }
          ],
          "histogram": [
           {
            "marker": {
             "colorbar": {
              "outlinewidth": 0,
              "ticks": ""
             }
            },
            "type": "histogram"
           }
          ],
          "histogram2d": [
           {
            "colorbar": {
             "outlinewidth": 0,
             "ticks": ""
            },
            "colorscale": [
             [
              0,
              "#0d0887"
             ],
             [
              0.1111111111111111,
              "#46039f"
             ],
             [
              0.2222222222222222,
              "#7201a8"
             ],
             [
              0.3333333333333333,
              "#9c179e"
             ],
             [
              0.4444444444444444,
              "#bd3786"
             ],
             [
              0.5555555555555556,
              "#d8576b"
             ],
             [
              0.6666666666666666,
              "#ed7953"
             ],
             [
              0.7777777777777778,
              "#fb9f3a"
             ],
             [
              0.8888888888888888,
              "#fdca26"
             ],
             [
              1,
              "#f0f921"
             ]
            ],
            "type": "histogram2d"
           }
          ],
          "histogram2dcontour": [
           {
            "colorbar": {
             "outlinewidth": 0,
             "ticks": ""
            },
            "colorscale": [
             [
              0,
              "#0d0887"
             ],
             [
              0.1111111111111111,
              "#46039f"
             ],
             [
              0.2222222222222222,
              "#7201a8"
             ],
             [
              0.3333333333333333,
              "#9c179e"
             ],
             [
              0.4444444444444444,
              "#bd3786"
             ],
             [
              0.5555555555555556,
              "#d8576b"
             ],
             [
              0.6666666666666666,
              "#ed7953"
             ],
             [
              0.7777777777777778,
              "#fb9f3a"
             ],
             [
              0.8888888888888888,
              "#fdca26"
             ],
             [
              1,
              "#f0f921"
             ]
            ],
            "type": "histogram2dcontour"
           }
          ],
          "mesh3d": [
           {
            "colorbar": {
             "outlinewidth": 0,
             "ticks": ""
            },
            "type": "mesh3d"
           }
          ],
          "parcoords": [
           {
            "line": {
             "colorbar": {
              "outlinewidth": 0,
              "ticks": ""
             }
            },
            "type": "parcoords"
           }
          ],
          "pie": [
           {
            "automargin": true,
            "type": "pie"
           }
          ],
          "scatter": [
           {
            "marker": {
             "colorbar": {
              "outlinewidth": 0,
              "ticks": ""
             }
            },
            "type": "scatter"
           }
          ],
          "scatter3d": [
           {
            "line": {
             "colorbar": {
              "outlinewidth": 0,
              "ticks": ""
             }
            },
            "marker": {
             "colorbar": {
              "outlinewidth": 0,
              "ticks": ""
             }
            },
            "type": "scatter3d"
           }
          ],
          "scattercarpet": [
           {
            "marker": {
             "colorbar": {
              "outlinewidth": 0,
              "ticks": ""
             }
            },
            "type": "scattercarpet"
           }
          ],
          "scattergeo": [
           {
            "marker": {
             "colorbar": {
              "outlinewidth": 0,
              "ticks": ""
             }
            },
            "type": "scattergeo"
           }
          ],
          "scattergl": [
           {
            "marker": {
             "colorbar": {
              "outlinewidth": 0,
              "ticks": ""
             }
            },
            "type": "scattergl"
           }
          ],
          "scattermapbox": [
           {
            "marker": {
             "colorbar": {
              "outlinewidth": 0,
              "ticks": ""
             }
            },
            "type": "scattermapbox"
           }
          ],
          "scatterpolar": [
           {
            "marker": {
             "colorbar": {
              "outlinewidth": 0,
              "ticks": ""
             }
            },
            "type": "scatterpolar"
           }
          ],
          "scatterpolargl": [
           {
            "marker": {
             "colorbar": {
              "outlinewidth": 0,
              "ticks": ""
             }
            },
            "type": "scatterpolargl"
           }
          ],
          "scatterternary": [
           {
            "marker": {
             "colorbar": {
              "outlinewidth": 0,
              "ticks": ""
             }
            },
            "type": "scatterternary"
           }
          ],
          "surface": [
           {
            "colorbar": {
             "outlinewidth": 0,
             "ticks": ""
            },
            "colorscale": [
             [
              0,
              "#0d0887"
             ],
             [
              0.1111111111111111,
              "#46039f"
             ],
             [
              0.2222222222222222,
              "#7201a8"
             ],
             [
              0.3333333333333333,
              "#9c179e"
             ],
             [
              0.4444444444444444,
              "#bd3786"
             ],
             [
              0.5555555555555556,
              "#d8576b"
             ],
             [
              0.6666666666666666,
              "#ed7953"
             ],
             [
              0.7777777777777778,
              "#fb9f3a"
             ],
             [
              0.8888888888888888,
              "#fdca26"
             ],
             [
              1,
              "#f0f921"
             ]
            ],
            "type": "surface"
           }
          ],
          "table": [
           {
            "cells": {
             "fill": {
              "color": "#EBF0F8"
             },
             "line": {
              "color": "white"
             }
            },
            "header": {
             "fill": {
              "color": "#C8D4E3"
             },
             "line": {
              "color": "white"
             }
            },
            "type": "table"
           }
          ]
         },
         "layout": {
          "annotationdefaults": {
           "arrowcolor": "#2a3f5f",
           "arrowhead": 0,
           "arrowwidth": 1
          },
          "coloraxis": {
           "colorbar": {
            "outlinewidth": 0,
            "ticks": ""
           }
          },
          "colorscale": {
           "diverging": [
            [
             0,
             "#8e0152"
            ],
            [
             0.1,
             "#c51b7d"
            ],
            [
             0.2,
             "#de77ae"
            ],
            [
             0.3,
             "#f1b6da"
            ],
            [
             0.4,
             "#fde0ef"
            ],
            [
             0.5,
             "#f7f7f7"
            ],
            [
             0.6,
             "#e6f5d0"
            ],
            [
             0.7,
             "#b8e186"
            ],
            [
             0.8,
             "#7fbc41"
            ],
            [
             0.9,
             "#4d9221"
            ],
            [
             1,
             "#276419"
            ]
           ],
           "sequential": [
            [
             0,
             "#0d0887"
            ],
            [
             0.1111111111111111,
             "#46039f"
            ],
            [
             0.2222222222222222,
             "#7201a8"
            ],
            [
             0.3333333333333333,
             "#9c179e"
            ],
            [
             0.4444444444444444,
             "#bd3786"
            ],
            [
             0.5555555555555556,
             "#d8576b"
            ],
            [
             0.6666666666666666,
             "#ed7953"
            ],
            [
             0.7777777777777778,
             "#fb9f3a"
            ],
            [
             0.8888888888888888,
             "#fdca26"
            ],
            [
             1,
             "#f0f921"
            ]
           ],
           "sequentialminus": [
            [
             0,
             "#0d0887"
            ],
            [
             0.1111111111111111,
             "#46039f"
            ],
            [
             0.2222222222222222,
             "#7201a8"
            ],
            [
             0.3333333333333333,
             "#9c179e"
            ],
            [
             0.4444444444444444,
             "#bd3786"
            ],
            [
             0.5555555555555556,
             "#d8576b"
            ],
            [
             0.6666666666666666,
             "#ed7953"
            ],
            [
             0.7777777777777778,
             "#fb9f3a"
            ],
            [
             0.8888888888888888,
             "#fdca26"
            ],
            [
             1,
             "#f0f921"
            ]
           ]
          },
          "colorway": [
           "#636efa",
           "#EF553B",
           "#00cc96",
           "#ab63fa",
           "#FFA15A",
           "#19d3f3",
           "#FF6692",
           "#B6E880",
           "#FF97FF",
           "#FECB52"
          ],
          "font": {
           "color": "#2a3f5f"
          },
          "geo": {
           "bgcolor": "white",
           "lakecolor": "white",
           "landcolor": "#E5ECF6",
           "showlakes": true,
           "showland": true,
           "subunitcolor": "white"
          },
          "hoverlabel": {
           "align": "left"
          },
          "hovermode": "closest",
          "mapbox": {
           "style": "light"
          },
          "paper_bgcolor": "white",
          "plot_bgcolor": "#E5ECF6",
          "polar": {
           "angularaxis": {
            "gridcolor": "white",
            "linecolor": "white",
            "ticks": ""
           },
           "bgcolor": "#E5ECF6",
           "radialaxis": {
            "gridcolor": "white",
            "linecolor": "white",
            "ticks": ""
           }
          },
          "scene": {
           "xaxis": {
            "backgroundcolor": "#E5ECF6",
            "gridcolor": "white",
            "gridwidth": 2,
            "linecolor": "white",
            "showbackground": true,
            "ticks": "",
            "zerolinecolor": "white"
           },
           "yaxis": {
            "backgroundcolor": "#E5ECF6",
            "gridcolor": "white",
            "gridwidth": 2,
            "linecolor": "white",
            "showbackground": true,
            "ticks": "",
            "zerolinecolor": "white"
           },
           "zaxis": {
            "backgroundcolor": "#E5ECF6",
            "gridcolor": "white",
            "gridwidth": 2,
            "linecolor": "white",
            "showbackground": true,
            "ticks": "",
            "zerolinecolor": "white"
           }
          },
          "shapedefaults": {
           "line": {
            "color": "#2a3f5f"
           }
          },
          "ternary": {
           "aaxis": {
            "gridcolor": "white",
            "linecolor": "white",
            "ticks": ""
           },
           "baxis": {
            "gridcolor": "white",
            "linecolor": "white",
            "ticks": ""
           },
           "bgcolor": "#E5ECF6",
           "caxis": {
            "gridcolor": "white",
            "linecolor": "white",
            "ticks": ""
           }
          },
          "title": {
           "x": 0.05
          },
          "xaxis": {
           "automargin": true,
           "gridcolor": "white",
           "linecolor": "white",
           "ticks": "",
           "title": {
            "standoff": 15
           },
           "zerolinecolor": "white",
           "zerolinewidth": 2
          },
          "yaxis": {
           "automargin": true,
           "gridcolor": "white",
           "linecolor": "white",
           "ticks": "",
           "title": {
            "standoff": 15
           },
           "zerolinecolor": "white",
           "zerolinewidth": 2
          }
         }
        }
       }
      }
     },
     "metadata": {}
    }
   ],
   "source": [
    "# Calculate means of features across songs that are liked vs not liked\n",
    "labels = np.array(df_liked.columns)\n",
    "feature_means_liked = df_liked.mean()\n",
    "feature_means_disliked = df_disliked.mean()\n",
    "\n",
    "# View features in radar chart\n",
    "fig = go.Figure()\n",
    "fig.add_trace(go.Scatterpolar(\n",
    "      r=np.append(feature_means_liked.values, feature_means_liked.values[0]),\n",
    "      theta=np.append(labels, labels[0]),\n",
    "      fill='toself',\n",
    "      name='Liked songs'\n",
    "))\n",
    "fig.add_trace(go.Scatterpolar(\n",
    "      r=np.append(feature_means_disliked.values, feature_means_disliked.values[0]),\n",
    "      theta=np.append(labels, labels[0]),\n",
    "      fill='toself',\n",
    "      name='Disliked songs'\n",
    "))\n",
    "\n",
    "fig.update_layout(\n",
    "  polar=dict(\n",
    "    radialaxis=dict(\n",
    "      visible=True,\n",
    "      range=[0, 1]\n",
    "    )),\n",
    "  showlegend=True\n",
    ")\n",
    "fig.show()"
   ]
  },
  {
   "source": [
    "The graph above seems to indicate that `energy` seems to be a very distinguishing feature. In this particular case, a song which is considered to have a lot of `energy` is highly probable of being disliked."
   ],
   "cell_type": "markdown",
   "metadata": {}
  },
  {
   "source": [
    "## Investigating possible multicollinearity among features in the dataset\n",
    "Now we'll check for covariance among the features. When considering which features to classify by or construct a model with, it may be helpful to be aware of any correlation that exists between features, since the model may suffer from multicollinearity.\n",
    "\n",
    "If two or more features are highly correlated then they are essentially containing the same information about some dependent variable, thus one or more features may be considered to be redundant. Multicollinearity may lead to stability issues as well as the risk of overfitting the model to the training data."
   ],
   "cell_type": "markdown",
   "metadata": {}
  },
  {
   "cell_type": "code",
   "execution_count": 5,
   "metadata": {
    "tags": []
   },
   "outputs": [
    {
     "output_type": "display_data",
     "data": {
      "text/plain": "<Figure size 432x288 with 2 Axes>",
      "image/svg+xml": "<?xml version=\"1.0\" encoding=\"utf-8\" standalone=\"no\"?>\n<!DOCTYPE svg PUBLIC \"-//W3C//DTD SVG 1.1//EN\"\n  \"http://www.w3.org/Graphics/SVG/1.1/DTD/svg11.dtd\">\n<!-- Created with matplotlib (https://matplotlib.org/) -->\n<svg height=\"342.721223pt\" version=\"1.1\" viewBox=\"0 0 410.707955 342.721223\" width=\"410.707955pt\" xmlns=\"http://www.w3.org/2000/svg\" xmlns:xlink=\"http://www.w3.org/1999/xlink\">\n <metadata>\n  <rdf:RDF xmlns:cc=\"http://creativecommons.org/ns#\" xmlns:dc=\"http://purl.org/dc/elements/1.1/\" xmlns:rdf=\"http://www.w3.org/1999/02/22-rdf-syntax-ns#\">\n   <cc:Work>\n    <dc:type rdf:resource=\"http://purl.org/dc/dcmitype/StillImage\"/>\n    <dc:date>2020-09-15T19:38:42.152679</dc:date>\n    <dc:format>image/svg+xml</dc:format>\n    <dc:creator>\n     <cc:Agent>\n      <dc:title>Matplotlib v3.3.2, https://matplotlib.org/</dc:title>\n     </cc:Agent>\n    </dc:creator>\n   </cc:Work>\n  </rdf:RDF>\n </metadata>\n <defs>\n  <style type=\"text/css\">*{stroke-linecap:butt;stroke-linejoin:round;}</style>\n </defs>\n <g id=\"figure_1\">\n  <g id=\"patch_1\">\n   <path d=\"M -0 342.721223 \nL 410.707955 342.721223 \nL 410.707955 0 \nL -0 0 \nz\n\" style=\"fill:#ffffff;\"/>\n  </g>\n  <g id=\"axes_1\">\n   <g id=\"patch_2\">\n    <path d=\"M 100.860938 260.399219 \nL 353.505483 260.399219 \nL 353.505483 10.999219 \nL 100.860938 10.999219 \nz\n\" style=\"fill:#eaeaf2;\"/>\n   </g>\n   <g id=\"matplotlib.axis_1\">\n    <g id=\"xtick_1\">\n     <g id=\"text_1\">\n      <!-- danceability -->\n      <g style=\"fill:#262626;\" transform=\"translate(67.658946 315.987398)rotate(-45)scale(0.1 -0.1)\">\n       <defs>\n        <path d=\"M 45.40625 46.390625 \nL 45.40625 75.984375 \nL 54.390625 75.984375 \nL 54.390625 0 \nL 45.40625 0 \nL 45.40625 8.203125 \nQ 42.578125 3.328125 38.25 0.953125 \nQ 33.9375 -1.421875 27.875 -1.421875 \nQ 17.96875 -1.421875 11.734375 6.484375 \nQ 5.515625 14.40625 5.515625 27.296875 \nQ 5.515625 40.1875 11.734375 48.09375 \nQ 17.96875 56 27.875 56 \nQ 33.9375 56 38.25 53.625 \nQ 42.578125 51.265625 45.40625 46.390625 \nz\nM 14.796875 27.296875 \nQ 14.796875 17.390625 18.875 11.75 \nQ 22.953125 6.109375 30.078125 6.109375 \nQ 37.203125 6.109375 41.296875 11.75 \nQ 45.40625 17.390625 45.40625 27.296875 \nQ 45.40625 37.203125 41.296875 42.84375 \nQ 37.203125 48.484375 30.078125 48.484375 \nQ 22.953125 48.484375 18.875 42.84375 \nQ 14.796875 37.203125 14.796875 27.296875 \nz\n\" id=\"DejaVuSans-100\"/>\n        <path d=\"M 34.28125 27.484375 \nQ 23.390625 27.484375 19.1875 25 \nQ 14.984375 22.515625 14.984375 16.5 \nQ 14.984375 11.71875 18.140625 8.90625 \nQ 21.296875 6.109375 26.703125 6.109375 \nQ 34.1875 6.109375 38.703125 11.40625 \nQ 43.21875 16.703125 43.21875 25.484375 \nL 43.21875 27.484375 \nz\nM 52.203125 31.203125 \nL 52.203125 0 \nL 43.21875 0 \nL 43.21875 8.296875 \nQ 40.140625 3.328125 35.546875 0.953125 \nQ 30.953125 -1.421875 24.3125 -1.421875 \nQ 15.921875 -1.421875 10.953125 3.296875 \nQ 6 8.015625 6 15.921875 \nQ 6 25.140625 12.171875 29.828125 \nQ 18.359375 34.515625 30.609375 34.515625 \nL 43.21875 34.515625 \nL 43.21875 35.40625 \nQ 43.21875 41.609375 39.140625 45 \nQ 35.0625 48.390625 27.6875 48.390625 \nQ 23 48.390625 18.546875 47.265625 \nQ 14.109375 46.140625 10.015625 43.890625 \nL 10.015625 52.203125 \nQ 14.9375 54.109375 19.578125 55.046875 \nQ 24.21875 56 28.609375 56 \nQ 40.484375 56 46.34375 49.84375 \nQ 52.203125 43.703125 52.203125 31.203125 \nz\n\" id=\"DejaVuSans-97\"/>\n        <path d=\"M 54.890625 33.015625 \nL 54.890625 0 \nL 45.90625 0 \nL 45.90625 32.71875 \nQ 45.90625 40.484375 42.875 44.328125 \nQ 39.84375 48.1875 33.796875 48.1875 \nQ 26.515625 48.1875 22.3125 43.546875 \nQ 18.109375 38.921875 18.109375 30.90625 \nL 18.109375 0 \nL 9.078125 0 \nL 9.078125 54.6875 \nL 18.109375 54.6875 \nL 18.109375 46.1875 \nQ 21.34375 51.125 25.703125 53.5625 \nQ 30.078125 56 35.796875 56 \nQ 45.21875 56 50.046875 50.171875 \nQ 54.890625 44.34375 54.890625 33.015625 \nz\n\" id=\"DejaVuSans-110\"/>\n        <path d=\"M 48.78125 52.59375 \nL 48.78125 44.1875 \nQ 44.96875 46.296875 41.140625 47.34375 \nQ 37.3125 48.390625 33.40625 48.390625 \nQ 24.65625 48.390625 19.8125 42.84375 \nQ 14.984375 37.3125 14.984375 27.296875 \nQ 14.984375 17.28125 19.8125 11.734375 \nQ 24.65625 6.203125 33.40625 6.203125 \nQ 37.3125 6.203125 41.140625 7.25 \nQ 44.96875 8.296875 48.78125 10.40625 \nL 48.78125 2.09375 \nQ 45.015625 0.34375 40.984375 -0.53125 \nQ 36.96875 -1.421875 32.421875 -1.421875 \nQ 20.0625 -1.421875 12.78125 6.34375 \nQ 5.515625 14.109375 5.515625 27.296875 \nQ 5.515625 40.671875 12.859375 48.328125 \nQ 20.21875 56 33.015625 56 \nQ 37.15625 56 41.109375 55.140625 \nQ 45.0625 54.296875 48.78125 52.59375 \nz\n\" id=\"DejaVuSans-99\"/>\n        <path d=\"M 56.203125 29.59375 \nL 56.203125 25.203125 \nL 14.890625 25.203125 \nQ 15.484375 15.921875 20.484375 11.0625 \nQ 25.484375 6.203125 34.421875 6.203125 \nQ 39.59375 6.203125 44.453125 7.46875 \nQ 49.3125 8.734375 54.109375 11.28125 \nL 54.109375 2.78125 \nQ 49.265625 0.734375 44.1875 -0.34375 \nQ 39.109375 -1.421875 33.890625 -1.421875 \nQ 20.796875 -1.421875 13.15625 6.1875 \nQ 5.515625 13.8125 5.515625 26.8125 \nQ 5.515625 40.234375 12.765625 48.109375 \nQ 20.015625 56 32.328125 56 \nQ 43.359375 56 49.78125 48.890625 \nQ 56.203125 41.796875 56.203125 29.59375 \nz\nM 47.21875 32.234375 \nQ 47.125 39.59375 43.09375 43.984375 \nQ 39.0625 48.390625 32.421875 48.390625 \nQ 24.90625 48.390625 20.390625 44.140625 \nQ 15.875 39.890625 15.1875 32.171875 \nz\n\" id=\"DejaVuSans-101\"/>\n        <path d=\"M 48.6875 27.296875 \nQ 48.6875 37.203125 44.609375 42.84375 \nQ 40.53125 48.484375 33.40625 48.484375 \nQ 26.265625 48.484375 22.1875 42.84375 \nQ 18.109375 37.203125 18.109375 27.296875 \nQ 18.109375 17.390625 22.1875 11.75 \nQ 26.265625 6.109375 33.40625 6.109375 \nQ 40.53125 6.109375 44.609375 11.75 \nQ 48.6875 17.390625 48.6875 27.296875 \nz\nM 18.109375 46.390625 \nQ 20.953125 51.265625 25.265625 53.625 \nQ 29.59375 56 35.59375 56 \nQ 45.5625 56 51.78125 48.09375 \nQ 58.015625 40.1875 58.015625 27.296875 \nQ 58.015625 14.40625 51.78125 6.484375 \nQ 45.5625 -1.421875 35.59375 -1.421875 \nQ 29.59375 -1.421875 25.265625 0.953125 \nQ 20.953125 3.328125 18.109375 8.203125 \nL 18.109375 0 \nL 9.078125 0 \nL 9.078125 75.984375 \nL 18.109375 75.984375 \nz\n\" id=\"DejaVuSans-98\"/>\n        <path d=\"M 9.421875 54.6875 \nL 18.40625 54.6875 \nL 18.40625 0 \nL 9.421875 0 \nz\nM 9.421875 75.984375 \nL 18.40625 75.984375 \nL 18.40625 64.59375 \nL 9.421875 64.59375 \nz\n\" id=\"DejaVuSans-105\"/>\n        <path d=\"M 9.421875 75.984375 \nL 18.40625 75.984375 \nL 18.40625 0 \nL 9.421875 0 \nz\n\" id=\"DejaVuSans-108\"/>\n        <path d=\"M 18.3125 70.21875 \nL 18.3125 54.6875 \nL 36.8125 54.6875 \nL 36.8125 47.703125 \nL 18.3125 47.703125 \nL 18.3125 18.015625 \nQ 18.3125 11.328125 20.140625 9.421875 \nQ 21.96875 7.515625 27.59375 7.515625 \nL 36.8125 7.515625 \nL 36.8125 0 \nL 27.59375 0 \nQ 17.1875 0 13.234375 3.875 \nQ 9.28125 7.765625 9.28125 18.015625 \nL 9.28125 47.703125 \nL 2.6875 47.703125 \nL 2.6875 54.6875 \nL 9.28125 54.6875 \nL 9.28125 70.21875 \nz\n\" id=\"DejaVuSans-116\"/>\n        <path d=\"M 32.171875 -5.078125 \nQ 28.375 -14.84375 24.75 -17.8125 \nQ 21.140625 -20.796875 15.09375 -20.796875 \nL 7.90625 -20.796875 \nL 7.90625 -13.28125 \nL 13.1875 -13.28125 \nQ 16.890625 -13.28125 18.9375 -11.515625 \nQ 21 -9.765625 23.484375 -3.21875 \nL 25.09375 0.875 \nL 2.984375 54.6875 \nL 12.5 54.6875 \nL 29.59375 11.921875 \nL 46.6875 54.6875 \nL 56.203125 54.6875 \nz\n\" id=\"DejaVuSans-121\"/>\n       </defs>\n       <use xlink:href=\"#DejaVuSans-100\"/>\n       <use x=\"63.476562\" xlink:href=\"#DejaVuSans-97\"/>\n       <use x=\"124.755859\" xlink:href=\"#DejaVuSans-110\"/>\n       <use x=\"188.134766\" xlink:href=\"#DejaVuSans-99\"/>\n       <use x=\"243.115234\" xlink:href=\"#DejaVuSans-101\"/>\n       <use x=\"304.638672\" xlink:href=\"#DejaVuSans-97\"/>\n       <use x=\"365.917969\" xlink:href=\"#DejaVuSans-98\"/>\n       <use x=\"429.394531\" xlink:href=\"#DejaVuSans-105\"/>\n       <use x=\"457.177734\" xlink:href=\"#DejaVuSans-108\"/>\n       <use x=\"484.960938\" xlink:href=\"#DejaVuSans-105\"/>\n       <use x=\"512.744141\" xlink:href=\"#DejaVuSans-116\"/>\n       <use x=\"551.953125\" xlink:href=\"#DejaVuSans-121\"/>\n      </g>\n     </g>\n    </g>\n    <g id=\"xtick_2\">\n     <g id=\"text_2\">\n      <!-- energy -->\n      <g style=\"fill:#262626;\" transform=\"translate(109.201444 297.412587)rotate(-45)scale(0.1 -0.1)\">\n       <defs>\n        <path d=\"M 41.109375 46.296875 \nQ 39.59375 47.171875 37.8125 47.578125 \nQ 36.03125 48 33.890625 48 \nQ 26.265625 48 22.1875 43.046875 \nQ 18.109375 38.09375 18.109375 28.8125 \nL 18.109375 0 \nL 9.078125 0 \nL 9.078125 54.6875 \nL 18.109375 54.6875 \nL 18.109375 46.1875 \nQ 20.953125 51.171875 25.484375 53.578125 \nQ 30.03125 56 36.53125 56 \nQ 37.453125 56 38.578125 55.875 \nQ 39.703125 55.765625 41.0625 55.515625 \nz\n\" id=\"DejaVuSans-114\"/>\n        <path d=\"M 45.40625 27.984375 \nQ 45.40625 37.75 41.375 43.109375 \nQ 37.359375 48.484375 30.078125 48.484375 \nQ 22.859375 48.484375 18.828125 43.109375 \nQ 14.796875 37.75 14.796875 27.984375 \nQ 14.796875 18.265625 18.828125 12.890625 \nQ 22.859375 7.515625 30.078125 7.515625 \nQ 37.359375 7.515625 41.375 12.890625 \nQ 45.40625 18.265625 45.40625 27.984375 \nz\nM 54.390625 6.78125 \nQ 54.390625 -7.171875 48.1875 -13.984375 \nQ 42 -20.796875 29.203125 -20.796875 \nQ 24.46875 -20.796875 20.265625 -20.09375 \nQ 16.0625 -19.390625 12.109375 -17.921875 \nL 12.109375 -9.1875 \nQ 16.0625 -11.328125 19.921875 -12.34375 \nQ 23.78125 -13.375 27.78125 -13.375 \nQ 36.625 -13.375 41.015625 -8.765625 \nQ 45.40625 -4.15625 45.40625 5.171875 \nL 45.40625 9.625 \nQ 42.625 4.78125 38.28125 2.390625 \nQ 33.9375 0 27.875 0 \nQ 17.828125 0 11.671875 7.65625 \nQ 5.515625 15.328125 5.515625 27.984375 \nQ 5.515625 40.671875 11.671875 48.328125 \nQ 17.828125 56 27.875 56 \nQ 33.9375 56 38.28125 53.609375 \nQ 42.625 51.21875 45.40625 46.390625 \nL 45.40625 54.6875 \nL 54.390625 54.6875 \nz\n\" id=\"DejaVuSans-103\"/>\n       </defs>\n       <use xlink:href=\"#DejaVuSans-101\"/>\n       <use x=\"61.523438\" xlink:href=\"#DejaVuSans-110\"/>\n       <use x=\"124.902344\" xlink:href=\"#DejaVuSans-101\"/>\n       <use x=\"186.425781\" xlink:href=\"#DejaVuSans-114\"/>\n       <use x=\"225.789062\" xlink:href=\"#DejaVuSans-103\"/>\n       <use x=\"289.265625\" xlink:href=\"#DejaVuSans-121\"/>\n      </g>\n     </g>\n    </g>\n    <g id=\"xtick_3\">\n     <g id=\"text_3\">\n      <!-- key -->\n      <g style=\"fill:#262626;\" transform=\"translate(144.435223 285.146494)rotate(-45)scale(0.1 -0.1)\">\n       <defs>\n        <path d=\"M 9.078125 75.984375 \nL 18.109375 75.984375 \nL 18.109375 31.109375 \nL 44.921875 54.6875 \nL 56.390625 54.6875 \nL 27.390625 29.109375 \nL 57.625 0 \nL 45.90625 0 \nL 18.109375 26.703125 \nL 18.109375 0 \nL 9.078125 0 \nz\n\" id=\"DejaVuSans-107\"/>\n       </defs>\n       <use xlink:href=\"#DejaVuSans-107\"/>\n       <use x=\"54.285156\" xlink:href=\"#DejaVuSans-101\"/>\n       <use x=\"115.808594\" xlink:href=\"#DejaVuSans-121\"/>\n      </g>\n     </g>\n    </g>\n    <g id=\"xtick_4\">\n     <g id=\"text_4\">\n      <!-- loudness -->\n      <g style=\"fill:#262626;\" transform=\"translate(148.31655 304.232853)rotate(-45)scale(0.1 -0.1)\">\n       <defs>\n        <path d=\"M 30.609375 48.390625 \nQ 23.390625 48.390625 19.1875 42.75 \nQ 14.984375 37.109375 14.984375 27.296875 \nQ 14.984375 17.484375 19.15625 11.84375 \nQ 23.34375 6.203125 30.609375 6.203125 \nQ 37.796875 6.203125 41.984375 11.859375 \nQ 46.1875 17.53125 46.1875 27.296875 \nQ 46.1875 37.015625 41.984375 42.703125 \nQ 37.796875 48.390625 30.609375 48.390625 \nz\nM 30.609375 56 \nQ 42.328125 56 49.015625 48.375 \nQ 55.71875 40.765625 55.71875 27.296875 \nQ 55.71875 13.875 49.015625 6.21875 \nQ 42.328125 -1.421875 30.609375 -1.421875 \nQ 18.84375 -1.421875 12.171875 6.21875 \nQ 5.515625 13.875 5.515625 27.296875 \nQ 5.515625 40.765625 12.171875 48.375 \nQ 18.84375 56 30.609375 56 \nz\n\" id=\"DejaVuSans-111\"/>\n        <path d=\"M 8.5 21.578125 \nL 8.5 54.6875 \nL 17.484375 54.6875 \nL 17.484375 21.921875 \nQ 17.484375 14.15625 20.5 10.265625 \nQ 23.53125 6.390625 29.59375 6.390625 \nQ 36.859375 6.390625 41.078125 11.03125 \nQ 45.3125 15.671875 45.3125 23.6875 \nL 45.3125 54.6875 \nL 54.296875 54.6875 \nL 54.296875 0 \nL 45.3125 0 \nL 45.3125 8.40625 \nQ 42.046875 3.421875 37.71875 1 \nQ 33.40625 -1.421875 27.6875 -1.421875 \nQ 18.265625 -1.421875 13.375 4.4375 \nQ 8.5 10.296875 8.5 21.578125 \nz\nM 31.109375 56 \nz\n\" id=\"DejaVuSans-117\"/>\n        <path d=\"M 44.28125 53.078125 \nL 44.28125 44.578125 \nQ 40.484375 46.53125 36.375 47.5 \nQ 32.28125 48.484375 27.875 48.484375 \nQ 21.1875 48.484375 17.84375 46.4375 \nQ 14.5 44.390625 14.5 40.28125 \nQ 14.5 37.15625 16.890625 35.375 \nQ 19.28125 33.59375 26.515625 31.984375 \nL 29.59375 31.296875 \nQ 39.15625 29.25 43.1875 25.515625 \nQ 47.21875 21.78125 47.21875 15.09375 \nQ 47.21875 7.46875 41.1875 3.015625 \nQ 35.15625 -1.421875 24.609375 -1.421875 \nQ 20.21875 -1.421875 15.453125 -0.5625 \nQ 10.6875 0.296875 5.421875 2 \nL 5.421875 11.28125 \nQ 10.40625 8.6875 15.234375 7.390625 \nQ 20.0625 6.109375 24.8125 6.109375 \nQ 31.15625 6.109375 34.5625 8.28125 \nQ 37.984375 10.453125 37.984375 14.40625 \nQ 37.984375 18.0625 35.515625 20.015625 \nQ 33.0625 21.96875 24.703125 23.78125 \nL 21.578125 24.515625 \nQ 13.234375 26.265625 9.515625 29.90625 \nQ 5.8125 33.546875 5.8125 39.890625 \nQ 5.8125 47.609375 11.28125 51.796875 \nQ 16.75 56 26.8125 56 \nQ 31.78125 56 36.171875 55.265625 \nQ 40.578125 54.546875 44.28125 53.078125 \nz\n\" id=\"DejaVuSans-115\"/>\n       </defs>\n       <use xlink:href=\"#DejaVuSans-108\"/>\n       <use x=\"27.783203\" xlink:href=\"#DejaVuSans-111\"/>\n       <use x=\"88.964844\" xlink:href=\"#DejaVuSans-117\"/>\n       <use x=\"152.34375\" xlink:href=\"#DejaVuSans-100\"/>\n       <use x=\"215.820312\" xlink:href=\"#DejaVuSans-110\"/>\n       <use x=\"279.199219\" xlink:href=\"#DejaVuSans-101\"/>\n       <use x=\"340.722656\" xlink:href=\"#DejaVuSans-115\"/>\n       <use x=\"392.822266\" xlink:href=\"#DejaVuSans-115\"/>\n      </g>\n     </g>\n    </g>\n    <g id=\"xtick_5\">\n     <g id=\"text_5\">\n      <!-- mode -->\n      <g style=\"fill:#262626;\" transform=\"translate(182.690752 292.826337)rotate(-45)scale(0.1 -0.1)\">\n       <defs>\n        <path d=\"M 52 44.1875 \nQ 55.375 50.25 60.0625 53.125 \nQ 64.75 56 71.09375 56 \nQ 79.640625 56 84.28125 50.015625 \nQ 88.921875 44.046875 88.921875 33.015625 \nL 88.921875 0 \nL 79.890625 0 \nL 79.890625 32.71875 \nQ 79.890625 40.578125 77.09375 44.375 \nQ 74.3125 48.1875 68.609375 48.1875 \nQ 61.625 48.1875 57.5625 43.546875 \nQ 53.515625 38.921875 53.515625 30.90625 \nL 53.515625 0 \nL 44.484375 0 \nL 44.484375 32.71875 \nQ 44.484375 40.625 41.703125 44.40625 \nQ 38.921875 48.1875 33.109375 48.1875 \nQ 26.21875 48.1875 22.15625 43.53125 \nQ 18.109375 38.875 18.109375 30.90625 \nL 18.109375 0 \nL 9.078125 0 \nL 9.078125 54.6875 \nL 18.109375 54.6875 \nL 18.109375 46.1875 \nQ 21.1875 51.21875 25.484375 53.609375 \nQ 29.78125 56 35.6875 56 \nQ 41.65625 56 45.828125 52.96875 \nQ 50 49.953125 52 44.1875 \nz\n\" id=\"DejaVuSans-109\"/>\n       </defs>\n       <use xlink:href=\"#DejaVuSans-109\"/>\n       <use x=\"97.412109\" xlink:href=\"#DejaVuSans-111\"/>\n       <use x=\"158.59375\" xlink:href=\"#DejaVuSans-100\"/>\n       <use x=\"222.070312\" xlink:href=\"#DejaVuSans-101\"/>\n      </g>\n     </g>\n    </g>\n    <g id=\"xtick_6\">\n     <g id=\"text_6\">\n      <!-- speechiness -->\n      <g style=\"fill:#262626;\" transform=\"translate(182.305132 316.179643)rotate(-45)scale(0.1 -0.1)\">\n       <defs>\n        <path d=\"M 18.109375 8.203125 \nL 18.109375 -20.796875 \nL 9.078125 -20.796875 \nL 9.078125 54.6875 \nL 18.109375 54.6875 \nL 18.109375 46.390625 \nQ 20.953125 51.265625 25.265625 53.625 \nQ 29.59375 56 35.59375 56 \nQ 45.5625 56 51.78125 48.09375 \nQ 58.015625 40.1875 58.015625 27.296875 \nQ 58.015625 14.40625 51.78125 6.484375 \nQ 45.5625 -1.421875 35.59375 -1.421875 \nQ 29.59375 -1.421875 25.265625 0.953125 \nQ 20.953125 3.328125 18.109375 8.203125 \nz\nM 48.6875 27.296875 \nQ 48.6875 37.203125 44.609375 42.84375 \nQ 40.53125 48.484375 33.40625 48.484375 \nQ 26.265625 48.484375 22.1875 42.84375 \nQ 18.109375 37.203125 18.109375 27.296875 \nQ 18.109375 17.390625 22.1875 11.75 \nQ 26.265625 6.109375 33.40625 6.109375 \nQ 40.53125 6.109375 44.609375 11.75 \nQ 48.6875 17.390625 48.6875 27.296875 \nz\n\" id=\"DejaVuSans-112\"/>\n        <path d=\"M 54.890625 33.015625 \nL 54.890625 0 \nL 45.90625 0 \nL 45.90625 32.71875 \nQ 45.90625 40.484375 42.875 44.328125 \nQ 39.84375 48.1875 33.796875 48.1875 \nQ 26.515625 48.1875 22.3125 43.546875 \nQ 18.109375 38.921875 18.109375 30.90625 \nL 18.109375 0 \nL 9.078125 0 \nL 9.078125 75.984375 \nL 18.109375 75.984375 \nL 18.109375 46.1875 \nQ 21.34375 51.125 25.703125 53.5625 \nQ 30.078125 56 35.796875 56 \nQ 45.21875 56 50.046875 50.171875 \nQ 54.890625 44.34375 54.890625 33.015625 \nz\n\" id=\"DejaVuSans-104\"/>\n       </defs>\n       <use xlink:href=\"#DejaVuSans-115\"/>\n       <use x=\"52.099609\" xlink:href=\"#DejaVuSans-112\"/>\n       <use x=\"115.576172\" xlink:href=\"#DejaVuSans-101\"/>\n       <use x=\"177.099609\" xlink:href=\"#DejaVuSans-101\"/>\n       <use x=\"238.623047\" xlink:href=\"#DejaVuSans-99\"/>\n       <use x=\"293.603516\" xlink:href=\"#DejaVuSans-104\"/>\n       <use x=\"356.982422\" xlink:href=\"#DejaVuSans-105\"/>\n       <use x=\"384.765625\" xlink:href=\"#DejaVuSans-110\"/>\n       <use x=\"448.144531\" xlink:href=\"#DejaVuSans-101\"/>\n       <use x=\"509.667969\" xlink:href=\"#DejaVuSans-115\"/>\n       <use x=\"561.767578\" xlink:href=\"#DejaVuSans-115\"/>\n      </g>\n     </g>\n    </g>\n    <g id=\"xtick_7\">\n     <g id=\"text_7\">\n      <!-- acousticness -->\n      <g style=\"fill:#262626;\" transform=\"translate(203.143763 318.308697)rotate(-45)scale(0.1 -0.1)\">\n       <use xlink:href=\"#DejaVuSans-97\"/>\n       <use x=\"61.279297\" xlink:href=\"#DejaVuSans-99\"/>\n       <use x=\"116.259766\" xlink:href=\"#DejaVuSans-111\"/>\n       <use x=\"177.441406\" xlink:href=\"#DejaVuSans-117\"/>\n       <use x=\"240.820312\" xlink:href=\"#DejaVuSans-115\"/>\n       <use x=\"292.919922\" xlink:href=\"#DejaVuSans-116\"/>\n       <use x=\"332.128906\" xlink:href=\"#DejaVuSans-105\"/>\n       <use x=\"359.912109\" xlink:href=\"#DejaVuSans-99\"/>\n       <use x=\"414.892578\" xlink:href=\"#DejaVuSans-110\"/>\n       <use x=\"478.271484\" xlink:href=\"#DejaVuSans-101\"/>\n       <use x=\"539.794922\" xlink:href=\"#DejaVuSans-115\"/>\n       <use x=\"591.894531\" xlink:href=\"#DejaVuSans-115\"/>\n      </g>\n     </g>\n    </g>\n    <g id=\"xtick_8\">\n     <g id=\"text_8\">\n      <!-- instrumentalness -->\n      <g style=\"fill:#262626;\" transform=\"translate(210.369484 334.050662)rotate(-45)scale(0.1 -0.1)\">\n       <use xlink:href=\"#DejaVuSans-105\"/>\n       <use x=\"27.783203\" xlink:href=\"#DejaVuSans-110\"/>\n       <use x=\"91.162109\" xlink:href=\"#DejaVuSans-115\"/>\n       <use x=\"143.261719\" xlink:href=\"#DejaVuSans-116\"/>\n       <use x=\"182.470703\" xlink:href=\"#DejaVuSans-114\"/>\n       <use x=\"223.583984\" xlink:href=\"#DejaVuSans-117\"/>\n       <use x=\"286.962891\" xlink:href=\"#DejaVuSans-109\"/>\n       <use x=\"384.375\" xlink:href=\"#DejaVuSans-101\"/>\n       <use x=\"445.898438\" xlink:href=\"#DejaVuSans-110\"/>\n       <use x=\"509.277344\" xlink:href=\"#DejaVuSans-116\"/>\n       <use x=\"548.486328\" xlink:href=\"#DejaVuSans-97\"/>\n       <use x=\"609.765625\" xlink:href=\"#DejaVuSans-108\"/>\n       <use x=\"637.548828\" xlink:href=\"#DejaVuSans-110\"/>\n       <use x=\"700.927734\" xlink:href=\"#DejaVuSans-101\"/>\n       <use x=\"762.451172\" xlink:href=\"#DejaVuSans-115\"/>\n       <use x=\"814.550781\" xlink:href=\"#DejaVuSans-115\"/>\n      </g>\n     </g>\n    </g>\n    <g id=\"xtick_9\">\n     <g id=\"text_9\">\n      <!-- liveness -->\n      <g style=\"fill:#262626;\" transform=\"translate(265.951366 301.436467)rotate(-45)scale(0.1 -0.1)\">\n       <defs>\n        <path d=\"M 2.984375 54.6875 \nL 12.5 54.6875 \nL 29.59375 8.796875 \nL 46.6875 54.6875 \nL 56.203125 54.6875 \nL 35.6875 0 \nL 23.484375 0 \nz\n\" id=\"DejaVuSans-118\"/>\n       </defs>\n       <use xlink:href=\"#DejaVuSans-108\"/>\n       <use x=\"27.783203\" xlink:href=\"#DejaVuSans-105\"/>\n       <use x=\"55.566406\" xlink:href=\"#DejaVuSans-118\"/>\n       <use x=\"114.746094\" xlink:href=\"#DejaVuSans-101\"/>\n       <use x=\"176.269531\" xlink:href=\"#DejaVuSans-110\"/>\n       <use x=\"239.648438\" xlink:href=\"#DejaVuSans-101\"/>\n       <use x=\"301.171875\" xlink:href=\"#DejaVuSans-115\"/>\n       <use x=\"353.271484\" xlink:href=\"#DejaVuSans-115\"/>\n      </g>\n     </g>\n    </g>\n    <g id=\"xtick_10\">\n     <g id=\"text_10\">\n      <!-- valence -->\n      <g style=\"fill:#262626;\" transform=\"translate(290.02943 300.326088)rotate(-45)scale(0.1 -0.1)\">\n       <use xlink:href=\"#DejaVuSans-118\"/>\n       <use x=\"59.179688\" xlink:href=\"#DejaVuSans-97\"/>\n       <use x=\"120.458984\" xlink:href=\"#DejaVuSans-108\"/>\n       <use x=\"148.242188\" xlink:href=\"#DejaVuSans-101\"/>\n       <use x=\"209.765625\" xlink:href=\"#DejaVuSans-110\"/>\n       <use x=\"273.144531\" xlink:href=\"#DejaVuSans-99\"/>\n       <use x=\"328.125\" xlink:href=\"#DejaVuSans-101\"/>\n      </g>\n     </g>\n    </g>\n    <g id=\"xtick_11\">\n     <g id=\"text_11\">\n      <!-- tempo -->\n      <g style=\"fill:#262626;\" transform=\"translate(317.724788 295.598416)rotate(-45)scale(0.1 -0.1)\">\n       <use xlink:href=\"#DejaVuSans-116\"/>\n       <use x=\"39.208984\" xlink:href=\"#DejaVuSans-101\"/>\n       <use x=\"100.732422\" xlink:href=\"#DejaVuSans-109\"/>\n       <use x=\"198.144531\" xlink:href=\"#DejaVuSans-112\"/>\n       <use x=\"261.621094\" xlink:href=\"#DejaVuSans-111\"/>\n      </g>\n     </g>\n    </g>\n    <g id=\"xtick_12\">\n     <g id=\"line2d_1\">\n      <path clip-path=\"url(#pf85ad7f6e8)\" d=\"M 100.860938 260.399219 \nL 100.860938 10.999219 \n\" style=\"fill:none;stroke:#ffffff;stroke-linecap:round;stroke-width:0.8;\"/>\n     </g>\n    </g>\n    <g id=\"xtick_13\">\n     <g id=\"line2d_2\">\n      <path clip-path=\"url(#pf85ad7f6e8)\" d=\"M 123.828623 260.399219 \nL 123.828623 10.999219 \n\" style=\"fill:none;stroke:#ffffff;stroke-linecap:round;stroke-width:0.8;\"/>\n     </g>\n    </g>\n    <g id=\"xtick_14\">\n     <g id=\"line2d_3\">\n      <path clip-path=\"url(#pf85ad7f6e8)\" d=\"M 146.796309 260.399219 \nL 146.796309 10.999219 \n\" style=\"fill:none;stroke:#ffffff;stroke-linecap:round;stroke-width:0.8;\"/>\n     </g>\n    </g>\n    <g id=\"xtick_15\">\n     <g id=\"line2d_4\">\n      <path clip-path=\"url(#pf85ad7f6e8)\" d=\"M 169.763995 260.399219 \nL 169.763995 10.999219 \n\" style=\"fill:none;stroke:#ffffff;stroke-linecap:round;stroke-width:0.8;\"/>\n     </g>\n    </g>\n    <g id=\"xtick_16\">\n     <g id=\"line2d_5\">\n      <path clip-path=\"url(#pf85ad7f6e8)\" d=\"M 192.731681 260.399219 \nL 192.731681 10.999219 \n\" style=\"fill:none;stroke:#ffffff;stroke-linecap:round;stroke-width:0.8;\"/>\n     </g>\n    </g>\n    <g id=\"xtick_17\">\n     <g id=\"line2d_6\">\n      <path clip-path=\"url(#pf85ad7f6e8)\" d=\"M 215.699367 260.399219 \nL 215.699367 10.999219 \n\" style=\"fill:none;stroke:#ffffff;stroke-linecap:round;stroke-width:0.8;\"/>\n     </g>\n    </g>\n    <g id=\"xtick_18\">\n     <g id=\"line2d_7\">\n      <path clip-path=\"url(#pf85ad7f6e8)\" d=\"M 238.667053 260.399219 \nL 238.667053 10.999219 \n\" style=\"fill:none;stroke:#ffffff;stroke-linecap:round;stroke-width:0.8;\"/>\n     </g>\n    </g>\n    <g id=\"xtick_19\">\n     <g id=\"line2d_8\">\n      <path clip-path=\"url(#pf85ad7f6e8)\" d=\"M 261.634739 260.399219 \nL 261.634739 10.999219 \n\" style=\"fill:none;stroke:#ffffff;stroke-linecap:round;stroke-width:0.8;\"/>\n     </g>\n    </g>\n    <g id=\"xtick_20\">\n     <g id=\"line2d_9\">\n      <path clip-path=\"url(#pf85ad7f6e8)\" d=\"M 284.602425 260.399219 \nL 284.602425 10.999219 \n\" style=\"fill:none;stroke:#ffffff;stroke-linecap:round;stroke-width:0.8;\"/>\n     </g>\n    </g>\n    <g id=\"xtick_21\">\n     <g id=\"line2d_10\">\n      <path clip-path=\"url(#pf85ad7f6e8)\" d=\"M 307.570111 260.399219 \nL 307.570111 10.999219 \n\" style=\"fill:none;stroke:#ffffff;stroke-linecap:round;stroke-width:0.8;\"/>\n     </g>\n    </g>\n    <g id=\"xtick_22\">\n     <g id=\"line2d_11\">\n      <path clip-path=\"url(#pf85ad7f6e8)\" d=\"M 330.537797 260.399219 \nL 330.537797 10.999219 \n\" style=\"fill:none;stroke:#ffffff;stroke-linecap:round;stroke-width:0.8;\"/>\n     </g>\n    </g>\n    <g id=\"xtick_23\">\n     <g id=\"line2d_12\">\n      <path clip-path=\"url(#pf85ad7f6e8)\" d=\"M 353.505483 260.399219 \nL 353.505483 10.999219 \n\" style=\"fill:none;stroke:#ffffff;stroke-linecap:round;stroke-width:0.8;\"/>\n     </g>\n    </g>\n   </g>\n   <g id=\"matplotlib.axis_2\">\n    <g id=\"ytick_1\">\n     <g id=\"text_12\">\n      <!-- danceability -->\n      <g style=\"fill:#262626;\" transform=\"translate(32.745313 26.134801)scale(0.1 -0.1)\">\n       <use xlink:href=\"#DejaVuSans-100\"/>\n       <use x=\"63.476562\" xlink:href=\"#DejaVuSans-97\"/>\n       <use x=\"124.755859\" xlink:href=\"#DejaVuSans-110\"/>\n       <use x=\"188.134766\" xlink:href=\"#DejaVuSans-99\"/>\n       <use x=\"243.115234\" xlink:href=\"#DejaVuSans-101\"/>\n       <use x=\"304.638672\" xlink:href=\"#DejaVuSans-97\"/>\n       <use x=\"365.917969\" xlink:href=\"#DejaVuSans-98\"/>\n       <use x=\"429.394531\" xlink:href=\"#DejaVuSans-105\"/>\n       <use x=\"457.177734\" xlink:href=\"#DejaVuSans-108\"/>\n       <use x=\"484.960938\" xlink:href=\"#DejaVuSans-105\"/>\n       <use x=\"512.744141\" xlink:href=\"#DejaVuSans-116\"/>\n       <use x=\"551.953125\" xlink:href=\"#DejaVuSans-121\"/>\n      </g>\n     </g>\n    </g>\n    <g id=\"ytick_2\">\n     <g id=\"text_13\">\n      <!-- energy -->\n      <g style=\"fill:#262626;\" transform=\"translate(59.014063 48.807528)scale(0.1 -0.1)\">\n       <use xlink:href=\"#DejaVuSans-101\"/>\n       <use x=\"61.523438\" xlink:href=\"#DejaVuSans-110\"/>\n       <use x=\"124.902344\" xlink:href=\"#DejaVuSans-101\"/>\n       <use x=\"186.425781\" xlink:href=\"#DejaVuSans-114\"/>\n       <use x=\"225.789062\" xlink:href=\"#DejaVuSans-103\"/>\n       <use x=\"289.265625\" xlink:href=\"#DejaVuSans-121\"/>\n      </g>\n     </g>\n    </g>\n    <g id=\"ytick_3\">\n     <g id=\"text_14\">\n      <!-- key -->\n      <g style=\"fill:#262626;\" transform=\"translate(76.360938 71.480256)scale(0.1 -0.1)\">\n       <use xlink:href=\"#DejaVuSans-107\"/>\n       <use x=\"54.285156\" xlink:href=\"#DejaVuSans-101\"/>\n       <use x=\"115.808594\" xlink:href=\"#DejaVuSans-121\"/>\n      </g>\n     </g>\n    </g>\n    <g id=\"ytick_4\">\n     <g id=\"text_15\">\n      <!-- loudness -->\n      <g style=\"fill:#262626;\" transform=\"translate(49.36875 94.152983)scale(0.1 -0.1)\">\n       <use xlink:href=\"#DejaVuSans-108\"/>\n       <use x=\"27.783203\" xlink:href=\"#DejaVuSans-111\"/>\n       <use x=\"88.964844\" xlink:href=\"#DejaVuSans-117\"/>\n       <use x=\"152.34375\" xlink:href=\"#DejaVuSans-100\"/>\n       <use x=\"215.820312\" xlink:href=\"#DejaVuSans-110\"/>\n       <use x=\"279.199219\" xlink:href=\"#DejaVuSans-101\"/>\n       <use x=\"340.722656\" xlink:href=\"#DejaVuSans-115\"/>\n       <use x=\"392.822266\" xlink:href=\"#DejaVuSans-115\"/>\n      </g>\n     </g>\n    </g>\n    <g id=\"ytick_5\">\n     <g id=\"text_16\">\n      <!-- mode -->\n      <g style=\"fill:#262626;\" transform=\"translate(65.5 116.82571)scale(0.1 -0.1)\">\n       <use xlink:href=\"#DejaVuSans-109\"/>\n       <use x=\"97.412109\" xlink:href=\"#DejaVuSans-111\"/>\n       <use x=\"158.59375\" xlink:href=\"#DejaVuSans-100\"/>\n       <use x=\"222.070312\" xlink:href=\"#DejaVuSans-101\"/>\n      </g>\n     </g>\n    </g>\n    <g id=\"ytick_6\">\n     <g id=\"text_17\">\n      <!-- speechiness -->\n      <g style=\"fill:#262626;\" transform=\"translate(32.473438 139.498437)scale(0.1 -0.1)\">\n       <use xlink:href=\"#DejaVuSans-115\"/>\n       <use x=\"52.099609\" xlink:href=\"#DejaVuSans-112\"/>\n       <use x=\"115.576172\" xlink:href=\"#DejaVuSans-101\"/>\n       <use x=\"177.099609\" xlink:href=\"#DejaVuSans-101\"/>\n       <use x=\"238.623047\" xlink:href=\"#DejaVuSans-99\"/>\n       <use x=\"293.603516\" xlink:href=\"#DejaVuSans-104\"/>\n       <use x=\"356.982422\" xlink:href=\"#DejaVuSans-105\"/>\n       <use x=\"384.765625\" xlink:href=\"#DejaVuSans-110\"/>\n       <use x=\"448.144531\" xlink:href=\"#DejaVuSans-101\"/>\n       <use x=\"509.667969\" xlink:href=\"#DejaVuSans-115\"/>\n       <use x=\"561.767578\" xlink:href=\"#DejaVuSans-115\"/>\n      </g>\n     </g>\n    </g>\n    <g id=\"ytick_7\">\n     <g id=\"text_18\">\n      <!-- acousticness -->\n      <g style=\"fill:#262626;\" transform=\"translate(29.4625 162.171165)scale(0.1 -0.1)\">\n       <use xlink:href=\"#DejaVuSans-97\"/>\n       <use x=\"61.279297\" xlink:href=\"#DejaVuSans-99\"/>\n       <use x=\"116.259766\" xlink:href=\"#DejaVuSans-111\"/>\n       <use x=\"177.441406\" xlink:href=\"#DejaVuSans-117\"/>\n       <use x=\"240.820312\" xlink:href=\"#DejaVuSans-115\"/>\n       <use x=\"292.919922\" xlink:href=\"#DejaVuSans-116\"/>\n       <use x=\"332.128906\" xlink:href=\"#DejaVuSans-105\"/>\n       <use x=\"359.912109\" xlink:href=\"#DejaVuSans-99\"/>\n       <use x=\"414.892578\" xlink:href=\"#DejaVuSans-110\"/>\n       <use x=\"478.271484\" xlink:href=\"#DejaVuSans-101\"/>\n       <use x=\"539.794922\" xlink:href=\"#DejaVuSans-115\"/>\n       <use x=\"591.894531\" xlink:href=\"#DejaVuSans-115\"/>\n      </g>\n     </g>\n    </g>\n    <g id=\"ytick_8\">\n     <g id=\"text_19\">\n      <!-- instrumentalness -->\n      <g style=\"fill:#262626;\" transform=\"translate(7.2 184.843892)scale(0.1 -0.1)\">\n       <use xlink:href=\"#DejaVuSans-105\"/>\n       <use x=\"27.783203\" xlink:href=\"#DejaVuSans-110\"/>\n       <use x=\"91.162109\" xlink:href=\"#DejaVuSans-115\"/>\n       <use x=\"143.261719\" xlink:href=\"#DejaVuSans-116\"/>\n       <use x=\"182.470703\" xlink:href=\"#DejaVuSans-114\"/>\n       <use x=\"223.583984\" xlink:href=\"#DejaVuSans-117\"/>\n       <use x=\"286.962891\" xlink:href=\"#DejaVuSans-109\"/>\n       <use x=\"384.375\" xlink:href=\"#DejaVuSans-101\"/>\n       <use x=\"445.898438\" xlink:href=\"#DejaVuSans-110\"/>\n       <use x=\"509.277344\" xlink:href=\"#DejaVuSans-116\"/>\n       <use x=\"548.486328\" xlink:href=\"#DejaVuSans-97\"/>\n       <use x=\"609.765625\" xlink:href=\"#DejaVuSans-108\"/>\n       <use x=\"637.548828\" xlink:href=\"#DejaVuSans-110\"/>\n       <use x=\"700.927734\" xlink:href=\"#DejaVuSans-101\"/>\n       <use x=\"762.451172\" xlink:href=\"#DejaVuSans-115\"/>\n       <use x=\"814.550781\" xlink:href=\"#DejaVuSans-115\"/>\n      </g>\n     </g>\n    </g>\n    <g id=\"ytick_9\">\n     <g id=\"text_20\">\n      <!-- liveness -->\n      <g style=\"fill:#262626;\" transform=\"translate(53.323438 207.516619)scale(0.1 -0.1)\">\n       <use xlink:href=\"#DejaVuSans-108\"/>\n       <use x=\"27.783203\" xlink:href=\"#DejaVuSans-105\"/>\n       <use x=\"55.566406\" xlink:href=\"#DejaVuSans-118\"/>\n       <use x=\"114.746094\" xlink:href=\"#DejaVuSans-101\"/>\n       <use x=\"176.269531\" xlink:href=\"#DejaVuSans-110\"/>\n       <use x=\"239.648438\" xlink:href=\"#DejaVuSans-101\"/>\n       <use x=\"301.171875\" xlink:href=\"#DejaVuSans-115\"/>\n       <use x=\"353.271484\" xlink:href=\"#DejaVuSans-115\"/>\n      </g>\n     </g>\n    </g>\n    <g id=\"ytick_10\">\n     <g id=\"text_21\">\n      <!-- valence -->\n      <g style=\"fill:#262626;\" transform=\"translate(54.89375 230.189347)scale(0.1 -0.1)\">\n       <use xlink:href=\"#DejaVuSans-118\"/>\n       <use x=\"59.179688\" xlink:href=\"#DejaVuSans-97\"/>\n       <use x=\"120.458984\" xlink:href=\"#DejaVuSans-108\"/>\n       <use x=\"148.242188\" xlink:href=\"#DejaVuSans-101\"/>\n       <use x=\"209.765625\" xlink:href=\"#DejaVuSans-110\"/>\n       <use x=\"273.144531\" xlink:href=\"#DejaVuSans-99\"/>\n       <use x=\"328.125\" xlink:href=\"#DejaVuSans-101\"/>\n      </g>\n     </g>\n    </g>\n    <g id=\"ytick_11\">\n     <g id=\"text_22\">\n      <!-- tempo -->\n      <g style=\"fill:#262626;\" transform=\"translate(61.579688 252.862074)scale(0.1 -0.1)\">\n       <use xlink:href=\"#DejaVuSans-116\"/>\n       <use x=\"39.208984\" xlink:href=\"#DejaVuSans-101\"/>\n       <use x=\"100.732422\" xlink:href=\"#DejaVuSans-109\"/>\n       <use x=\"198.144531\" xlink:href=\"#DejaVuSans-112\"/>\n       <use x=\"261.621094\" xlink:href=\"#DejaVuSans-111\"/>\n      </g>\n     </g>\n    </g>\n    <g id=\"ytick_12\">\n     <g id=\"line2d_13\">\n      <path clip-path=\"url(#pf85ad7f6e8)\" d=\"M 100.860938 10.999219 \nL 353.505483 10.999219 \n\" style=\"fill:none;stroke:#ffffff;stroke-linecap:round;stroke-width:0.8;\"/>\n     </g>\n    </g>\n    <g id=\"ytick_13\">\n     <g id=\"line2d_14\">\n      <path clip-path=\"url(#pf85ad7f6e8)\" d=\"M 100.860938 33.671946 \nL 353.505483 33.671946 \n\" style=\"fill:none;stroke:#ffffff;stroke-linecap:round;stroke-width:0.8;\"/>\n     </g>\n    </g>\n    <g id=\"ytick_14\">\n     <g id=\"line2d_15\">\n      <path clip-path=\"url(#pf85ad7f6e8)\" d=\"M 100.860938 56.344673 \nL 353.505483 56.344673 \n\" style=\"fill:none;stroke:#ffffff;stroke-linecap:round;stroke-width:0.8;\"/>\n     </g>\n    </g>\n    <g id=\"ytick_15\">\n     <g id=\"line2d_16\">\n      <path clip-path=\"url(#pf85ad7f6e8)\" d=\"M 100.860938 79.017401 \nL 353.505483 79.017401 \n\" style=\"fill:none;stroke:#ffffff;stroke-linecap:round;stroke-width:0.8;\"/>\n     </g>\n    </g>\n    <g id=\"ytick_16\">\n     <g id=\"line2d_17\">\n      <path clip-path=\"url(#pf85ad7f6e8)\" d=\"M 100.860938 101.690128 \nL 353.505483 101.690128 \n\" style=\"fill:none;stroke:#ffffff;stroke-linecap:round;stroke-width:0.8;\"/>\n     </g>\n    </g>\n    <g id=\"ytick_17\">\n     <g id=\"line2d_18\">\n      <path clip-path=\"url(#pf85ad7f6e8)\" d=\"M 100.860938 124.362855 \nL 353.505483 124.362855 \n\" style=\"fill:none;stroke:#ffffff;stroke-linecap:round;stroke-width:0.8;\"/>\n     </g>\n    </g>\n    <g id=\"ytick_18\">\n     <g id=\"line2d_19\">\n      <path clip-path=\"url(#pf85ad7f6e8)\" d=\"M 100.860938 147.035582 \nL 353.505483 147.035582 \n\" style=\"fill:none;stroke:#ffffff;stroke-linecap:round;stroke-width:0.8;\"/>\n     </g>\n    </g>\n    <g id=\"ytick_19\">\n     <g id=\"line2d_20\">\n      <path clip-path=\"url(#pf85ad7f6e8)\" d=\"M 100.860938 169.70831 \nL 353.505483 169.70831 \n\" style=\"fill:none;stroke:#ffffff;stroke-linecap:round;stroke-width:0.8;\"/>\n     </g>\n    </g>\n    <g id=\"ytick_20\">\n     <g id=\"line2d_21\">\n      <path clip-path=\"url(#pf85ad7f6e8)\" d=\"M 100.860938 192.381037 \nL 353.505483 192.381037 \n\" style=\"fill:none;stroke:#ffffff;stroke-linecap:round;stroke-width:0.8;\"/>\n     </g>\n    </g>\n    <g id=\"ytick_21\">\n     <g id=\"line2d_22\">\n      <path clip-path=\"url(#pf85ad7f6e8)\" d=\"M 100.860938 215.053764 \nL 353.505483 215.053764 \n\" style=\"fill:none;stroke:#ffffff;stroke-linecap:round;stroke-width:0.8;\"/>\n     </g>\n    </g>\n    <g id=\"ytick_22\">\n     <g id=\"line2d_23\">\n      <path clip-path=\"url(#pf85ad7f6e8)\" d=\"M 100.860938 237.726491 \nL 353.505483 237.726491 \n\" style=\"fill:none;stroke:#ffffff;stroke-linecap:round;stroke-width:0.8;\"/>\n     </g>\n    </g>\n    <g id=\"ytick_23\">\n     <g id=\"line2d_24\">\n      <path clip-path=\"url(#pf85ad7f6e8)\" d=\"M 100.860938 260.399219 \nL 353.505483 260.399219 \n\" style=\"fill:none;stroke:#ffffff;stroke-linecap:round;stroke-width:0.8;\"/>\n     </g>\n    </g>\n   </g>\n   <g id=\"PatchCollection_1\">\n    <path clip-path=\"url(#pf85ad7f6e8)\" d=\"M 112.34478 13.266491 \nC 114.781221 13.266491 117.118199 14.222068 118.841023 15.922767 \nC 120.563847 17.623465 121.531855 19.930431 121.531855 22.335582 \nC 121.531855 24.740733 120.563847 27.047699 118.841023 28.748398 \nC 117.118199 30.449097 114.781221 31.404673 112.34478 31.404673 \nC 109.90834 31.404673 107.571362 30.449097 105.848538 28.748398 \nC 104.125714 27.047699 103.157706 24.740733 103.157706 22.335582 \nC 103.157706 19.930431 104.125714 17.623465 105.848538 15.922767 \nC 107.571362 14.222068 109.90834 13.266491 112.34478 13.266491 \nz\n\" style=\"fill:#3f7f93;fill-opacity:0.8;stroke:#ffffff;stroke-opacity:0.8;\"/>\n    <path clip-path=\"url(#pf85ad7f6e8)\" d=\"M 135.312466 21.433997 \nC 135.55468 21.433997 135.787006 21.528994 135.958277 21.698066 \nC 136.129548 21.867137 136.22578 22.096479 136.22578 22.335582 \nC 136.22578 22.574685 136.129548 22.804028 135.958277 22.973099 \nC 135.787006 23.142171 135.55468 23.237167 135.312466 23.237167 \nC 135.070253 23.237167 134.837927 23.142171 134.666656 22.973099 \nC 134.495385 22.804028 134.399152 22.574685 134.399152 22.335582 \nC 134.399152 22.096479 134.495385 21.867137 134.666656 21.698066 \nC 134.837927 21.528994 135.070253 21.433997 135.312466 21.433997 \nz\n\" style=\"fill:#dfe7ea;fill-opacity:0.8;stroke:#ffffff;stroke-opacity:0.8;\"/>\n    <path clip-path=\"url(#pf85ad7f6e8)\" d=\"M 158.280152 21.588188 \nC 158.480942 21.588188 158.673536 21.666938 158.815516 21.807095 \nC 158.957496 21.947251 159.03727 22.137371 159.03727 22.335582 \nC 159.03727 22.533794 158.957496 22.723914 158.815516 22.86407 \nC 158.673536 23.004227 158.480942 23.082977 158.280152 23.082977 \nC 158.079362 23.082977 157.886769 23.004227 157.744789 22.86407 \nC 157.602809 22.723914 157.523035 22.533794 157.523035 22.335582 \nC 157.523035 22.137371 157.602809 21.947251 157.744789 21.807095 \nC 157.886769 21.666938 158.079362 21.588188 158.280152 21.588188 \nz\n\" style=\"fill:#efe5e2;fill-opacity:0.8;stroke:#ffffff;stroke-opacity:0.8;\"/>\n    <path clip-path=\"url(#pf85ad7f6e8)\" d=\"M 181.247838 21.98471 \nC 181.342101 21.98471 181.432516 22.02168 181.49917 22.087478 \nC 181.565824 22.153276 181.603275 22.24253 181.603275 22.335582 \nC 181.603275 22.428635 181.565824 22.517888 181.49917 22.583686 \nC 181.432516 22.649484 181.342101 22.686455 181.247838 22.686455 \nC 181.153575 22.686455 181.063161 22.649484 180.996507 22.583686 \nC 180.929853 22.517888 180.892402 22.428635 180.892402 22.335582 \nC 180.892402 22.24253 180.929853 22.153276 180.996507 22.087478 \nC 181.063161 22.02168 181.153575 21.98471 181.247838 21.98471 \nz\n\" style=\"fill:#f1eceb;fill-opacity:0.8;stroke:#ffffff;stroke-opacity:0.8;\"/>\n    <path clip-path=\"url(#pf85ad7f6e8)\" d=\"M 204.215524 21.225075 \nC 204.513866 21.225075 204.800028 21.342085 205.010987 21.550335 \nC 205.221946 21.758585 205.340478 22.041072 205.340478 22.335582 \nC 205.340478 22.630092 205.221946 22.912579 205.010987 23.120829 \nC 204.800028 23.329079 204.513866 23.446089 204.215524 23.446089 \nC 203.917183 23.446089 203.631021 23.329079 203.420062 23.120829 \nC 203.209102 22.912579 203.09057 22.630092 203.09057 22.335582 \nC 203.09057 22.041072 203.209102 21.758585 203.420062 21.550335 \nC 203.631021 21.342085 203.917183 21.225075 204.215524 21.225075 \nz\n\" style=\"fill:#eddedb;fill-opacity:0.8;stroke:#ffffff;stroke-opacity:0.8;\"/>\n    <path clip-path=\"url(#pf85ad7f6e8)\" d=\"M 227.18321 18.413922 \nC 228.236777 18.413922 229.247334 18.827133 229.992318 19.56255 \nC 230.737302 20.297967 231.155889 21.295546 231.155889 22.335582 \nC 231.155889 23.375619 230.737302 24.373198 229.992318 25.108615 \nC 229.247334 25.844032 228.236777 26.257242 227.18321 26.257242 \nC 226.129644 26.257242 225.119086 25.844032 224.374102 25.108615 \nC 223.629118 24.373198 223.210532 23.375619 223.210532 22.335582 \nC 223.210532 21.295546 223.629118 20.297967 224.374102 19.56255 \nC 225.119086 18.827133 226.129644 18.413922 227.18321 18.413922 \nz\n\" style=\"fill:#a3c0c9;fill-opacity:0.8;stroke:#ffffff;stroke-opacity:0.8;\"/>\n    <path clip-path=\"url(#pf85ad7f6e8)\" d=\"M 250.150896 17.371864 \nC 251.484415 17.371864 252.763496 17.894873 253.706436 18.825704 \nC 254.649377 19.756534 255.179189 21.019189 255.179189 22.335582 \nC 255.179189 23.651976 254.649377 24.91463 253.706436 25.845461 \nC 252.763496 26.776292 251.484415 27.299301 250.150896 27.299301 \nC 248.817377 27.299301 247.538296 26.776292 246.595356 25.845461 \nC 245.652416 24.91463 245.122603 23.651976 245.122603 22.335582 \nC 245.122603 21.019189 245.652416 19.756534 246.595356 18.825704 \nC 247.538296 17.894873 248.817377 17.371864 250.150896 17.371864 \nz\n\" style=\"fill:#d89b8b;fill-opacity:0.8;stroke:#ffffff;stroke-opacity:0.8;\"/>\n    <path clip-path=\"url(#pf85ad7f6e8)\" d=\"M 273.118582 16.715881 \nC 274.628333 16.715881 276.076452 17.308009 277.144007 18.361854 \nC 278.211562 19.415699 278.811392 20.84522 278.811392 22.335582 \nC 278.811392 23.825945 278.211562 25.255466 277.144007 26.309311 \nC 276.076452 27.363156 274.628333 27.955283 273.118582 27.955283 \nC 271.608831 27.955283 270.160713 27.363156 269.093158 26.309311 \nC 268.025603 25.255466 267.425772 23.825945 267.425772 22.335582 \nC 267.425772 20.84522 268.025603 19.415699 269.093158 18.361854 \nC 270.160713 17.308009 271.608831 16.715881 273.118582 16.715881 \nz\n\" style=\"fill:#d5907e;fill-opacity:0.8;stroke:#ffffff;stroke-opacity:0.8;\"/>\n    <path clip-path=\"url(#pf85ad7f6e8)\" d=\"M 296.086268 21.704074 \nC 296.255925 21.704074 296.418656 21.770614 296.538621 21.889038 \nC 296.658587 22.007463 296.725992 22.168104 296.725992 22.335582 \nC 296.725992 22.50306 296.658587 22.663701 296.538621 22.782126 \nC 296.418656 22.900551 296.255925 22.967091 296.086268 22.967091 \nC 295.916611 22.967091 295.75388 22.900551 295.633915 22.782126 \nC 295.513949 22.663701 295.446544 22.50306 295.446544 22.335582 \nC 295.446544 22.168104 295.513949 22.007463 295.633915 21.889038 \nC 295.75388 21.770614 295.916611 21.704074 296.086268 21.704074 \nz\n\" style=\"fill:#e4eaed;fill-opacity:0.8;stroke:#ffffff;stroke-opacity:0.8;\"/>\n    <path clip-path=\"url(#pf85ad7f6e8)\" d=\"M 319.053954 16.436081 \nC 320.638874 16.436081 322.159093 17.05769 323.279801 18.164005 \nC 324.400509 19.27032 325.030204 20.771016 325.030204 22.335582 \nC 325.030204 23.900148 324.400509 25.400845 323.279801 26.50716 \nC 322.159093 27.613475 320.638874 28.235084 319.053954 28.235084 \nC 317.469034 28.235084 315.948815 27.613475 314.828107 26.50716 \nC 313.707399 25.400845 313.077704 23.900148 313.077704 22.335582 \nC 313.077704 20.771016 313.707399 19.27032 314.828107 18.164005 \nC 315.948815 17.05769 317.469034 16.436081 319.053954 16.436081 \nz\n\" style=\"fill:#7ca7b4;fill-opacity:0.8;stroke:#ffffff;stroke-opacity:0.8;\"/>\n    <path clip-path=\"url(#pf85ad7f6e8)\" d=\"M 342.02164 22.131379 \nC 342.0765 22.131379 342.12912 22.152895 342.167912 22.191189 \nC 342.206704 22.229482 342.2285 22.281427 342.2285 22.335582 \nC 342.2285 22.389738 342.206704 22.441683 342.167912 22.479976 \nC 342.12912 22.51827 342.0765 22.539786 342.02164 22.539786 \nC 341.96678 22.539786 341.91416 22.51827 341.875368 22.479976 \nC 341.836576 22.441683 341.81478 22.389738 341.81478 22.335582 \nC 341.81478 22.281427 341.836576 22.229482 341.875368 22.191189 \nC 341.91416 22.152895 341.96678 22.131379 342.02164 22.131379 \nz\n\" style=\"fill:#ecf0f1;fill-opacity:0.8;stroke:#ffffff;stroke-opacity:0.8;\"/>\n    <path clip-path=\"url(#pf85ad7f6e8)\" d=\"M 112.34478 44.106725 \nC 112.586994 44.106725 112.81932 44.201721 112.990591 44.370793 \nC 113.161862 44.539864 113.258094 44.769207 113.258094 45.00831 \nC 113.258094 45.247413 113.161862 45.476755 112.990591 45.645826 \nC 112.81932 45.814898 112.586994 45.909895 112.34478 45.909895 \nC 112.102567 45.909895 111.870241 45.814898 111.69897 45.645826 \nC 111.527699 45.476755 111.431466 45.247413 111.431466 45.00831 \nC 111.431466 44.769207 111.527699 44.539864 111.69897 44.370793 \nC 111.870241 44.201721 112.102567 44.106725 112.34478 44.106725 \nz\n\" style=\"fill:#dfe7ea;fill-opacity:0.8;stroke:#ffffff;stroke-opacity:0.8;\"/>\n    <path clip-path=\"url(#pf85ad7f6e8)\" d=\"M 135.312466 35.939219 \nC 137.748907 35.939219 140.085885 36.894795 141.808709 38.595494 \nC 143.531533 40.296193 144.499541 42.603159 144.499541 45.00831 \nC 144.499541 47.413461 143.531533 49.720427 141.808709 51.421125 \nC 140.085885 53.121824 137.748907 54.077401 135.312466 54.077401 \nC 132.876026 54.077401 130.539048 53.121824 128.816224 51.421125 \nC 127.0934 49.720427 126.125392 47.413461 126.125392 45.00831 \nC 126.125392 42.603159 127.0934 40.296193 128.816224 38.595494 \nC 130.539048 36.894795 132.876026 35.939219 135.312466 35.939219 \nz\n\" style=\"fill:#3f7f93;fill-opacity:0.8;stroke:#ffffff;stroke-opacity:0.8;\"/>\n    <path clip-path=\"url(#pf85ad7f6e8)\" d=\"M 158.280152 44.398095 \nC 158.444089 44.398095 158.601332 44.462391 158.717253 44.576823 \nC 158.833173 44.691254 158.898306 44.846479 158.898306 45.00831 \nC 158.898306 45.170141 158.833173 45.325365 158.717253 45.439797 \nC 158.601332 45.554228 158.444089 45.618524 158.280152 45.618524 \nC 158.116216 45.618524 157.958972 45.554228 157.843052 45.439797 \nC 157.727132 45.325365 157.661999 45.170141 157.661999 45.00831 \nC 157.661999 44.846479 157.727132 44.691254 157.843052 44.576823 \nC 157.958972 44.462391 158.116216 44.398095 158.280152 44.398095 \nz\n\" style=\"fill:#efe7e5;fill-opacity:0.8;stroke:#ffffff;stroke-opacity:0.8;\"/>\n    <path clip-path=\"url(#pf85ad7f6e8)\" d=\"M 181.247838 44.962854 \nC 181.26005 44.962854 181.271764 44.967643 181.280399 44.976167 \nC 181.289034 44.984692 181.293886 44.996255 181.293886 45.00831 \nC 181.293886 45.020365 181.289034 45.031928 181.280399 45.040452 \nC 181.271764 45.048976 181.26005 45.053766 181.247838 45.053766 \nC 181.235626 45.053766 181.223913 45.048976 181.215278 45.040452 \nC 181.206643 45.031928 181.201791 45.020365 181.201791 45.00831 \nC 181.201791 44.996255 181.206643 44.984692 181.215278 44.976167 \nC 181.223913 44.967643 181.235626 44.962854 181.247838 44.962854 \nz\n\" style=\"fill:#f0f2f2;fill-opacity:0.8;stroke:#ffffff;stroke-opacity:0.8;\"/>\n    <path clip-path=\"url(#pf85ad7f6e8)\" d=\"M 204.215524 44.056715 \nC 204.471173 44.056715 204.716386 44.156981 204.897157 44.335431 \nC 205.077928 44.51388 205.179498 44.755944 205.179498 45.00831 \nC 205.179498 45.260675 205.077928 45.502739 204.897157 45.681188 \nC 204.716386 45.859638 204.471173 45.959904 204.215524 45.959904 \nC 203.959875 45.959904 203.714663 45.859638 203.533892 45.681188 \nC 203.353121 45.502739 203.25155 45.260675 203.25155 45.00831 \nC 203.25155 44.755944 203.353121 44.51388 203.533892 44.335431 \nC 203.714663 44.156981 203.959875 44.056715 204.215524 44.056715 \nz\n\" style=\"fill:#eee1de;fill-opacity:0.8;stroke:#ffffff;stroke-opacity:0.8;\"/>\n    <path clip-path=\"url(#pf85ad7f6e8)\" d=\"M 227.18321 44.828434 \nC 227.231534 44.828434 227.277886 44.847387 227.312056 44.881118 \nC 227.346227 44.91485 227.365426 44.960606 227.365426 45.00831 \nC 227.365426 45.056013 227.346227 45.101769 227.312056 45.135501 \nC 227.277886 45.169232 227.231534 45.188185 227.18321 45.188185 \nC 227.134886 45.188185 227.088535 45.169232 227.054364 45.135501 \nC 227.020194 45.101769 227.000995 45.056013 227.000995 45.00831 \nC 227.000995 44.960606 227.020194 44.91485 227.054364 44.881118 \nC 227.088535 44.847387 227.134886 44.828434 227.18321 44.828434 \nz\n\" style=\"fill:#f2eeee;fill-opacity:0.8;stroke:#ffffff;stroke-opacity:0.8;\"/>\n    <path clip-path=\"url(#pf85ad7f6e8)\" d=\"M 250.150896 44.707791 \nC 250.231631 44.707791 250.309071 44.739456 250.366159 44.795811 \nC 250.423248 44.852166 250.455324 44.928611 250.455324 45.00831 \nC 250.455324 45.088008 250.423248 45.164453 250.366159 45.220808 \nC 250.309071 45.277164 250.231631 45.308828 250.150896 45.308828 \nC 250.070161 45.308828 249.992721 45.277164 249.935633 45.220808 \nC 249.878545 45.164453 249.846468 45.088008 249.846468 45.00831 \nC 249.846468 44.928611 249.878545 44.852166 249.935633 44.795811 \nC 249.992721 44.739456 250.070161 44.707791 250.150896 44.707791 \nz\n\" style=\"fill:#f1eceb;fill-opacity:0.8;stroke:#ffffff;stroke-opacity:0.8;\"/>\n    <path clip-path=\"url(#pf85ad7f6e8)\" d=\"M 273.118582 44.477985 \nC 273.261055 44.477985 273.397713 44.533864 273.498457 44.633314 \nC 273.5992 44.732764 273.655806 44.867666 273.655806 45.00831 \nC 273.655806 45.148953 273.5992 45.283855 273.498457 45.383306 \nC 273.397713 45.482756 273.261055 45.538634 273.118582 45.538634 \nC 272.976109 45.538634 272.839452 45.482756 272.738708 45.383306 \nC 272.637964 45.283855 272.581359 45.148953 272.581359 45.00831 \nC 272.581359 44.867666 272.637964 44.732764 272.738708 44.633314 \nC 272.839452 44.533864 272.976109 44.477985 273.118582 44.477985 \nz\n\" style=\"fill:#f0e8e7;fill-opacity:0.8;stroke:#ffffff;stroke-opacity:0.8;\"/>\n    <path clip-path=\"url(#pf85ad7f6e8)\" d=\"M 296.086268 44.519332 \nC 296.217634 44.519332 296.343636 44.570854 296.436526 44.66255 \nC 296.529415 44.754247 296.581607 44.878631 296.581607 45.00831 \nC 296.581607 45.137988 296.529415 45.262373 296.436526 45.354069 \nC 296.343636 45.445766 296.217634 45.497287 296.086268 45.497287 \nC 295.954903 45.497287 295.8289 45.445766 295.736011 45.354069 \nC 295.643121 45.262373 295.590929 45.137988 295.590929 45.00831 \nC 295.590929 44.878631 295.643121 44.754247 295.736011 44.66255 \nC 295.8289 44.570854 295.954903 44.519332 296.086268 44.519332 \nz\n\" style=\"fill:#f0e9e8;fill-opacity:0.8;stroke:#ffffff;stroke-opacity:0.8;\"/>\n    <path clip-path=\"url(#pf85ad7f6e8)\" d=\"M 319.053954 43.544566 \nC 319.447193 43.544566 319.82438 43.698795 320.102442 43.973287 \nC 320.380504 44.247778 320.53674 44.62012 320.53674 45.00831 \nC 320.53674 45.396499 320.380504 45.768841 320.102442 46.043333 \nC 319.82438 46.317824 319.447193 46.472053 319.053954 46.472053 \nC 318.660715 46.472053 318.283528 46.317824 318.005466 46.043333 \nC 317.727404 45.768841 317.571168 45.396499 317.571168 45.00831 \nC 317.571168 44.62012 317.727404 44.247778 318.005466 43.973287 \nC 318.283528 43.698795 318.660715 43.544566 319.053954 43.544566 \nz\n\" style=\"fill:#d4e0e4;fill-opacity:0.8;stroke:#ffffff;stroke-opacity:0.8;\"/>\n    <path clip-path=\"url(#pf85ad7f6e8)\" d=\"M 342.02164 44.029725 \nC 342.28454 44.029725 342.536708 44.132835 342.722606 44.316346 \nC 342.908504 44.499857 343.012956 44.748786 343.012956 45.00831 \nC 343.012956 45.267833 342.908504 45.516763 342.722606 45.700274 \nC 342.536708 45.883785 342.28454 45.986895 342.02164 45.986895 \nC 341.75874 45.986895 341.506572 45.883785 341.320674 45.700274 \nC 341.134776 45.516763 341.030324 45.267833 341.030324 45.00831 \nC 341.030324 44.748786 341.134776 44.499857 341.320674 44.316346 \nC 341.506572 44.132835 341.75874 44.029725 342.02164 44.029725 \nz\n\" style=\"fill:#dde6e9;fill-opacity:0.8;stroke:#ffffff;stroke-opacity:0.8;\"/>\n    <path clip-path=\"url(#pf85ad7f6e8)\" d=\"M 112.34478 66.933642 \nC 112.54557 66.933642 112.738164 67.012392 112.880144 67.152549 \nC 113.022124 67.292706 113.101898 67.482826 113.101898 67.681037 \nC 113.101898 67.879248 113.022124 68.069368 112.880144 68.209525 \nC 112.738164 68.349681 112.54557 68.428432 112.34478 68.428432 \nC 112.14399 68.428432 111.951397 68.349681 111.809417 68.209525 \nC 111.667437 68.069368 111.587663 67.879248 111.587663 67.681037 \nC 111.587663 67.482826 111.667437 67.292706 111.809417 67.152549 \nC 111.951397 67.012392 112.14399 66.933642 112.34478 66.933642 \nz\n\" style=\"fill:#efe5e2;fill-opacity:0.8;stroke:#ffffff;stroke-opacity:0.8;\"/>\n    <path clip-path=\"url(#pf85ad7f6e8)\" d=\"M 135.312466 67.070822 \nC 135.476403 67.070822 135.633646 67.135118 135.749567 67.24955 \nC 135.865487 67.363982 135.93062 67.519206 135.93062 67.681037 \nC 135.93062 67.842868 135.865487 67.998092 135.749567 68.112524 \nC 135.633646 68.226956 135.476403 68.291252 135.312466 68.291252 \nC 135.14853 68.291252 134.991286 68.226956 134.875366 68.112524 \nC 134.759446 67.998092 134.694313 67.842868 134.694313 67.681037 \nC 134.694313 67.519206 134.759446 67.363982 134.875366 67.24955 \nC 134.991286 67.135118 135.14853 67.070822 135.312466 67.070822 \nz\n\" style=\"fill:#efe7e5;fill-opacity:0.8;stroke:#ffffff;stroke-opacity:0.8;\"/>\n    <path clip-path=\"url(#pf85ad7f6e8)\" d=\"M 158.280152 58.611946 \nC 160.716593 58.611946 163.053571 59.567523 164.776395 61.268221 \nC 166.499219 62.96892 167.467227 65.275886 167.467227 67.681037 \nC 167.467227 70.086188 166.499219 72.393154 164.776395 74.093853 \nC 163.053571 75.794551 160.716593 76.750128 158.280152 76.750128 \nC 155.843712 76.750128 153.506733 75.794551 151.78391 74.093853 \nC 150.061086 72.393154 149.093078 70.086188 149.093078 67.681037 \nC 149.093078 65.275886 150.061086 62.96892 151.78391 61.268221 \nC 153.506733 59.567523 155.843712 58.611946 158.280152 58.611946 \nz\n\" style=\"fill:#3f7f93;fill-opacity:0.8;stroke:#ffffff;stroke-opacity:0.8;\"/>\n    <path clip-path=\"url(#pf85ad7f6e8)\" d=\"M 181.247838 66.922217 \nC 181.451698 66.922217 181.647235 67.002171 181.791385 67.14447 \nC 181.935536 67.28677 182.01653 67.479796 182.01653 67.681037 \nC 182.01653 67.882278 181.935536 68.075304 181.791385 68.217603 \nC 181.647235 68.359903 181.451698 68.439857 181.247838 68.439857 \nC 181.043979 68.439857 180.848442 68.359903 180.704291 68.217603 \nC 180.560141 68.075304 180.479147 67.882278 180.479147 67.681037 \nC 180.479147 67.479796 180.560141 67.28677 180.704291 67.14447 \nC 180.848442 67.002171 181.043979 66.922217 181.247838 66.922217 \nz\n\" style=\"fill:#e1e9eb;fill-opacity:0.8;stroke:#ffffff;stroke-opacity:0.8;\"/>\n    <path clip-path=\"url(#pf85ad7f6e8)\" d=\"M 204.215524 66.003492 \nC 204.666202 66.003492 205.098482 66.180248 205.41716 66.494833 \nC 205.735837 66.809418 205.914894 67.236147 205.914894 67.681037 \nC 205.914894 68.125927 205.735837 68.552656 205.41716 68.867241 \nC 205.098482 69.181826 204.666202 69.358582 204.215524 69.358582 \nC 203.764846 69.358582 203.332566 69.181826 203.013889 68.867241 \nC 202.695211 68.552656 202.516155 68.125927 202.516155 67.681037 \nC 202.516155 67.236147 202.695211 66.809418 203.013889 66.494833 \nC 203.332566 66.180248 203.764846 66.003492 204.215524 66.003492 \nz\n\" style=\"fill:#ead5d0;fill-opacity:0.8;stroke:#ffffff;stroke-opacity:0.8;\"/>\n    <path clip-path=\"url(#pf85ad7f6e8)\" d=\"M 227.18321 67.350411 \nC 227.272034 67.350411 227.357232 67.385248 227.42004 67.447249 \nC 227.482847 67.50925 227.518137 67.593354 227.518137 67.681037 \nC 227.518137 67.76872 227.482847 67.852824 227.42004 67.914825 \nC 227.357232 67.976826 227.272034 68.011663 227.18321 68.011663 \nC 227.094386 68.011663 227.009189 67.976826 226.946381 67.914825 \nC 226.883573 67.852824 226.848283 67.76872 226.848283 67.681037 \nC 226.848283 67.593354 226.883573 67.50925 226.946381 67.447249 \nC 227.009189 67.385248 227.094386 67.350411 227.18321 67.350411 \nz\n\" style=\"fill:#eaeef0;fill-opacity:0.8;stroke:#ffffff;stroke-opacity:0.8;\"/>\n    <path clip-path=\"url(#pf85ad7f6e8)\" d=\"M 250.150896 66.965886 \nC 250.343024 66.965886 250.527308 67.041239 250.663163 67.175349 \nC 250.799018 67.309459 250.875351 67.491377 250.875351 67.681037 \nC 250.875351 67.870697 250.799018 68.052615 250.663163 68.186725 \nC 250.527308 68.320835 250.343024 68.396188 250.150896 68.396188 \nC 249.958768 68.396188 249.774484 68.320835 249.638629 68.186725 \nC 249.502774 68.052615 249.426441 67.870697 249.426441 67.681037 \nC 249.426441 67.491377 249.502774 67.309459 249.638629 67.175349 \nC 249.774484 67.041239 249.958768 66.965886 250.150896 66.965886 \nz\n\" style=\"fill:#e1e9eb;fill-opacity:0.8;stroke:#ffffff;stroke-opacity:0.8;\"/>\n    <path clip-path=\"url(#pf85ad7f6e8)\" d=\"M 273.118582 66.971718 \nC 273.309143 66.971718 273.491924 67.046457 273.626671 67.179473 \nC 273.761418 67.312489 273.837128 67.492923 273.837128 67.681037 \nC 273.837128 67.86915 273.761418 68.049585 273.626671 68.182601 \nC 273.491924 68.315617 273.309143 68.390355 273.118582 68.390355 \nC 272.928021 68.390355 272.74524 68.315617 272.610493 68.182601 \nC 272.475746 68.049585 272.400036 67.86915 272.400036 67.681037 \nC 272.400036 67.492923 272.475746 67.312489 272.610493 67.179473 \nC 272.74524 67.046457 272.928021 66.971718 273.118582 66.971718 \nz\n\" style=\"fill:#e1e9eb;fill-opacity:0.8;stroke:#ffffff;stroke-opacity:0.8;\"/>\n    <path clip-path=\"url(#pf85ad7f6e8)\" d=\"M 296.086268 66.809773 \nC 296.320336 66.809773 296.544848 66.901575 296.710359 67.06496 \nC 296.87587 67.228346 296.968867 67.449975 296.968867 67.681037 \nC 296.968867 67.912099 296.87587 68.133728 296.710359 68.297114 \nC 296.544848 68.460499 296.320336 68.552301 296.086268 68.552301 \nC 295.8522 68.552301 295.627688 68.460499 295.462177 68.297114 \nC 295.296666 68.133728 295.20367 67.912099 295.20367 67.681037 \nC 295.20367 67.449975 295.296666 67.228346 295.462177 67.06496 \nC 295.627688 66.901575 295.8522 66.809773 296.086268 66.809773 \nz\n\" style=\"fill:#dfe7ea;fill-opacity:0.8;stroke:#ffffff;stroke-opacity:0.8;\"/>\n    <path clip-path=\"url(#pf85ad7f6e8)\" d=\"M 319.053954 66.898658 \nC 319.264143 66.898658 319.465751 66.981094 319.614377 67.127811 \nC 319.763003 67.274528 319.846511 67.473548 319.846511 67.681037 \nC 319.846511 67.888526 319.763003 68.087545 319.614377 68.234263 \nC 319.465751 68.38098 319.264143 68.463416 319.053954 68.463416 \nC 318.843765 68.463416 318.642157 68.38098 318.493531 68.234263 \nC 318.344905 68.087545 318.261397 67.888526 318.261397 67.681037 \nC 318.261397 67.473548 318.344905 67.274528 318.493531 67.127811 \nC 318.642157 66.981094 318.843765 66.898658 319.053954 66.898658 \nz\n\" style=\"fill:#eee3e1;fill-opacity:0.8;stroke:#ffffff;stroke-opacity:0.8;\"/>\n    <path clip-path=\"url(#pf85ad7f6e8)\" d=\"M 342.02164 67.537882 \nC 342.060099 67.537882 342.096988 67.552966 342.124183 67.579811 \nC 342.151377 67.606657 342.166657 67.643072 342.166657 67.681037 \nC 342.166657 67.719002 342.151377 67.755417 342.124183 67.782263 \nC 342.096988 67.809108 342.060099 67.824192 342.02164 67.824192 \nC 341.983181 67.824192 341.946292 67.809108 341.919097 67.782263 \nC 341.891903 67.755417 341.876623 67.719002 341.876623 67.681037 \nC 341.876623 67.643072 341.891903 67.606657 341.919097 67.579811 \nC 341.946292 67.552966 341.983181 67.537882 342.02164 67.537882 \nz\n\" style=\"fill:#f2eeee;fill-opacity:0.8;stroke:#ffffff;stroke-opacity:0.8;\"/>\n    <path clip-path=\"url(#pf85ad7f6e8)\" d=\"M 112.34478 90.002892 \nC 112.439043 90.002892 112.529458 90.039862 112.596112 90.10566 \nC 112.662766 90.171458 112.700217 90.260712 112.700217 90.353764 \nC 112.700217 90.446817 112.662766 90.53607 112.596112 90.601868 \nC 112.529458 90.667666 112.439043 90.704636 112.34478 90.704636 \nC 112.250518 90.704636 112.160103 90.667666 112.093449 90.601868 \nC 112.026795 90.53607 111.989344 90.446817 111.989344 90.353764 \nC 111.989344 90.260712 112.026795 90.171458 112.093449 90.10566 \nC 112.160103 90.039862 112.250518 90.002892 112.34478 90.002892 \nz\n\" style=\"fill:#f1eceb;fill-opacity:0.8;stroke:#ffffff;stroke-opacity:0.8;\"/>\n    <path clip-path=\"url(#pf85ad7f6e8)\" d=\"M 135.312466 90.308308 \nC 135.324678 90.308308 135.336392 90.313098 135.345027 90.321622 \nC 135.353662 90.330146 135.358514 90.341709 135.358514 90.353764 \nC 135.358514 90.365819 135.353662 90.377382 135.345027 90.385906 \nC 135.336392 90.394431 135.324678 90.39922 135.312466 90.39922 \nC 135.300255 90.39922 135.288541 90.394431 135.279906 90.385906 \nC 135.271271 90.377382 135.266419 90.365819 135.266419 90.353764 \nC 135.266419 90.341709 135.271271 90.330146 135.279906 90.321622 \nC 135.288541 90.313098 135.300255 90.308308 135.312466 90.308308 \nz\n\" style=\"fill:#f0f2f2;fill-opacity:0.8;stroke:#ffffff;stroke-opacity:0.8;\"/>\n    <path clip-path=\"url(#pf85ad7f6e8)\" d=\"M 158.280152 89.594945 \nC 158.484012 89.594945 158.679549 89.674899 158.823699 89.817198 \nC 158.96785 89.959497 159.048844 90.152523 159.048844 90.353764 \nC 159.048844 90.555006 158.96785 90.748032 158.823699 90.890331 \nC 158.679549 91.03263 158.484012 91.112584 158.280152 91.112584 \nC 158.076293 91.112584 157.880756 91.03263 157.736605 90.890331 \nC 157.592455 90.748032 157.511461 90.555006 157.511461 90.353764 \nC 157.511461 90.152523 157.592455 89.959497 157.736605 89.817198 \nC 157.880756 89.674899 158.076293 89.594945 158.280152 89.594945 \nz\n\" style=\"fill:#e1e9eb;fill-opacity:0.8;stroke:#ffffff;stroke-opacity:0.8;\"/>\n    <path clip-path=\"url(#pf85ad7f6e8)\" d=\"M 181.247838 81.284673 \nC 183.684279 81.284673 186.021257 82.24025 187.744081 83.940949 \nC 189.466905 85.641647 190.434913 87.948613 190.434913 90.353764 \nC 190.434913 92.758915 189.466905 95.065881 187.744081 96.76658 \nC 186.021257 98.467278 183.684279 99.422855 181.247838 99.422855 \nC 178.811398 99.422855 176.474419 98.467278 174.751596 96.76658 \nC 173.028772 95.065881 172.060764 92.758915 172.060764 90.353764 \nC 172.060764 87.948613 173.028772 85.641647 174.751596 83.940949 \nC 176.474419 82.24025 178.811398 81.284673 181.247838 81.284673 \nz\n\" style=\"fill:#3f7f93;fill-opacity:0.8;stroke:#ffffff;stroke-opacity:0.8;\"/>\n    <path clip-path=\"url(#pf85ad7f6e8)\" d=\"M 204.215524 89.976501 \nC 204.316877 89.976501 204.414093 90.016252 204.48576 90.086999 \nC 204.557427 90.157746 204.597695 90.253713 204.597695 90.353764 \nC 204.597695 90.453816 204.557427 90.549782 204.48576 90.620529 \nC 204.414093 90.691276 204.316877 90.731027 204.215524 90.731027 \nC 204.114171 90.731027 204.016956 90.691276 203.945289 90.620529 \nC 203.873621 90.549782 203.833353 90.453816 203.833353 90.353764 \nC 203.833353 90.253713 203.873621 90.157746 203.945289 90.086999 \nC 204.016956 90.016252 204.114171 89.976501 204.215524 89.976501 \nz\n\" style=\"fill:#f1ebe9;fill-opacity:0.8;stroke:#ffffff;stroke-opacity:0.8;\"/>\n    <path clip-path=\"url(#pf85ad7f6e8)\" d=\"M 227.18321 89.831067 \nC 227.323635 89.831067 227.458326 89.886142 227.557621 89.984161 \nC 227.656916 90.082181 227.712707 90.215143 227.712707 90.353764 \nC 227.712707 90.492385 227.656916 90.625347 227.557621 90.723367 \nC 227.458326 90.821387 227.323635 90.876461 227.18321 90.876461 \nC 227.042786 90.876461 226.908094 90.821387 226.808799 90.723367 \nC 226.709504 90.625347 226.653713 90.492385 226.653713 90.353764 \nC 226.653713 90.215143 226.709504 90.082181 226.808799 89.984161 \nC 226.908094 89.886142 227.042786 89.831067 227.18321 89.831067 \nz\n\" style=\"fill:#e6ebed;fill-opacity:0.8;stroke:#ffffff;stroke-opacity:0.8;\"/>\n    <path clip-path=\"url(#pf85ad7f6e8)\" d=\"M 250.150896 90.14969 \nC 250.205721 90.14969 250.258308 90.171193 250.297076 90.209462 \nC 250.335843 90.247731 250.357625 90.299643 250.357625 90.353764 \nC 250.357625 90.407885 250.335843 90.459797 250.297076 90.498066 \nC 250.258308 90.536336 250.205721 90.557838 250.150896 90.557838 \nC 250.096071 90.557838 250.043484 90.536336 250.004717 90.498066 \nC 249.965949 90.459797 249.944167 90.407885 249.944167 90.353764 \nC 249.944167 90.299643 249.965949 90.247731 250.004717 90.209462 \nC 250.043484 90.171193 250.096071 90.14969 250.150896 90.14969 \nz\n\" style=\"fill:#ecf0f1;fill-opacity:0.8;stroke:#ffffff;stroke-opacity:0.8;\"/>\n    <path clip-path=\"url(#pf85ad7f6e8)\" d=\"M 273.118582 90.040757 \nC 273.202672 90.040757 273.28333 90.073738 273.342791 90.132435 \nC 273.402252 90.191132 273.435661 90.270754 273.435661 90.353764 \nC 273.435661 90.436775 273.402252 90.516396 273.342791 90.575094 \nC 273.28333 90.633791 273.202672 90.666771 273.118582 90.666771 \nC 273.034492 90.666771 272.953834 90.633791 272.894373 90.575094 \nC 272.834912 90.516396 272.801503 90.436775 272.801503 90.353764 \nC 272.801503 90.270754 272.834912 90.191132 272.894373 90.132435 \nC 272.953834 90.073738 273.034492 90.040757 273.118582 90.040757 \nz\n\" style=\"fill:#eaeef0;fill-opacity:0.8;stroke:#ffffff;stroke-opacity:0.8;\"/>\n    <path clip-path=\"url(#pf85ad7f6e8)\" d=\"M 296.086268 90.07064 \nC 296.16233 90.07064 296.235287 90.100472 296.289071 90.153565 \nC 296.342855 90.206659 296.373075 90.278679 296.373075 90.353764 \nC 296.373075 90.42885 296.342855 90.50087 296.289071 90.553963 \nC 296.235287 90.607056 296.16233 90.636888 296.086268 90.636888 \nC 296.010206 90.636888 295.937249 90.607056 295.883465 90.553963 \nC 295.829681 90.50087 295.799461 90.42885 295.799461 90.353764 \nC 295.799461 90.278679 295.829681 90.206659 295.883465 90.153565 \nC 295.937249 90.100472 296.010206 90.07064 296.086268 90.07064 \nz\n\" style=\"fill:#f1edec;fill-opacity:0.8;stroke:#ffffff;stroke-opacity:0.8;\"/>\n    <path clip-path=\"url(#pf85ad7f6e8)\" d=\"M 319.053954 89.590247 \nC 319.259075 89.590247 319.455823 89.670696 319.600866 89.813876 \nC 319.745909 89.957056 319.827404 90.151277 319.827404 90.353764 \nC 319.827404 90.556251 319.745909 90.750472 319.600866 90.893652 \nC 319.455823 91.036832 319.259075 91.117281 319.053954 91.117281 \nC 318.848833 91.117281 318.652085 91.036832 318.507042 90.893652 \nC 318.361999 90.750472 318.280504 90.556251 318.280504 90.353764 \nC 318.280504 90.151277 318.361999 89.957056 318.507042 89.813876 \nC 318.652085 89.670696 318.848833 89.590247 319.053954 89.590247 \nz\n\" style=\"fill:#efe5e2;fill-opacity:0.8;stroke:#ffffff;stroke-opacity:0.8;\"/>\n    <path clip-path=\"url(#pf85ad7f6e8)\" d=\"M 342.02164 89.768928 \nC 342.178758 89.768928 342.329462 89.83055 342.440562 89.940223 \nC 342.551661 90.049895 342.614085 90.198664 342.614085 90.353764 \nC 342.614085 90.508865 342.551661 90.657633 342.440562 90.767306 \nC 342.329462 90.876978 342.178758 90.9386 342.02164 90.9386 \nC 341.864522 90.9386 341.713818 90.876978 341.602718 90.767306 \nC 341.491619 90.657633 341.429195 90.508865 341.429195 90.353764 \nC 341.429195 90.198664 341.491619 90.049895 341.602718 89.940223 \nC 341.713818 89.83055 341.864522 89.768928 342.02164 89.768928 \nz\n\" style=\"fill:#efe7e5;fill-opacity:0.8;stroke:#ffffff;stroke-opacity:0.8;\"/>\n    <path clip-path=\"url(#pf85ad7f6e8)\" d=\"M 112.34478 111.915984 \nC 112.643122 111.915984 112.929284 112.032994 113.140243 112.241244 \nC 113.351202 112.449494 113.469735 112.731982 113.469735 113.026491 \nC 113.469735 113.321001 113.351202 113.603489 113.140243 113.811739 \nC 112.929284 114.019988 112.643122 114.136998 112.34478 114.136998 \nC 112.046439 114.136998 111.760277 114.019988 111.549318 113.811739 \nC 111.338359 113.603489 111.219826 113.321001 111.219826 113.026491 \nC 111.219826 112.731982 111.338359 112.449494 111.549318 112.241244 \nC 111.760277 112.032994 112.046439 111.915984 112.34478 111.915984 \nz\n\" style=\"fill:#eddedb;fill-opacity:0.8;stroke:#ffffff;stroke-opacity:0.8;\"/>\n    <path clip-path=\"url(#pf85ad7f6e8)\" d=\"M 135.312466 112.074897 \nC 135.568115 112.074897 135.813328 112.175163 135.994099 112.353613 \nC 136.17487 112.532062 136.27644 112.774126 136.27644 113.026491 \nC 136.27644 113.278857 136.17487 113.520921 135.994099 113.69937 \nC 135.813328 113.87782 135.568115 113.978086 135.312466 113.978086 \nC 135.056818 113.978086 134.811605 113.87782 134.630834 113.69937 \nC 134.450063 113.520921 134.348492 113.278857 134.348492 113.026491 \nC 134.348492 112.774126 134.450063 112.532062 134.630834 112.353613 \nC 134.811605 112.175163 135.056818 112.074897 135.312466 112.074897 \nz\n\" style=\"fill:#eee1de;fill-opacity:0.8;stroke:#ffffff;stroke-opacity:0.8;\"/>\n    <path clip-path=\"url(#pf85ad7f6e8)\" d=\"M 158.280152 111.348946 \nC 158.73083 111.348946 159.16311 111.525703 159.481788 111.840288 \nC 159.800465 112.154873 159.979522 112.581601 159.979522 113.026491 \nC 159.979522 113.471382 159.800465 113.89811 159.481788 114.212695 \nC 159.16311 114.52728 158.73083 114.704037 158.280152 114.704037 \nC 157.829474 114.704037 157.397194 114.52728 157.078517 114.212695 \nC 156.759839 113.89811 156.580783 113.471382 156.580783 113.026491 \nC 156.580783 112.581601 156.759839 112.154873 157.078517 111.840288 \nC 157.397194 111.525703 157.829474 111.348946 158.280152 111.348946 \nz\n\" style=\"fill:#ead5d0;fill-opacity:0.8;stroke:#ffffff;stroke-opacity:0.8;\"/>\n    <path clip-path=\"url(#pf85ad7f6e8)\" d=\"M 181.247838 112.649228 \nC 181.349191 112.649228 181.446407 112.688979 181.518074 112.759726 \nC 181.589741 112.830473 181.630009 112.92644 181.630009 113.026491 \nC 181.630009 113.126543 181.589741 113.22251 181.518074 113.293257 \nC 181.446407 113.364004 181.349191 113.403754 181.247838 113.403754 \nC 181.146485 113.403754 181.04927 113.364004 180.977603 113.293257 \nC 180.905935 113.22251 180.865667 113.126543 180.865667 113.026491 \nC 180.865667 112.92644 180.905935 112.830473 180.977603 112.759726 \nC 181.04927 112.688979 181.146485 112.649228 181.247838 112.649228 \nz\n\" style=\"fill:#f1ebe9;fill-opacity:0.8;stroke:#ffffff;stroke-opacity:0.8;\"/>\n    <path clip-path=\"url(#pf85ad7f6e8)\" d=\"M 204.215524 103.957401 \nC 206.651965 103.957401 208.988943 104.912977 210.711767 106.613676 \nC 212.434591 108.314374 213.402599 110.62134 213.402599 113.026491 \nC 213.402599 115.431643 212.434591 117.738609 210.711767 119.439307 \nC 208.988943 121.140006 206.651965 122.095582 204.215524 122.095582 \nC 201.779084 122.095582 199.442105 121.140006 197.719282 119.439307 \nC 195.996458 117.738609 195.02845 115.431643 195.02845 113.026491 \nC 195.02845 110.62134 195.996458 108.314374 197.719282 106.613676 \nC 199.442105 104.912977 201.779084 103.957401 204.215524 103.957401 \nz\n\" style=\"fill:#3f7f93;fill-opacity:0.8;stroke:#ffffff;stroke-opacity:0.8;\"/>\n    <path clip-path=\"url(#pf85ad7f6e8)\" d=\"M 227.18321 111.113009 \nC 227.697274 111.113009 228.190351 111.314625 228.553849 111.673455 \nC 228.917347 112.032284 229.121586 112.51903 229.121586 113.026491 \nC 229.121586 113.533953 228.917347 114.020699 228.553849 114.379528 \nC 228.190351 114.738358 227.697274 114.939974 227.18321 114.939974 \nC 226.669147 114.939974 226.176069 114.738358 225.812571 114.379528 \nC 225.449074 114.020699 225.244834 113.533953 225.244834 113.026491 \nC 225.244834 112.51903 225.449074 112.032284 225.812571 111.673455 \nC 226.176069 111.314625 226.669147 111.113009 227.18321 111.113009 \nz\n\" style=\"fill:#e8d0ca;fill-opacity:0.8;stroke:#ffffff;stroke-opacity:0.8;\"/>\n    <path clip-path=\"url(#pf85ad7f6e8)\" d=\"M 250.150896 112.300282 \nC 250.345995 112.300282 250.533129 112.3768 250.671085 112.512984 \nC 250.80904 112.649167 250.886554 112.833898 250.886554 113.026491 \nC 250.886554 113.219085 250.80904 113.403815 250.671085 113.539999 \nC 250.533129 113.676183 250.345995 113.752701 250.150896 113.752701 \nC 249.955798 113.752701 249.768663 113.676183 249.630708 113.539999 \nC 249.492752 113.403815 249.415239 113.219085 249.415239 113.026491 \nC 249.415239 112.833898 249.492752 112.649167 249.630708 112.512984 \nC 249.768663 112.3768 249.955798 112.300282 250.150896 112.300282 \nz\n\" style=\"fill:#e1e9eb;fill-opacity:0.8;stroke:#ffffff;stroke-opacity:0.8;\"/>\n    <path clip-path=\"url(#pf85ad7f6e8)\" d=\"M 273.118582 112.39833 \nC 273.28734 112.39833 273.449208 112.464517 273.568538 112.582314 \nC 273.687867 112.700112 273.754915 112.859901 273.754915 113.026491 \nC 273.754915 113.193082 273.687867 113.352871 273.568538 113.470669 \nC 273.449208 113.588466 273.28734 113.654653 273.118582 113.654653 \nC 272.949825 113.654653 272.787956 113.588466 272.668627 113.470669 \nC 272.549297 113.352871 272.482249 113.193082 272.482249 113.026491 \nC 272.482249 112.859901 272.549297 112.700112 272.668627 112.582314 \nC 272.787956 112.464517 272.949825 112.39833 273.118582 112.39833 \nz\n\" style=\"fill:#e4eaed;fill-opacity:0.8;stroke:#ffffff;stroke-opacity:0.8;\"/>\n    <path clip-path=\"url(#pf85ad7f6e8)\" d=\"M 296.086268 112.962763 \nC 296.103389 112.962763 296.119811 112.969478 296.131917 112.981429 \nC 296.144023 112.99338 296.150825 113.009591 296.150825 113.026491 \nC 296.150825 113.043392 296.144023 113.059603 296.131917 113.071554 \nC 296.119811 113.083505 296.103389 113.09022 296.086268 113.09022 \nC 296.069147 113.09022 296.052725 113.083505 296.040619 113.071554 \nC 296.028513 113.059603 296.021711 113.043392 296.021711 113.026491 \nC 296.021711 113.009591 296.028513 112.99338 296.040619 112.981429 \nC 296.052725 112.969478 296.069147 112.962763 296.086268 112.962763 \nz\n\" style=\"fill:#f0f2f2;fill-opacity:0.8;stroke:#ffffff;stroke-opacity:0.8;\"/>\n    <path clip-path=\"url(#pf85ad7f6e8)\" d=\"M 319.053954 112.224064 \nC 319.269529 112.224064 319.476303 112.308613 319.628738 112.459089 \nC 319.781172 112.609566 319.866821 112.813685 319.866821 113.026491 \nC 319.866821 113.239298 319.781172 113.443417 319.628738 113.593893 \nC 319.476303 113.74437 319.269529 113.828919 319.053954 113.828919 \nC 318.838379 113.828919 318.631605 113.74437 318.47917 113.593893 \nC 318.326736 113.443417 318.241087 113.239298 318.241087 113.026491 \nC 318.241087 112.813685 318.326736 112.609566 318.47917 112.459089 \nC 318.631605 112.308613 318.838379 112.224064 319.053954 112.224064 \nz\n\" style=\"fill:#eee3e1;fill-opacity:0.8;stroke:#ffffff;stroke-opacity:0.8;\"/>\n    <path clip-path=\"url(#pf85ad7f6e8)\" d=\"M 342.02164 111.911691 \nC 342.321135 111.911691 342.608403 112.029154 342.820178 112.238209 \nC 343.031953 112.447264 343.150943 112.730843 343.150943 113.026491 \nC 343.150943 113.32214 343.031953 113.605719 342.820178 113.814774 \nC 342.608403 114.023829 342.321135 114.141292 342.02164 114.141292 \nC 341.722145 114.141292 341.434877 114.023829 341.223102 113.814774 \nC 341.011327 113.605719 340.892337 113.32214 340.892337 113.026491 \nC 340.892337 112.730843 341.011327 112.447264 341.223102 112.238209 \nC 341.434877 112.029154 341.722145 111.911691 342.02164 111.911691 \nz\n\" style=\"fill:#dae4e7;fill-opacity:0.8;stroke:#ffffff;stroke-opacity:0.8;\"/>\n    <path clip-path=\"url(#pf85ad7f6e8)\" d=\"M 112.34478 131.777559 \nC 113.398347 131.777559 114.408904 132.19077 115.153888 132.926186 \nC 115.898872 133.661603 116.317459 134.659182 116.317459 135.699219 \nC 116.317459 136.739255 115.898872 137.736834 115.153888 138.472251 \nC 114.408904 139.207668 113.398347 139.620879 112.34478 139.620879 \nC 111.291214 139.620879 110.280657 139.207668 109.535673 138.472251 \nC 108.790689 137.736834 108.372102 136.739255 108.372102 135.699219 \nC 108.372102 134.659182 108.790689 133.661603 109.535673 132.926186 \nC 110.280657 132.19077 111.291214 131.777559 112.34478 131.777559 \nz\n\" style=\"fill:#a3c0c9;fill-opacity:0.8;stroke:#ffffff;stroke-opacity:0.8;\"/>\n    <path clip-path=\"url(#pf85ad7f6e8)\" d=\"M 135.312466 135.519343 \nC 135.360791 135.519343 135.407142 135.538296 135.441312 135.572027 \nC 135.475483 135.605759 135.494682 135.651515 135.494682 135.699219 \nC 135.494682 135.746922 135.475483 135.792678 135.441312 135.82641 \nC 135.407142 135.860142 135.360791 135.879094 135.312466 135.879094 \nC 135.264142 135.879094 135.217791 135.860142 135.18362 135.82641 \nC 135.14945 135.792678 135.130251 135.746922 135.130251 135.699219 \nC 135.130251 135.651515 135.14945 135.605759 135.18362 135.572027 \nC 135.217791 135.538296 135.264142 135.519343 135.312466 135.519343 \nz\n\" style=\"fill:#f2eeee;fill-opacity:0.8;stroke:#ffffff;stroke-opacity:0.8;\"/>\n    <path clip-path=\"url(#pf85ad7f6e8)\" d=\"M 158.280152 135.368593 \nC 158.368976 135.368593 158.454174 135.40343 158.516982 135.465431 \nC 158.57979 135.527432 158.61508 135.611536 158.61508 135.699219 \nC 158.61508 135.786902 158.57979 135.871005 158.516982 135.933007 \nC 158.454174 135.995008 158.368976 136.029845 158.280152 136.029845 \nC 158.191329 136.029845 158.106131 135.995008 158.043323 135.933007 \nC 157.980515 135.871005 157.945225 135.786902 157.945225 135.699219 \nC 157.945225 135.611536 157.980515 135.527432 158.043323 135.465431 \nC 158.106131 135.40343 158.191329 135.368593 158.280152 135.368593 \nz\n\" style=\"fill:#eaeef0;fill-opacity:0.8;stroke:#ffffff;stroke-opacity:0.8;\"/>\n    <path clip-path=\"url(#pf85ad7f6e8)\" d=\"M 181.247838 135.176522 \nC 181.388263 135.176522 181.522954 135.231596 181.622249 135.329616 \nC 181.721544 135.427636 181.777335 135.560598 181.777335 135.699219 \nC 181.777335 135.83784 181.721544 135.970802 181.622249 136.068821 \nC 181.522954 136.166841 181.388263 136.221916 181.247838 136.221916 \nC 181.107414 136.221916 180.972722 136.166841 180.873427 136.068821 \nC 180.774132 135.970802 180.718341 135.83784 180.718341 135.699219 \nC 180.718341 135.560598 180.774132 135.427636 180.873427 135.329616 \nC 180.972722 135.231596 181.107414 135.176522 181.247838 135.176522 \nz\n\" style=\"fill:#e6ebed;fill-opacity:0.8;stroke:#ffffff;stroke-opacity:0.8;\"/>\n    <path clip-path=\"url(#pf85ad7f6e8)\" d=\"M 204.215524 133.785736 \nC 204.729588 133.785736 205.222666 133.987352 205.586163 134.346182 \nC 205.949661 134.705012 206.1539 135.191757 206.1539 135.699219 \nC 206.1539 136.20668 205.949661 136.693426 205.586163 137.052255 \nC 205.222666 137.411085 204.729588 137.612702 204.215524 137.612702 \nC 203.701461 137.612702 203.208383 137.411085 202.844885 137.052255 \nC 202.481388 136.693426 202.277148 136.20668 202.277148 135.699219 \nC 202.277148 135.191757 202.481388 134.705012 202.844885 134.346182 \nC 203.208383 133.987352 203.701461 133.785736 204.215524 133.785736 \nz\n\" style=\"fill:#e8d0ca;fill-opacity:0.8;stroke:#ffffff;stroke-opacity:0.8;\"/>\n    <path clip-path=\"url(#pf85ad7f6e8)\" d=\"M 227.18321 126.630128 \nC 229.619651 126.630128 231.956629 127.585704 233.679453 129.286403 \nC 235.402276 130.987102 236.370285 133.294068 236.370285 135.699219 \nC 236.370285 138.10437 235.402276 140.411336 233.679453 142.112034 \nC 231.956629 143.812733 229.619651 144.76831 227.18321 144.76831 \nC 224.74677 144.76831 222.409791 143.812733 220.686968 142.112034 \nC 218.964144 140.411336 217.996136 138.10437 217.996136 135.699219 \nC 217.996136 133.294068 218.964144 130.987102 220.686968 129.286403 \nC 222.409791 127.585704 224.74677 126.630128 227.18321 126.630128 \nz\n\" style=\"fill:#3f7f93;fill-opacity:0.8;stroke:#ffffff;stroke-opacity:0.8;\"/>\n    <path clip-path=\"url(#pf85ad7f6e8)\" d=\"M 250.150896 130.704258 \nC 251.492809 130.704258 252.779941 131.230558 253.728816 132.167248 \nC 254.677691 133.103937 255.210839 134.37454 255.210839 135.699219 \nC 255.210839 137.023898 254.677691 138.2945 253.728816 139.23119 \nC 252.779941 140.167879 251.492809 140.69418 250.150896 140.69418 \nC 248.808984 140.69418 247.521852 140.167879 246.572976 139.23119 \nC 245.624101 138.2945 245.090954 137.023898 245.090954 135.699219 \nC 245.090954 134.37454 245.624101 133.103937 246.572976 132.167248 \nC 247.521852 131.230558 248.808984 130.704258 250.150896 130.704258 \nz\n\" style=\"fill:#d89b8b;fill-opacity:0.8;stroke:#ffffff;stroke-opacity:0.8;\"/>\n    <path clip-path=\"url(#pf85ad7f6e8)\" d=\"M 273.118582 130.972698 \nC 274.388377 130.972698 275.606336 131.470714 276.504216 132.357064 \nC 277.402097 133.243414 277.906592 134.445731 277.906592 135.699219 \nC 277.906592 136.952707 277.402097 138.155024 276.504216 139.041373 \nC 275.606336 139.927723 274.388377 140.425739 273.118582 140.425739 \nC 271.848787 140.425739 270.630829 139.927723 269.732948 139.041373 \nC 268.835067 138.155024 268.330572 136.952707 268.330572 135.699219 \nC 268.330572 134.445731 268.835067 133.243414 269.732948 132.357064 \nC 270.630829 131.470714 271.848787 130.972698 273.118582 130.972698 \nz\n\" style=\"fill:#daa091;fill-opacity:0.8;stroke:#ffffff;stroke-opacity:0.8;\"/>\n    <path clip-path=\"url(#pf85ad7f6e8)\" d=\"M 296.086268 133.901677 \nC 296.569183 133.901677 297.032385 134.091077 297.373858 134.428165 \nC 297.71533 134.765252 297.907195 135.222505 297.907195 135.699219 \nC 297.907195 136.175932 297.71533 136.633185 297.373858 136.970273 \nC 297.032385 137.30736 296.569183 137.49676 296.086268 137.49676 \nC 295.603353 137.49676 295.140151 137.30736 294.798679 136.970273 \nC 294.457206 136.633185 294.265342 136.175932 294.265342 135.699219 \nC 294.265342 135.222505 294.457206 134.765252 294.798679 134.428165 \nC 295.140151 134.091077 295.603353 133.901677 296.086268 133.901677 \nz\n\" style=\"fill:#cddbe0;fill-opacity:0.8;stroke:#ffffff;stroke-opacity:0.8;\"/>\n    <path clip-path=\"url(#pf85ad7f6e8)\" d=\"M 319.053954 132.088629 \nC 320.023951 132.088629 320.954349 132.469064 321.64024 133.146147 \nC 322.326131 133.823229 322.711515 134.741679 322.711515 135.699219 \nC 322.711515 136.656758 322.326131 137.575208 321.64024 138.252291 \nC 320.954349 138.929374 320.023951 139.309808 319.053954 139.309808 \nC 318.083958 139.309808 317.153559 138.929374 316.467668 138.252291 \nC 315.781777 137.575208 315.396393 136.656758 315.396393 135.699219 \nC 315.396393 134.741679 315.781777 133.823229 316.467668 133.146147 \nC 317.153559 132.469064 318.083958 132.088629 319.053954 132.088629 \nz\n\" style=\"fill:#aac5cd;fill-opacity:0.8;stroke:#ffffff;stroke-opacity:0.8;\"/>\n    <path clip-path=\"url(#pf85ad7f6e8)\" d=\"M 342.02164 135.509915 \nC 342.072497 135.509915 342.121278 135.529861 342.157239 135.565361 \nC 342.193201 135.60086 342.213406 135.649015 342.213406 135.699219 \nC 342.213406 135.749423 342.193201 135.797577 342.157239 135.833077 \nC 342.121278 135.868576 342.072497 135.888522 342.02164 135.888522 \nC 341.970783 135.888522 341.922002 135.868576 341.886041 135.833077 \nC 341.850079 135.797577 341.829874 135.749423 341.829874 135.699219 \nC 341.829874 135.649015 341.850079 135.60086 341.886041 135.565361 \nC 341.922002 135.529861 341.970783 135.509915 342.02164 135.509915 \nz\n\" style=\"fill:#ecf0f1;fill-opacity:0.8;stroke:#ffffff;stroke-opacity:0.8;\"/>\n    <path clip-path=\"url(#pf85ad7f6e8)\" d=\"M 112.34478 153.408228 \nC 113.678299 153.408228 114.95738 153.931236 115.900321 154.862067 \nC 116.843261 155.792898 117.373074 157.055553 117.373074 158.371946 \nC 117.373074 159.688339 116.843261 160.950994 115.900321 161.881825 \nC 114.95738 162.812656 113.678299 163.335664 112.34478 163.335664 \nC 111.011262 163.335664 109.732181 162.812656 108.78924 161.881825 \nC 107.8463 160.950994 107.316487 159.688339 107.316487 158.371946 \nC 107.316487 157.055553 107.8463 155.792898 108.78924 154.862067 \nC 109.732181 153.931236 111.011262 153.408228 112.34478 153.408228 \nz\n\" style=\"fill:#d89b8b;fill-opacity:0.8;stroke:#ffffff;stroke-opacity:0.8;\"/>\n    <path clip-path=\"url(#pf85ad7f6e8)\" d=\"M 135.312466 158.071427 \nC 135.393202 158.071427 135.470641 158.103092 135.52773 158.159447 \nC 135.584818 158.215803 135.616895 158.292248 135.616895 158.371946 \nC 135.616895 158.451644 135.584818 158.528089 135.52773 158.584445 \nC 135.470641 158.6408 135.393202 158.672465 135.312466 158.672465 \nC 135.231731 158.672465 135.154292 158.6408 135.097203 158.584445 \nC 135.040115 158.528089 135.008038 158.451644 135.008038 158.371946 \nC 135.008038 158.292248 135.040115 158.215803 135.097203 158.159447 \nC 135.154292 158.103092 135.231731 158.071427 135.312466 158.071427 \nz\n\" style=\"fill:#f1eceb;fill-opacity:0.8;stroke:#ffffff;stroke-opacity:0.8;\"/>\n    <path clip-path=\"url(#pf85ad7f6e8)\" d=\"M 158.280152 157.656795 \nC 158.47228 157.656795 158.656565 157.732148 158.792419 157.866258 \nC 158.928274 158.000368 159.004607 158.182286 159.004607 158.371946 \nC 159.004607 158.561606 158.928274 158.743524 158.792419 158.877634 \nC 158.656565 159.011744 158.47228 159.087097 158.280152 159.087097 \nC 158.088025 159.087097 157.90374 159.011744 157.767885 158.877634 \nC 157.632031 158.743524 157.555697 158.561606 157.555697 158.371946 \nC 157.555697 158.182286 157.632031 158.000368 157.767885 157.866258 \nC 157.90374 157.732148 158.088025 157.656795 158.280152 157.656795 \nz\n\" style=\"fill:#e1e9eb;fill-opacity:0.8;stroke:#ffffff;stroke-opacity:0.8;\"/>\n    <path clip-path=\"url(#pf85ad7f6e8)\" d=\"M 181.247838 158.167872 \nC 181.302664 158.167872 181.355251 158.189374 181.394018 158.227644 \nC 181.432785 158.265913 181.454567 158.317825 181.454567 158.371946 \nC 181.454567 158.426067 181.432785 158.477979 181.394018 158.516248 \nC 181.355251 158.554518 181.302664 158.57602 181.247838 158.57602 \nC 181.193013 158.57602 181.140426 158.554518 181.101659 158.516248 \nC 181.062892 158.477979 181.041109 158.426067 181.041109 158.371946 \nC 181.041109 158.317825 181.062892 158.265913 181.101659 158.227644 \nC 181.140426 158.189374 181.193013 158.167872 181.247838 158.167872 \nz\n\" style=\"fill:#ecf0f1;fill-opacity:0.8;stroke:#ffffff;stroke-opacity:0.8;\"/>\n    <path clip-path=\"url(#pf85ad7f6e8)\" d=\"M 204.215524 157.645736 \nC 204.410623 157.645736 204.597757 157.722254 204.735713 157.858438 \nC 204.873668 157.994622 204.951182 158.179353 204.951182 158.371946 \nC 204.951182 158.564539 204.873668 158.74927 204.735713 158.885454 \nC 204.597757 159.021638 204.410623 159.098156 204.215524 159.098156 \nC 204.020426 159.098156 203.833291 159.021638 203.695336 158.885454 \nC 203.55738 158.74927 203.479867 158.564539 203.479867 158.371946 \nC 203.479867 158.179353 203.55738 157.994622 203.695336 157.858438 \nC 203.833291 157.722254 204.020426 157.645736 204.215524 157.645736 \nz\n\" style=\"fill:#e1e9eb;fill-opacity:0.8;stroke:#ffffff;stroke-opacity:0.8;\"/>\n    <path clip-path=\"url(#pf85ad7f6e8)\" d=\"M 227.18321 153.376985 \nC 228.525123 153.376985 229.812255 153.903285 230.76113 154.839975 \nC 231.710005 155.776665 232.243153 157.047267 232.243153 158.371946 \nC 232.243153 159.696625 231.710005 160.967227 230.76113 161.903917 \nC 229.812255 162.840607 228.525123 163.366907 227.18321 163.366907 \nC 225.841298 163.366907 224.554166 162.840607 223.60529 161.903917 \nC 222.656415 160.967227 222.123268 159.696625 222.123268 158.371946 \nC 222.123268 157.047267 222.656415 155.776665 223.60529 154.839975 \nC 224.554166 153.903285 225.841298 153.376985 227.18321 153.376985 \nz\n\" style=\"fill:#d89b8b;fill-opacity:0.8;stroke:#ffffff;stroke-opacity:0.8;\"/>\n    <path clip-path=\"url(#pf85ad7f6e8)\" d=\"M 250.150896 149.302855 \nC 252.587337 149.302855 254.924315 150.258432 256.647139 151.95913 \nC 258.369962 153.659829 259.337971 155.966795 259.337971 158.371946 \nC 259.337971 160.777097 258.369962 163.084063 256.647139 164.784762 \nC 254.924315 166.48546 252.587337 167.441037 250.150896 167.441037 \nC 247.714456 167.441037 245.377477 166.48546 243.654654 164.784762 \nC 241.93183 163.084063 240.963822 160.777097 240.963822 158.371946 \nC 240.963822 155.966795 241.93183 153.659829 243.654654 151.95913 \nC 245.377477 150.258432 247.714456 149.302855 250.150896 149.302855 \nz\n\" style=\"fill:#3f7f93;fill-opacity:0.8;stroke:#ffffff;stroke-opacity:0.8;\"/>\n    <path clip-path=\"url(#pf85ad7f6e8)\" d=\"M 273.118582 150.768474 \nC 275.16128 150.768474 277.120588 151.569623 278.564994 152.995479 \nC 280.009399 154.421335 280.820971 156.355482 280.820971 158.371946 \nC 280.820971 160.388411 280.009399 162.322557 278.564994 163.748413 \nC 277.120588 165.174269 275.16128 165.975419 273.118582 165.975419 \nC 271.075885 165.975419 269.116576 165.174269 267.672171 163.748413 \nC 266.227765 162.322557 265.416193 160.388411 265.416193 158.371946 \nC 265.416193 156.355482 266.227765 154.421335 267.672171 152.995479 \nC 269.116576 151.569623 271.075885 150.768474 273.118582 150.768474 \nz\n\" style=\"fill:#5b91a2;fill-opacity:0.8;stroke:#ffffff;stroke-opacity:0.8;\"/>\n    <path clip-path=\"url(#pf85ad7f6e8)\" d=\"M 296.086268 157.165299 \nC 296.410438 157.165299 296.721374 157.292439 296.950596 157.518718 \nC 297.179819 157.744997 297.308613 158.05194 297.308613 158.371946 \nC 297.308613 158.691953 297.179819 158.998895 296.950596 159.225174 \nC 296.721374 159.451453 296.410438 159.578593 296.086268 159.578593 \nC 295.762098 159.578593 295.451162 159.451453 295.22194 159.225174 \nC 294.992717 158.998895 294.863923 158.691953 294.863923 158.371946 \nC 294.863923 158.05194 294.992717 157.744997 295.22194 157.518718 \nC 295.451162 157.292439 295.762098 157.165299 296.086268 157.165299 \nz\n\" style=\"fill:#ecdcd8;fill-opacity:0.8;stroke:#ffffff;stroke-opacity:0.8;\"/>\n    <path clip-path=\"url(#pf85ad7f6e8)\" d=\"M 319.053954 153.777461 \nC 320.288277 153.777461 321.472212 154.261565 322.34501 155.123155 \nC 323.217808 155.984744 323.70821 157.153474 323.70821 158.371946 \nC 323.70821 159.590418 323.217808 160.759148 322.34501 161.620737 \nC 321.472212 162.482327 320.288277 162.966431 319.053954 162.966431 \nC 317.819631 162.966431 316.635696 162.482327 315.762898 161.620737 \nC 314.8901 160.759148 314.399698 159.590418 314.399698 158.371946 \nC 314.399698 157.153474 314.8901 155.984744 315.762898 155.123155 \nC 316.635696 154.261565 317.819631 153.777461 319.053954 153.777461 \nz\n\" style=\"fill:#daa294;fill-opacity:0.8;stroke:#ffffff;stroke-opacity:0.8;\"/>\n    <path clip-path=\"url(#pf85ad7f6e8)\" d=\"M 342.02164 155.463236 \nC 342.803074 155.463236 343.552608 155.769716 344.105166 156.315177 \nC 344.657724 156.860639 344.968191 157.600547 344.968191 158.371946 \nC 344.968191 159.143345 344.657724 159.883253 344.105166 160.428715 \nC 343.552608 160.974176 342.803074 161.280656 342.02164 161.280656 \nC 341.240206 161.280656 340.490671 160.974176 339.938114 160.428715 \nC 339.385556 159.883253 339.075089 159.143345 339.075089 158.371946 \nC 339.075089 157.600547 339.385556 156.860639 339.938114 156.315177 \nC 340.490671 155.769716 341.240206 155.463236 342.02164 155.463236 \nz\n\" style=\"fill:#e3bfb6;fill-opacity:0.8;stroke:#ffffff;stroke-opacity:0.8;\"/>\n    <path clip-path=\"url(#pf85ad7f6e8)\" d=\"M 112.34478 175.424972 \nC 113.854531 175.424972 115.30265 176.017099 116.370205 177.070945 \nC 117.43776 178.12479 118.03759 179.554311 118.03759 181.044673 \nC 118.03759 182.535035 117.43776 183.964557 116.370205 185.018402 \nC 115.30265 186.072247 113.854531 186.664374 112.34478 186.664374 \nC 110.83503 186.664374 109.386911 186.072247 108.319356 185.018402 \nC 107.251801 183.964557 106.651971 182.535035 106.651971 181.044673 \nC 106.651971 179.554311 107.251801 178.12479 108.319356 177.070945 \nC 109.386911 176.017099 110.83503 175.424972 112.34478 175.424972 \nz\n\" style=\"fill:#d5907e;fill-opacity:0.8;stroke:#ffffff;stroke-opacity:0.8;\"/>\n    <path clip-path=\"url(#pf85ad7f6e8)\" d=\"M 135.312466 180.514349 \nC 135.45494 180.514349 135.591597 180.570227 135.692341 180.669677 \nC 135.793085 180.769127 135.84969 180.90403 135.84969 181.044673 \nC 135.84969 181.185317 135.793085 181.320219 135.692341 181.419669 \nC 135.591597 181.519119 135.45494 181.574998 135.312466 181.574998 \nC 135.169993 181.574998 135.033336 181.519119 134.932592 181.419669 \nC 134.831848 181.320219 134.775243 181.185317 134.775243 181.044673 \nC 134.775243 180.90403 134.831848 180.769127 134.932592 180.669677 \nC 135.033336 180.570227 135.169993 180.514349 135.312466 180.514349 \nz\n\" style=\"fill:#f0e8e7;fill-opacity:0.8;stroke:#ffffff;stroke-opacity:0.8;\"/>\n    <path clip-path=\"url(#pf85ad7f6e8)\" d=\"M 158.280152 180.335355 \nC 158.470713 180.335355 158.653495 180.410093 158.788241 180.543109 \nC 158.922988 180.676126 158.998699 180.85656 158.998699 181.044673 \nC 158.998699 181.232787 158.922988 181.413221 158.788241 181.546237 \nC 158.653495 181.679254 158.470713 181.753992 158.280152 181.753992 \nC 158.089592 181.753992 157.90681 181.679254 157.772063 181.546237 \nC 157.637317 181.413221 157.561606 181.232787 157.561606 181.044673 \nC 157.561606 180.85656 157.637317 180.676126 157.772063 180.543109 \nC 157.90681 180.410093 158.089592 180.335355 158.280152 180.335355 \nz\n\" style=\"fill:#e1e9eb;fill-opacity:0.8;stroke:#ffffff;stroke-opacity:0.8;\"/>\n    <path clip-path=\"url(#pf85ad7f6e8)\" d=\"M 181.247838 180.731666 \nC 181.331929 180.731666 181.412586 180.764647 181.472047 180.823344 \nC 181.531508 180.882041 181.564917 180.961663 181.564917 181.044673 \nC 181.564917 181.127684 181.531508 181.207305 181.472047 181.266003 \nC 181.412586 181.3247 181.331929 181.35768 181.247838 181.35768 \nC 181.163748 181.35768 181.08309 181.3247 181.02363 181.266003 \nC 180.964169 181.207305 180.930759 181.127684 180.930759 181.044673 \nC 180.930759 180.961663 180.964169 180.882041 181.02363 180.823344 \nC 181.08309 180.764647 181.163748 180.731666 181.247838 180.731666 \nz\n\" style=\"fill:#eaeef0;fill-opacity:0.8;stroke:#ffffff;stroke-opacity:0.8;\"/>\n    <path clip-path=\"url(#pf85ad7f6e8)\" d=\"M 204.215524 180.416512 \nC 204.384282 180.416512 204.54615 180.482699 204.66548 180.600496 \nC 204.78481 180.718293 204.851858 180.878083 204.851858 181.044673 \nC 204.851858 181.211264 204.78481 181.371053 204.66548 181.48885 \nC 204.54615 181.606648 204.384282 181.672835 204.215524 181.672835 \nC 204.046767 181.672835 203.884898 181.606648 203.765569 181.48885 \nC 203.646239 181.371053 203.579191 181.211264 203.579191 181.044673 \nC 203.579191 180.878083 203.646239 180.718293 203.765569 180.600496 \nC 203.884898 180.482699 204.046767 180.416512 204.215524 180.416512 \nz\n\" style=\"fill:#e4eaed;fill-opacity:0.8;stroke:#ffffff;stroke-opacity:0.8;\"/>\n    <path clip-path=\"url(#pf85ad7f6e8)\" d=\"M 227.18321 176.318153 \nC 228.453005 176.318153 229.670964 176.816169 230.568844 177.702519 \nC 231.466725 178.588868 231.97122 179.791185 231.97122 181.044673 \nC 231.97122 182.298161 231.466725 183.500478 230.568844 184.386828 \nC 229.670964 185.273178 228.453005 185.771194 227.18321 185.771194 \nC 225.913415 185.771194 224.695457 185.273178 223.797576 184.386828 \nC 222.899695 183.500478 222.395201 182.298161 222.395201 181.044673 \nC 222.395201 179.791185 222.899695 178.588868 223.797576 177.702519 \nC 224.695457 176.816169 225.913415 176.318153 227.18321 176.318153 \nz\n\" style=\"fill:#daa091;fill-opacity:0.8;stroke:#ffffff;stroke-opacity:0.8;\"/>\n    <path clip-path=\"url(#pf85ad7f6e8)\" d=\"M 250.150896 173.441201 \nC 252.193594 173.441201 254.152903 174.242351 255.597308 175.668206 \nC 257.041713 177.094062 257.853285 179.028209 257.853285 181.044673 \nC 257.853285 183.061138 257.041713 184.995285 255.597308 186.42114 \nC 254.152903 187.846996 252.193594 188.648146 250.150896 188.648146 \nC 248.108199 188.648146 246.14889 187.846996 244.704485 186.42114 \nC 243.260079 184.995285 242.448507 183.061138 242.448507 181.044673 \nC 242.448507 179.028209 243.260079 177.094062 244.704485 175.668206 \nC 246.14889 174.242351 248.108199 173.441201 250.150896 173.441201 \nz\n\" style=\"fill:#5b91a2;fill-opacity:0.8;stroke:#ffffff;stroke-opacity:0.8;\"/>\n    <path clip-path=\"url(#pf85ad7f6e8)\" d=\"M 273.118582 171.975582 \nC 275.555023 171.975582 277.892001 172.931159 279.614825 174.631858 \nC 281.337648 176.332556 282.305657 178.639522 282.305657 181.044673 \nC 282.305657 183.449824 281.337648 185.75679 279.614825 187.457489 \nC 277.892001 189.158188 275.555023 190.113764 273.118582 190.113764 \nC 270.682142 190.113764 268.345163 189.158188 266.62234 187.457489 \nC 264.899516 185.75679 263.931508 183.449824 263.931508 181.044673 \nC 263.931508 178.639522 264.899516 176.332556 266.62234 174.631858 \nC 268.345163 172.931159 270.682142 171.975582 273.118582 171.975582 \nz\n\" style=\"fill:#3f7f93;fill-opacity:0.8;stroke:#ffffff;stroke-opacity:0.8;\"/>\n    <path clip-path=\"url(#pf85ad7f6e8)\" d=\"M 296.086268 179.231181 \nC 296.573469 179.231181 297.04078 179.422262 297.385283 179.762341 \nC 297.729786 180.102419 297.923353 180.563729 297.923353 181.044673 \nC 297.923353 181.525617 297.729786 181.986927 297.385283 182.327006 \nC 297.04078 182.667085 296.573469 182.858166 296.086268 182.858166 \nC 295.599067 182.858166 295.131756 182.667085 294.787253 182.327006 \nC 294.44275 181.986927 294.249183 181.525617 294.249183 181.044673 \nC 294.249183 180.563729 294.44275 180.102419 294.787253 179.762341 \nC 295.131756 179.422262 295.599067 179.231181 296.086268 179.231181 \nz\n\" style=\"fill:#e9d2cd;fill-opacity:0.8;stroke:#ffffff;stroke-opacity:0.8;\"/>\n    <path clip-path=\"url(#pf85ad7f6e8)\" d=\"M 319.053954 175.828584 \nC 320.455273 175.828584 321.799387 176.378184 322.790269 177.356341 \nC 323.781151 178.334498 324.337901 179.66135 324.337901 181.044673 \nC 324.337901 182.427996 323.781151 183.754848 322.790269 184.733005 \nC 321.799387 185.711162 320.455273 186.260762 319.053954 186.260762 \nC 317.652635 186.260762 316.308521 185.711162 315.317639 184.733005 \nC 314.326757 183.754848 313.770007 182.427996 313.770007 181.044673 \nC 313.770007 179.66135 314.326757 178.334498 315.317639 177.356341 \nC 316.308521 176.378184 317.652635 175.828584 319.053954 175.828584 \nz\n\" style=\"fill:#d79787;fill-opacity:0.8;stroke:#ffffff;stroke-opacity:0.8;\"/>\n    <path clip-path=\"url(#pf85ad7f6e8)\" d=\"M 342.02164 177.941397 \nC 342.855345 177.941397 343.655016 178.268378 344.244535 178.850326 \nC 344.834053 179.432273 345.165288 180.221675 345.165288 181.044673 \nC 345.165288 181.867672 344.834053 182.657073 344.244535 183.239021 \nC 343.655016 183.820969 342.855345 184.14795 342.02164 184.14795 \nC 341.187935 184.14795 340.388264 183.820969 339.798745 183.239021 \nC 339.209227 182.657073 338.877992 181.867672 338.877992 181.044673 \nC 338.877992 180.221675 339.209227 179.432273 339.798745 178.850326 \nC 340.388264 178.268378 341.187935 177.941397 342.02164 177.941397 \nz\n\" style=\"fill:#e2bcb3;fill-opacity:0.8;stroke:#ffffff;stroke-opacity:0.8;\"/>\n    <path clip-path=\"url(#pf85ad7f6e8)\" d=\"M 112.34478 203.085892 \nC 112.514437 203.085892 112.677168 203.152432 112.797134 203.270857 \nC 112.917099 203.389281 112.984504 203.549923 112.984504 203.717401 \nC 112.984504 203.884879 112.917099 204.04552 112.797134 204.163944 \nC 112.677168 204.282369 112.514437 204.348909 112.34478 204.348909 \nC 112.175124 204.348909 112.012393 204.282369 111.892427 204.163944 \nC 111.772462 204.04552 111.705056 203.884879 111.705056 203.717401 \nC 111.705056 203.549923 111.772462 203.389281 111.892427 203.270857 \nC 112.012393 203.152432 112.175124 203.085892 112.34478 203.085892 \nz\n\" style=\"fill:#e4eaed;fill-opacity:0.8;stroke:#ffffff;stroke-opacity:0.8;\"/>\n    <path clip-path=\"url(#pf85ad7f6e8)\" d=\"M 135.312466 203.228423 \nC 135.443832 203.228423 135.569835 203.279945 135.662724 203.371641 \nC 135.755613 203.463338 135.807805 203.587722 135.807805 203.717401 \nC 135.807805 203.847079 135.755613 203.971464 135.662724 204.06316 \nC 135.569835 204.154856 135.443832 204.206378 135.312466 204.206378 \nC 135.181101 204.206378 135.055098 204.154856 134.962209 204.06316 \nC 134.869319 203.971464 134.817127 203.847079 134.817127 203.717401 \nC 134.817127 203.587722 134.869319 203.463338 134.962209 203.371641 \nC 135.055098 203.279945 135.181101 203.228423 135.312466 203.228423 \nz\n\" style=\"fill:#f0e9e8;fill-opacity:0.8;stroke:#ffffff;stroke-opacity:0.8;\"/>\n    <path clip-path=\"url(#pf85ad7f6e8)\" d=\"M 158.280152 202.846137 \nC 158.51422 202.846137 158.738733 202.937939 158.904244 203.101324 \nC 159.069755 203.264709 159.162751 203.486339 159.162751 203.717401 \nC 159.162751 203.948462 159.069755 204.170092 158.904244 204.333477 \nC 158.738733 204.496863 158.51422 204.588664 158.280152 204.588664 \nC 158.046085 204.588664 157.821572 204.496863 157.656061 204.333477 \nC 157.49055 204.170092 157.397554 203.948462 157.397554 203.717401 \nC 157.397554 203.486339 157.49055 203.264709 157.656061 203.101324 \nC 157.821572 202.937939 158.046085 202.846137 158.280152 202.846137 \nz\n\" style=\"fill:#dfe7ea;fill-opacity:0.8;stroke:#ffffff;stroke-opacity:0.8;\"/>\n    <path clip-path=\"url(#pf85ad7f6e8)\" d=\"M 181.247838 203.434277 \nC 181.3239 203.434277 181.396857 203.464109 181.450642 203.517202 \nC 181.504426 203.570295 181.534645 203.642315 181.534645 203.717401 \nC 181.534645 203.792486 181.504426 203.864506 181.450642 203.917599 \nC 181.396857 203.970693 181.3239 204.000524 181.247838 204.000524 \nC 181.171776 204.000524 181.098819 203.970693 181.045035 203.917599 \nC 180.991251 203.864506 180.961031 203.792486 180.961031 203.717401 \nC 180.961031 203.642315 180.991251 203.570295 181.045035 203.517202 \nC 181.098819 203.464109 181.171776 203.434277 181.247838 203.434277 \nz\n\" style=\"fill:#f1edec;fill-opacity:0.8;stroke:#ffffff;stroke-opacity:0.8;\"/>\n    <path clip-path=\"url(#pf85ad7f6e8)\" d=\"M 204.215524 203.653672 \nC 204.232645 203.653672 204.249067 203.660387 204.261173 203.672338 \nC 204.273279 203.684289 204.280082 203.7005 204.280082 203.717401 \nC 204.280082 203.734302 204.273279 203.750512 204.261173 203.762463 \nC 204.249067 203.774414 204.232645 203.781129 204.215524 203.781129 \nC 204.198403 203.781129 204.181982 203.774414 204.169875 203.762463 \nC 204.157769 203.750512 204.150967 203.734302 204.150967 203.717401 \nC 204.150967 203.7005 204.157769 203.684289 204.169875 203.672338 \nC 204.181982 203.660387 204.198403 203.653672 204.215524 203.653672 \nz\n\" style=\"fill:#f0f2f2;fill-opacity:0.8;stroke:#ffffff;stroke-opacity:0.8;\"/>\n    <path clip-path=\"url(#pf85ad7f6e8)\" d=\"M 227.18321 201.919859 \nC 227.666126 201.919859 228.129327 202.109259 228.4708 202.446347 \nC 228.812272 202.783434 229.004137 203.240687 229.004137 203.717401 \nC 229.004137 204.194114 228.812272 204.651367 228.4708 204.988454 \nC 228.129327 205.325542 227.666126 205.514942 227.18321 205.514942 \nC 226.700295 205.514942 226.237093 205.325542 225.895621 204.988454 \nC 225.554148 204.651367 225.362284 204.194114 225.362284 203.717401 \nC 225.362284 203.240687 225.554148 202.783434 225.895621 202.446347 \nC 226.237093 202.109259 226.700295 201.919859 227.18321 201.919859 \nz\n\" style=\"fill:#cddbe0;fill-opacity:0.8;stroke:#ffffff;stroke-opacity:0.8;\"/>\n    <path clip-path=\"url(#pf85ad7f6e8)\" d=\"M 250.150896 202.510754 \nC 250.475066 202.510754 250.786002 202.637894 251.015224 202.864172 \nC 251.244447 203.090451 251.373241 203.397394 251.373241 203.717401 \nC 251.373241 204.037407 251.244447 204.34435 251.015224 204.570629 \nC 250.786002 204.796908 250.475066 204.924048 250.150896 204.924048 \nC 249.826727 204.924048 249.51579 204.796908 249.286568 204.570629 \nC 249.057345 204.34435 248.928551 204.037407 248.928551 203.717401 \nC 248.928551 203.397394 249.057345 203.090451 249.286568 202.864172 \nC 249.51579 202.637894 249.826727 202.510754 250.150896 202.510754 \nz\n\" style=\"fill:#ecdcd8;fill-opacity:0.8;stroke:#ffffff;stroke-opacity:0.8;\"/>\n    <path clip-path=\"url(#pf85ad7f6e8)\" d=\"M 273.118582 201.903908 \nC 273.605783 201.903908 274.073094 202.094989 274.417597 202.435068 \nC 274.7621 202.775146 274.955667 203.236457 274.955667 203.717401 \nC 274.955667 204.198344 274.7621 204.659655 274.417597 204.999733 \nC 274.073094 205.339812 273.605783 205.530893 273.118582 205.530893 \nC 272.631382 205.530893 272.16407 205.339812 271.819567 204.999733 \nC 271.475064 204.659655 271.281497 204.198344 271.281497 203.717401 \nC 271.281497 203.236457 271.475064 202.775146 271.819567 202.435068 \nC 272.16407 202.094989 272.631382 201.903908 273.118582 201.903908 \nz\n\" style=\"fill:#e9d2cd;fill-opacity:0.8;stroke:#ffffff;stroke-opacity:0.8;\"/>\n    <path clip-path=\"url(#pf85ad7f6e8)\" d=\"M 296.086268 194.64831 \nC 298.522709 194.64831 300.859687 195.603886 302.582511 197.304585 \nC 304.305334 199.005283 305.273342 201.31225 305.273342 203.717401 \nC 305.273342 206.122552 304.305334 208.429518 302.582511 210.130216 \nC 300.859687 211.830915 298.522709 212.786491 296.086268 212.786491 \nC 293.649827 212.786491 291.312849 211.830915 289.590025 210.130216 \nC 287.867202 208.429518 286.899194 206.122552 286.899194 203.717401 \nC 286.899194 201.31225 287.867202 199.005283 289.590025 197.304585 \nC 291.312849 195.603886 293.649827 194.64831 296.086268 194.64831 \nz\n\" style=\"fill:#3f7f93;fill-opacity:0.8;stroke:#ffffff;stroke-opacity:0.8;\"/>\n    <path clip-path=\"url(#pf85ad7f6e8)\" d=\"M 319.053954 203.078764 \nC 319.225526 203.078764 319.390094 203.146055 319.511413 203.265816 \nC 319.632733 203.385578 319.700899 203.548032 319.700899 203.717401 \nC 319.700899 203.886769 319.632733 204.049223 319.511413 204.168985 \nC 319.390094 204.288747 319.225526 204.356037 319.053954 204.356037 \nC 318.882382 204.356037 318.717814 204.288747 318.596495 204.168985 \nC 318.475175 204.049223 318.407009 203.886769 318.407009 203.717401 \nC 318.407009 203.548032 318.475175 203.385578 318.596495 203.265816 \nC 318.717814 203.146055 318.882382 203.078764 319.053954 203.078764 \nz\n\" style=\"fill:#e3e9ec;fill-opacity:0.8;stroke:#ffffff;stroke-opacity:0.8;\"/>\n    <path clip-path=\"url(#pf85ad7f6e8)\" d=\"M 342.02164 203.020179 \nC 342.208951 203.020179 342.388615 203.093642 342.521064 203.22439 \nC 342.653513 203.355138 342.727932 203.532495 342.727932 203.717401 \nC 342.727932 203.902306 342.653513 204.079663 342.521064 204.210411 \nC 342.388615 204.341159 342.208951 204.414622 342.02164 204.414622 \nC 341.834329 204.414622 341.654665 204.341159 341.522216 204.210411 \nC 341.389767 204.079663 341.315348 203.902306 341.315348 203.717401 \nC 341.315348 203.532495 341.389767 203.355138 341.522216 203.22439 \nC 341.654665 203.093642 341.834329 203.020179 342.02164 203.020179 \nz\n\" style=\"fill:#e3e9ec;fill-opacity:0.8;stroke:#ffffff;stroke-opacity:0.8;\"/>\n    <path clip-path=\"url(#pf85ad7f6e8)\" d=\"M 112.34478 220.490627 \nC 113.929701 220.490627 115.44992 221.112235 116.570628 222.21855 \nC 117.691335 223.324866 118.321031 224.825562 118.321031 226.390128 \nC 118.321031 227.954694 117.691335 229.45539 116.570628 230.561705 \nC 115.44992 231.66802 113.929701 232.289629 112.34478 232.289629 \nC 110.75986 232.289629 109.239641 231.66802 108.118933 230.561705 \nC 106.998226 229.45539 106.36853 227.954694 106.36853 226.390128 \nC 106.36853 224.825562 106.998226 223.324866 108.118933 222.21855 \nC 109.239641 221.112235 110.75986 220.490627 112.34478 220.490627 \nz\n\" style=\"fill:#7ca7b4;fill-opacity:0.8;stroke:#ffffff;stroke-opacity:0.8;\"/>\n    <path clip-path=\"url(#pf85ad7f6e8)\" d=\"M 135.312466 224.926384 \nC 135.705706 224.926384 136.082892 225.080614 136.360954 225.355105 \nC 136.639017 225.629596 136.795252 226.001939 136.795252 226.390128 \nC 136.795252 226.778317 136.639017 227.150659 136.360954 227.425151 \nC 136.082892 227.699642 135.705706 227.853871 135.312466 227.853871 \nC 134.919227 227.853871 134.542041 227.699642 134.263979 227.425151 \nC 133.985916 227.150659 133.829681 226.778317 133.829681 226.390128 \nC 133.829681 226.001939 133.985916 225.629596 134.263979 225.355105 \nC 134.542041 225.080614 134.919227 224.926384 135.312466 224.926384 \nz\n\" style=\"fill:#d4e0e4;fill-opacity:0.8;stroke:#ffffff;stroke-opacity:0.8;\"/>\n    <path clip-path=\"url(#pf85ad7f6e8)\" d=\"M 158.280152 225.607749 \nC 158.490341 225.607749 158.691949 225.690185 158.840575 225.836902 \nC 158.989201 225.983619 159.07271 226.182638 159.07271 226.390128 \nC 159.07271 226.597617 158.989201 226.796636 158.840575 226.943353 \nC 158.691949 227.090071 158.490341 227.172507 158.280152 227.172507 \nC 158.069964 227.172507 157.868356 227.090071 157.71973 226.943353 \nC 157.571104 226.796636 157.487595 226.597617 157.487595 226.390128 \nC 157.487595 226.182638 157.571104 225.983619 157.71973 225.836902 \nC 157.868356 225.690185 158.069964 225.607749 158.280152 225.607749 \nz\n\" style=\"fill:#eee3e1;fill-opacity:0.8;stroke:#ffffff;stroke-opacity:0.8;\"/>\n    <path clip-path=\"url(#pf85ad7f6e8)\" d=\"M 181.247838 225.626611 \nC 181.45296 225.626611 181.649707 225.70706 181.79475 225.85024 \nC 181.939793 225.99342 182.021288 226.187641 182.021288 226.390128 \nC 182.021288 226.592615 181.939793 226.786836 181.79475 226.930016 \nC 181.649707 227.073196 181.45296 227.153645 181.247838 227.153645 \nC 181.042717 227.153645 180.845969 227.073196 180.700926 226.930016 \nC 180.555884 226.786836 180.474388 226.592615 180.474388 226.390128 \nC 180.474388 226.187641 180.555884 225.99342 180.700926 225.85024 \nC 180.845969 225.70706 181.042717 225.626611 181.247838 225.626611 \nz\n\" style=\"fill:#efe5e2;fill-opacity:0.8;stroke:#ffffff;stroke-opacity:0.8;\"/>\n    <path clip-path=\"url(#pf85ad7f6e8)\" d=\"M 204.215524 225.5877 \nC 204.431099 225.5877 204.637873 225.672249 204.790308 225.822726 \nC 204.942742 225.973203 205.028391 226.177322 205.028391 226.390128 \nC 205.028391 226.602934 204.942742 226.807053 204.790308 226.95753 \nC 204.637873 227.108007 204.431099 227.192555 204.215524 227.192555 \nC 203.99995 227.192555 203.793175 227.108007 203.640741 226.95753 \nC 203.488306 226.807053 203.402658 226.602934 203.402658 226.390128 \nC 203.402658 226.177322 203.488306 225.973203 203.640741 225.822726 \nC 203.793175 225.672249 203.99995 225.5877 204.215524 225.5877 \nz\n\" style=\"fill:#eee3e1;fill-opacity:0.8;stroke:#ffffff;stroke-opacity:0.8;\"/>\n    <path clip-path=\"url(#pf85ad7f6e8)\" d=\"M 227.18321 222.779538 \nC 228.153207 222.779538 229.083605 223.159973 229.769496 223.837056 \nC 230.455388 224.514138 230.840771 225.432588 230.840771 226.390128 \nC 230.840771 227.347667 230.455388 228.266117 229.769496 228.9432 \nC 229.083605 229.620283 228.153207 230.000717 227.18321 230.000717 \nC 226.213214 230.000717 225.282815 229.620283 224.596924 228.9432 \nC 223.911033 228.266117 223.525649 227.347667 223.525649 226.390128 \nC 223.525649 225.432588 223.911033 224.514138 224.596924 223.837056 \nC 225.282815 223.159973 226.213214 222.779538 227.18321 222.779538 \nz\n\" style=\"fill:#aac5cd;fill-opacity:0.8;stroke:#ffffff;stroke-opacity:0.8;\"/>\n    <path clip-path=\"url(#pf85ad7f6e8)\" d=\"M 250.150896 221.795643 \nC 251.385219 221.795643 252.569154 222.279747 253.441952 223.141337 \nC 254.314751 224.002926 254.805152 225.171656 254.805152 226.390128 \nC 254.805152 227.608599 254.314751 228.77733 253.441952 229.638919 \nC 252.569154 230.500509 251.385219 230.984613 250.150896 230.984613 \nC 248.916573 230.984613 247.732638 230.500509 246.85984 229.638919 \nC 245.987042 228.77733 245.49664 227.608599 245.49664 226.390128 \nC 245.49664 225.171656 245.987042 224.002926 246.85984 223.141337 \nC 247.732638 222.279747 248.916573 221.795643 250.150896 221.795643 \nz\n\" style=\"fill:#daa294;fill-opacity:0.8;stroke:#ffffff;stroke-opacity:0.8;\"/>\n    <path clip-path=\"url(#pf85ad7f6e8)\" d=\"M 273.118582 221.174039 \nC 274.519901 221.174039 275.864015 221.723639 276.854897 222.701796 \nC 277.845779 223.679953 278.402529 225.006805 278.402529 226.390128 \nC 278.402529 227.773451 277.845779 229.100303 276.854897 230.07846 \nC 275.864015 231.056617 274.519901 231.606217 273.118582 231.606217 \nC 271.717263 231.606217 270.373149 231.056617 269.382267 230.07846 \nC 268.391385 229.100303 267.834635 227.773451 267.834635 226.390128 \nC 267.834635 225.006805 268.391385 223.679953 269.382267 222.701796 \nC 270.373149 221.723639 271.717263 221.174039 273.118582 221.174039 \nz\n\" style=\"fill:#d79787;fill-opacity:0.8;stroke:#ffffff;stroke-opacity:0.8;\"/>\n    <path clip-path=\"url(#pf85ad7f6e8)\" d=\"M 296.086268 225.751491 \nC 296.25784 225.751491 296.422408 225.818782 296.543727 225.938543 \nC 296.665047 226.058305 296.733213 226.220759 296.733213 226.390128 \nC 296.733213 226.559496 296.665047 226.721951 296.543727 226.841712 \nC 296.422408 226.961474 296.25784 227.028765 296.086268 227.028765 \nC 295.914696 227.028765 295.750128 226.961474 295.628809 226.841712 \nC 295.507489 226.721951 295.439323 226.559496 295.439323 226.390128 \nC 295.439323 226.220759 295.507489 226.058305 295.628809 225.938543 \nC 295.750128 225.818782 295.914696 225.751491 296.086268 225.751491 \nz\n\" style=\"fill:#e3e9ec;fill-opacity:0.8;stroke:#ffffff;stroke-opacity:0.8;\"/>\n    <path clip-path=\"url(#pf85ad7f6e8)\" d=\"M 319.053954 217.321037 \nC 321.490395 217.321037 323.827373 218.276614 325.550197 219.977312 \nC 327.27302 221.678011 328.241028 223.984977 328.241028 226.390128 \nC 328.241028 228.795279 327.27302 231.102245 325.550197 232.802944 \nC 323.827373 234.503642 321.490395 235.459219 319.053954 235.459219 \nC 316.617513 235.459219 314.280535 234.503642 312.557711 232.802944 \nC 310.834888 231.102245 309.86688 228.795279 309.86688 226.390128 \nC 309.86688 223.984977 310.834888 221.678011 312.557711 219.977312 \nC 314.280535 218.276614 316.617513 217.321037 319.053954 217.321037 \nz\n\" style=\"fill:#3f7f93;fill-opacity:0.8;stroke:#ffffff;stroke-opacity:0.8;\"/>\n    <path clip-path=\"url(#pf85ad7f6e8)\" d=\"M 342.02164 225.607419 \nC 342.231917 225.607419 342.43361 225.689891 342.582299 225.836669 \nC 342.730987 225.983448 342.814531 226.182551 342.814531 226.390128 \nC 342.814531 226.597705 342.730987 226.796807 342.582299 226.943586 \nC 342.43361 227.090365 342.231917 227.172836 342.02164 227.172836 \nC 341.811363 227.172836 341.60967 227.090365 341.460981 226.943586 \nC 341.312293 226.796807 341.228749 226.597705 341.228749 226.390128 \nC 341.228749 226.182551 341.312293 225.983448 341.460981 225.836669 \nC 341.60967 225.689891 341.811363 225.607419 342.02164 225.607419 \nz\n\" style=\"fill:#e0e8ea;fill-opacity:0.8;stroke:#ffffff;stroke-opacity:0.8;\"/>\n    <path clip-path=\"url(#pf85ad7f6e8)\" d=\"M 112.34478 248.858651 \nC 112.39964 248.858651 112.452261 248.880168 112.491053 248.918461 \nC 112.529845 248.956755 112.551641 249.0087 112.551641 249.062855 \nC 112.551641 249.117011 112.529845 249.168955 112.491053 249.207249 \nC 112.452261 249.245543 112.39964 249.267059 112.34478 249.267059 \nC 112.28992 249.267059 112.2373 249.245543 112.198508 249.207249 \nC 112.159716 249.168955 112.13792 249.117011 112.13792 249.062855 \nC 112.13792 249.0087 112.159716 248.956755 112.198508 248.918461 \nC 112.2373 248.880168 112.28992 248.858651 112.34478 248.858651 \nz\n\" style=\"fill:#ecf0f1;fill-opacity:0.8;stroke:#ffffff;stroke-opacity:0.8;\"/>\n    <path clip-path=\"url(#pf85ad7f6e8)\" d=\"M 135.312466 248.08427 \nC 135.575366 248.08427 135.827534 248.18738 136.013432 248.370891 \nC 136.199331 248.554402 136.303782 248.803331 136.303782 249.062855 \nC 136.303782 249.322379 136.199331 249.571308 136.013432 249.754819 \nC 135.827534 249.93833 135.575366 250.04144 135.312466 250.04144 \nC 135.049566 250.04144 134.797399 249.93833 134.6115 249.754819 \nC 134.425602 249.571308 134.321151 249.322379 134.321151 249.062855 \nC 134.321151 248.803331 134.425602 248.554402 134.6115 248.370891 \nC 134.797399 248.18738 135.049566 248.08427 135.312466 248.08427 \nz\n\" style=\"fill:#dde6e9;fill-opacity:0.8;stroke:#ffffff;stroke-opacity:0.8;\"/>\n    <path clip-path=\"url(#pf85ad7f6e8)\" d=\"M 158.280152 248.9197 \nC 158.318611 248.9197 158.3555 248.934784 158.382695 248.961629 \nC 158.40989 248.988475 158.42517 249.02489 158.42517 249.062855 \nC 158.42517 249.10082 158.40989 249.137236 158.382695 249.164081 \nC 158.3555 249.190926 158.318611 249.20601 158.280152 249.20601 \nC 158.241693 249.20601 158.204804 249.190926 158.17761 249.164081 \nC 158.150415 249.137236 158.135135 249.10082 158.135135 249.062855 \nC 158.135135 249.02489 158.150415 248.988475 158.17761 248.961629 \nC 158.204804 248.934784 158.241693 248.9197 158.280152 248.9197 \nz\n\" style=\"fill:#f2eeee;fill-opacity:0.8;stroke:#ffffff;stroke-opacity:0.8;\"/>\n    <path clip-path=\"url(#pf85ad7f6e8)\" d=\"M 181.247838 248.478019 \nC 181.404956 248.478019 181.555661 248.539641 181.66676 248.649313 \nC 181.777859 248.758986 181.840283 248.907755 181.840283 249.062855 \nC 181.840283 249.217956 181.777859 249.366724 181.66676 249.476397 \nC 181.555661 249.586069 181.404956 249.647691 181.247838 249.647691 \nC 181.09072 249.647691 180.940016 249.586069 180.828917 249.476397 \nC 180.717817 249.366724 180.655394 249.217956 180.655394 249.062855 \nC 180.655394 248.907755 180.717817 248.758986 180.828917 248.649313 \nC 180.940016 248.539641 181.09072 248.478019 181.247838 248.478019 \nz\n\" style=\"fill:#efe7e5;fill-opacity:0.8;stroke:#ffffff;stroke-opacity:0.8;\"/>\n    <path clip-path=\"url(#pf85ad7f6e8)\" d=\"M 204.215524 247.948055 \nC 204.515019 247.948055 204.802287 248.065517 205.014062 248.274572 \nC 205.225837 248.483627 205.344827 248.767207 205.344827 249.062855 \nC 205.344827 249.358504 205.225837 249.642083 205.014062 249.851138 \nC 204.802287 250.060193 204.515019 250.177655 204.215524 250.177655 \nC 203.91603 250.177655 203.628761 250.060193 203.416986 249.851138 \nC 203.205212 249.642083 203.086221 249.358504 203.086221 249.062855 \nC 203.086221 248.767207 203.205212 248.483627 203.416986 248.274572 \nC 203.628761 248.065517 203.91603 247.948055 204.215524 247.948055 \nz\n\" style=\"fill:#dae4e7;fill-opacity:0.8;stroke:#ffffff;stroke-opacity:0.8;\"/>\n    <path clip-path=\"url(#pf85ad7f6e8)\" d=\"M 227.18321 248.873552 \nC 227.234067 248.873552 227.282848 248.893498 227.318809 248.928997 \nC 227.354771 248.964497 227.374977 249.012651 227.374977 249.062855 \nC 227.374977 249.113059 227.354771 249.161213 227.318809 249.196713 \nC 227.282848 249.232212 227.234067 249.252159 227.18321 249.252159 \nC 227.132353 249.252159 227.083572 249.232212 227.047611 249.196713 \nC 227.01165 249.161213 226.991444 249.113059 226.991444 249.062855 \nC 226.991444 249.012651 227.01165 248.964497 227.047611 248.928997 \nC 227.083572 248.893498 227.132353 248.873552 227.18321 248.873552 \nz\n\" style=\"fill:#ecf0f1;fill-opacity:0.8;stroke:#ffffff;stroke-opacity:0.8;\"/>\n    <path clip-path=\"url(#pf85ad7f6e8)\" d=\"M 250.150896 246.154145 \nC 250.932331 246.154145 251.681865 246.460625 252.234422 247.006086 \nC 252.78698 247.551548 253.097447 248.291456 253.097447 249.062855 \nC 253.097447 249.834254 252.78698 250.574162 252.234422 251.119624 \nC 251.681865 251.665085 250.932331 251.971565 250.150896 251.971565 \nC 249.369462 251.971565 248.619928 251.665085 248.06737 251.119624 \nC 247.514813 250.574162 247.204345 249.834254 247.204345 249.062855 \nC 247.204345 248.291456 247.514813 247.551548 248.06737 247.006086 \nC 248.619928 246.460625 249.369462 246.154145 250.150896 246.154145 \nz\n\" style=\"fill:#e3bfb6;fill-opacity:0.8;stroke:#ffffff;stroke-opacity:0.8;\"/>\n    <path clip-path=\"url(#pf85ad7f6e8)\" d=\"M 273.118582 245.959579 \nC 273.952287 245.959579 274.751958 246.28656 275.341477 246.868507 \nC 275.930996 247.450455 276.26223 248.239857 276.26223 249.062855 \nC 276.26223 249.885854 275.930996 250.675255 275.341477 251.257203 \nC 274.751958 251.839151 273.952287 252.166131 273.118582 252.166131 \nC 272.284877 252.166131 271.485206 251.839151 270.895687 251.257203 \nC 270.306169 250.675255 269.974934 249.885854 269.974934 249.062855 \nC 269.974934 248.239857 270.306169 247.450455 270.895687 246.868507 \nC 271.485206 246.28656 272.284877 245.959579 273.118582 245.959579 \nz\n\" style=\"fill:#e2bcb3;fill-opacity:0.8;stroke:#ffffff;stroke-opacity:0.8;\"/>\n    <path clip-path=\"url(#pf85ad7f6e8)\" d=\"M 296.086268 248.365633 \nC 296.273579 248.365633 296.453243 248.439097 296.585692 248.569845 \nC 296.718141 248.700593 296.79256 248.87795 296.79256 249.062855 \nC 296.79256 249.24776 296.718141 249.425118 296.585692 249.555865 \nC 296.453243 249.686613 296.273579 249.760077 296.086268 249.760077 \nC 295.898957 249.760077 295.719293 249.686613 295.586844 249.555865 \nC 295.454395 249.425118 295.379976 249.24776 295.379976 249.062855 \nC 295.379976 248.87795 295.454395 248.700593 295.586844 248.569845 \nC 295.719293 248.439097 295.898957 248.365633 296.086268 248.365633 \nz\n\" style=\"fill:#e3e9ec;fill-opacity:0.8;stroke:#ffffff;stroke-opacity:0.8;\"/>\n    <path clip-path=\"url(#pf85ad7f6e8)\" d=\"M 319.053954 248.280147 \nC 319.264231 248.280147 319.465924 248.362618 319.614613 248.509397 \nC 319.763301 248.656176 319.846845 248.855278 319.846845 249.062855 \nC 319.846845 249.270432 319.763301 249.469535 319.614613 249.616314 \nC 319.465924 249.763092 319.264231 249.845563 319.053954 249.845563 \nC 318.843677 249.845563 318.641984 249.763092 318.493295 249.616314 \nC 318.344607 249.469535 318.261063 249.270432 318.261063 249.062855 \nC 318.261063 248.855278 318.344607 248.656176 318.493295 248.509397 \nC 318.641984 248.362618 318.843677 248.280147 319.053954 248.280147 \nz\n\" style=\"fill:#e0e8ea;fill-opacity:0.8;stroke:#ffffff;stroke-opacity:0.8;\"/>\n    <path clip-path=\"url(#pf85ad7f6e8)\" d=\"M 342.02164 239.993764 \nC 344.458081 239.993764 346.795059 240.949341 348.517883 242.650039 \nC 350.240706 244.350738 351.208714 246.657704 351.208714 249.062855 \nC 351.208714 251.468006 350.240706 253.774972 348.517883 255.475671 \nC 346.795059 257.176369 344.458081 258.131946 342.02164 258.131946 \nC 339.585199 258.131946 337.248221 257.176369 335.525397 255.475671 \nC 333.802574 253.774972 332.834566 251.468006 332.834566 249.062855 \nC 332.834566 246.657704 333.802574 244.350738 335.525397 242.650039 \nC 337.248221 240.949341 339.585199 239.993764 342.02164 239.993764 \nz\n\" style=\"fill:#3f7f93;fill-opacity:0.8;stroke:#ffffff;stroke-opacity:0.8;\"/>\n   </g>\n   <g id=\"patch_3\">\n    <path d=\"M 100.860938 260.399219 \nL 100.860938 10.999219 \n\" style=\"fill:none;stroke:#ffffff;stroke-linecap:square;stroke-linejoin:miter;stroke-width:0.8;\"/>\n   </g>\n   <g id=\"patch_4\">\n    <path d=\"M 353.505483 260.399219 \nL 353.505483 10.999219 \n\" style=\"fill:none;stroke:#ffffff;stroke-linecap:square;stroke-linejoin:miter;stroke-width:0.8;\"/>\n   </g>\n   <g id=\"patch_5\">\n    <path d=\"M 100.860938 260.399219 \nL 353.505483 260.399219 \n\" style=\"fill:none;stroke:#ffffff;stroke-linecap:square;stroke-linejoin:miter;stroke-width:0.8;\"/>\n   </g>\n   <g id=\"patch_6\">\n    <path d=\"M 100.860938 10.999219 \nL 353.505483 10.999219 \n\" style=\"fill:none;stroke:#ffffff;stroke-linecap:square;stroke-linejoin:miter;stroke-width:0.8;\"/>\n   </g>\n  </g>\n  <g id=\"axes_2\">\n   <g id=\"patch_7\">\n    <path clip-path=\"url(#p3fffe07a7c)\" d=\"M 369.295767 260.399219 \nL 369.295767 259.425 \nL 369.295767 11.973438 \nL 369.295767 10.999219 \nL 381.765767 10.999219 \nL 381.765767 11.973438 \nL 381.765767 259.425 \nL 381.765767 260.399219 \nz\n\" style=\"fill:#eaeaf2;stroke:#eaeaf2;stroke-linejoin:miter;stroke-width:0.01;\"/>\n   </g>\n   <g id=\"matplotlib.axis_3\"/>\n   <g id=\"matplotlib.axis_4\">\n    <g id=\"ytick_24\">\n     <g id=\"line2d_25\">\n      <defs>\n       <path d=\"M 0 0 \nL 3.5 0 \n\" id=\"m7a5332c2ae\" style=\"stroke:#262626;stroke-width:0.8;\"/>\n      </defs>\n      <g>\n       <use style=\"fill:#262626;stroke:#262626;stroke-width:0.8;\" x=\"381.765767\" xlink:href=\"#m7a5332c2ae\" y=\"260.399219\"/>\n      </g>\n     </g>\n     <g id=\"text_23\">\n      <!-- −1 -->\n      <g style=\"fill:#262626;\" transform=\"translate(388.765767 264.198437)scale(0.1 -0.1)\">\n       <defs>\n        <path d=\"M 10.59375 35.5 \nL 73.1875 35.5 \nL 73.1875 27.203125 \nL 10.59375 27.203125 \nz\n\" id=\"DejaVuSans-8722\"/>\n        <path d=\"M 12.40625 8.296875 \nL 28.515625 8.296875 \nL 28.515625 63.921875 \nL 10.984375 60.40625 \nL 10.984375 69.390625 \nL 28.421875 72.90625 \nL 38.28125 72.90625 \nL 38.28125 8.296875 \nL 54.390625 8.296875 \nL 54.390625 0 \nL 12.40625 0 \nz\n\" id=\"DejaVuSans-49\"/>\n       </defs>\n       <use xlink:href=\"#DejaVuSans-8722\"/>\n       <use x=\"83.789062\" xlink:href=\"#DejaVuSans-49\"/>\n      </g>\n     </g>\n    </g>\n    <g id=\"ytick_25\">\n     <g id=\"line2d_26\">\n      <g>\n       <use style=\"fill:#262626;stroke:#262626;stroke-width:0.8;\" x=\"381.765767\" xlink:href=\"#m7a5332c2ae\" y=\"135.699219\"/>\n      </g>\n     </g>\n     <g id=\"text_24\">\n      <!-- 0 -->\n      <g style=\"fill:#262626;\" transform=\"translate(388.765767 139.498437)scale(0.1 -0.1)\">\n       <defs>\n        <path d=\"M 31.78125 66.40625 \nQ 24.171875 66.40625 20.328125 58.90625 \nQ 16.5 51.421875 16.5 36.375 \nQ 16.5 21.390625 20.328125 13.890625 \nQ 24.171875 6.390625 31.78125 6.390625 \nQ 39.453125 6.390625 43.28125 13.890625 \nQ 47.125 21.390625 47.125 36.375 \nQ 47.125 51.421875 43.28125 58.90625 \nQ 39.453125 66.40625 31.78125 66.40625 \nz\nM 31.78125 74.21875 \nQ 44.046875 74.21875 50.515625 64.515625 \nQ 56.984375 54.828125 56.984375 36.375 \nQ 56.984375 17.96875 50.515625 8.265625 \nQ 44.046875 -1.421875 31.78125 -1.421875 \nQ 19.53125 -1.421875 13.0625 8.265625 \nQ 6.59375 17.96875 6.59375 36.375 \nQ 6.59375 54.828125 13.0625 64.515625 \nQ 19.53125 74.21875 31.78125 74.21875 \nz\n\" id=\"DejaVuSans-48\"/>\n       </defs>\n       <use xlink:href=\"#DejaVuSans-48\"/>\n      </g>\n     </g>\n    </g>\n    <g id=\"ytick_26\">\n     <g id=\"line2d_27\">\n      <g>\n       <use style=\"fill:#262626;stroke:#262626;stroke-width:0.8;\" x=\"381.765767\" xlink:href=\"#m7a5332c2ae\" y=\"10.999219\"/>\n      </g>\n     </g>\n     <g id=\"text_25\">\n      <!-- 1 -->\n      <g style=\"fill:#262626;\" transform=\"translate(388.765767 14.798438)scale(0.1 -0.1)\">\n       <use xlink:href=\"#DejaVuSans-49\"/>\n      </g>\n     </g>\n    </g>\n   </g>\n   <image height=\"250\" id=\"imagea3420989dc\" transform=\"scale(1 -1)translate(0 -250)\" width=\"13\" x=\"369\" xlink:href=\"data:image/png;base64,\niVBORw0KGgoAAAANSUhEUgAAAA0AAAD6CAYAAAB6fM3dAAABVElEQVR4nO2YMW5DMQxDJX8PvUqvkHvkxFm79yodWqtDnZ+ZLEAQH8r+QFuUxO/k4377CPA3I+OdgBJlYkYOHEqd0lApUdVLSom7E3O8cbzhUI4vGCLvpOs9BhreoyFToswVHo8bDe8d4b5hr9fl9lGjWmHmXe6eubpxP1Tp3lFzQh01fxD3baQruXdHCFeYd+Zyved9vEsuFvMA8P7Epkp+HDhk/2zw3rAdNVvJfcN2IXiljpon1FGzla5YCNnkfmfiz/BVgT/DqwplYhJMzMUpqaDF3IlTCl0hYEbpE6kEM9rjMRCMtE8vSFkImIlZsnFvn04lmFFGzU8Vnu5Vhad7l3xDutFQpnv7tJVghlUS7nKYsfept9GGuss3JHx06dJ9qdLdPJ/6c/SEYEY5ue3TqQQz/qkBI+3TPyHhPAnHvX2K0KY7Zy7M2Jfc/F/siPhEoV/9glcSydc2rAAAAABJRU5ErkJggg==\" y=\"-10\"/>\n   <g id=\"patch_8\">\n    <path d=\"M 369.295767 260.399219 \nL 369.295767 259.425 \nL 369.295767 11.973438 \nL 369.295767 10.999219 \nL 381.765767 10.999219 \nL 381.765767 11.973438 \nL 381.765767 259.425 \nL 381.765767 260.399219 \nz\n\" style=\"fill:none;stroke:#ffffff;stroke-linejoin:miter;stroke-width:0.8;\"/>\n   </g>\n  </g>\n </g>\n <defs>\n  <clipPath id=\"pf85ad7f6e8\">\n   <rect height=\"249.4\" width=\"252.644545\" x=\"100.860938\" y=\"10.999219\"/>\n  </clipPath>\n  <clipPath id=\"p3fffe07a7c\">\n   <rect height=\"249.4\" width=\"12.47\" x=\"369.295767\" y=\"10.999219\"/>\n  </clipPath>\n </defs>\n</svg>\n",
      "image/png": "[encoded data removed]"
     },
     "metadata": {}
    }
   ],
   "source": [
    "def corrplot(corr, labels):\n",
    "    palette = sns.diverging_palette(20, 220, n = 256, as_cmap = True)\n",
    "    N = len(labels)\n",
    "    x, y = np.meshgrid(np.arange(N), np.arange(N))\n",
    "\n",
    "    fig, ax = plt.subplots()\n",
    "\n",
    "    circles = [plt.Circle((j,i), radius = r*0.4) for r, j, i in zip(corr.abs(), x.flat, y.flat)]\n",
    "    col = PatchCollection(circles, array = corr, cmap = palette, alpha = 0.8)\n",
    "    ax.add_collection(col)\n",
    "\n",
    "    ax.set(xticks = np.arange(N), yticks = np.arange(N),\n",
    "        xticklabels = labels, yticklabels = labels)\n",
    "    ax.set_xticks(np.arange(N+1)-0.5, minor = True)\n",
    "    ax.set_yticks(np.arange(N+1)-0.5, minor = True)\n",
    "    ax.grid(which = 'minor')\n",
    "    ax.invert_yaxis()\n",
    "    fig.tight_layout()\n",
    "    col.set_clim(-1,1)\n",
    "    fig.colorbar(col, ticks = [-1, 0, 1])\n",
    "    plt.setp(ax.get_xticklabels(), rotation = 45, horizontalalignment = 'right')\n",
    "    plt.show()\n",
    "\n",
    "corr = df_liked.corr()\n",
    "corr = pd.melt(corr.reset_index(), id_vars = 'index') # Unpivot the dataframe, so we can get pair of arrays for x and y\n",
    "corr.columns = ['x', 'y', 'value']\n",
    "corrplot(corr = corr['value'], labels = labels)"
   ]
  },
  {
   "source": [
    "In this case, if we were to base our future model on both the features `acousticness` and `instrumentalness` we would have to be careful since those features seem to be highly correlated."
   ],
   "cell_type": "markdown",
   "metadata": {}
  }
 ]
}