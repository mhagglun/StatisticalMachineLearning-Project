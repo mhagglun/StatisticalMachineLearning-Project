{
 "metadata": {
  "language_info": {
   "codemirror_mode": {
    "name": "ipython",
    "version": 3
   },
   "file_extension": ".py",
   "mimetype": "text/x-python",
   "name": "python",
   "nbconvert_exporter": "python",
   "pygments_lexer": "ipython3",
   "version": "3.8.5-final"
  },
  "orig_nbformat": 2,
  "kernelspec": {
   "name": "Python 3.8.5 64-bit ('env': venv)",
   "display_name": "Python 3.8.5 64-bit ('env': venv)",
   "metadata": {
    "interpreter": {
     "hash": "f3f2af16ea42f1360018e47f3e409ab6b8c53d11ab4d9ce20c73dd5faaab1e80"
    }
   }
  }
 },
 "nbformat": 4,
 "nbformat_minor": 2,
 "cells": [
  {
   "cell_type": "code",
   "execution_count": 1,
   "metadata": {},
   "outputs": [],
   "source": [
    "import pandas as pd\n",
    "import numpy as np\n",
    "from tqdm import tqdm\n",
    "from itertools import combinations\n",
    "from sklearn.model_selection import train_test_split\n",
    "from sklearn.neighbors import KNeighborsClassifier\n",
    "from sklearn.ensemble import RandomForestClassifier\n",
    "from sklearn import svm\n",
    "from sklearn.model_selection import cross_val_score, cross_val_predict\n",
    "from sklearn.metrics import accuracy_score\n",
    "from sklearn.pipeline import Pipeline\n",
    "from sklearn.preprocessing import StandardScaler\n",
    "from sklearn.preprocessing import MinMaxScaler\n",
    "from sklearn.preprocessing import Normalizer\n",
    "import matplotlib.pyplot as plt\n",
    "import plotly.graph_objects as go\n",
    "import seaborn as sns\n",
    "sns.set_style(\"dark\")"
   ]
  },
  {
   "source": [
    "### Partition data"
   ],
   "cell_type": "markdown",
   "metadata": {}
  },
  {
   "cell_type": "code",
   "execution_count": 2,
   "metadata": {
    "tags": []
   },
   "outputs": [],
   "source": [
    "# Load dataset and preview\n",
    "df = pd.read_csv(\"project_train.csv\")\n",
    "\n",
    "# Partition data set\n",
    "train, test = train_test_split(df, test_size=0.2)\n",
    "\n",
    "train_labels = train['Label']\n",
    "test_labels = test['Label']\n",
    "\n",
    "train = train.drop('Label', axis = 1)\n",
    "test = test.drop('Label', axis = 1)\n",
    "\n",
    "\n",
    "# Normalize data in sets\n",
    "train = (train - train.min()) / (train.max() - train.min())\n",
    "test = (test - test.min()) / (test.max() - test.min())"
   ]
  },
  {
   "source": [
    "### k-Nearest Neighbour"
   ],
   "cell_type": "markdown",
   "metadata": {}
  },
  {
   "cell_type": "code",
   "execution_count": 22,
   "metadata": {},
   "outputs": [
    {
     "output_type": "stream",
     "name": "stderr",
     "text": [
      "100%|██████████| 2046/2046 [01:33<00:00, 21.96it/s]\n",
      "Feature set:  ('danceability', 'energy', 'key', 'speechiness', 'liveness', 'tempo') \n",
      "CV-Accuracy:  0.8056610056610058 \n",
      "Test Accuracy:  0.7731958762886598\n",
      "\n"
     ]
    }
   ],
   "source": [
    "# Apply k Nearest Neighbours to assign labels\n",
    "features = train.columns\n",
    "feature_combinations = sum([list(combinations(features, i)) for i in range(1,len(features))], [])\n",
    "\n",
    "cross_val_accuracy, test_accuracy, feature_set = [], [], []\n",
    "\n",
    "for feats in tqdm(feature_combinations):\n",
    "    train_feats = train[list(feats)]\n",
    "    test_feats = test[list(feats)]\n",
    "\n",
    "    feature_set.append(feats)\n",
    "    knn = KNeighborsClassifier(n_neighbors=32)\n",
    "    knn.fit(train_feats, train_labels)\n",
    "\n",
    "    # cross_validate\n",
    "    cv_accuracy = cross_val_score(knn, train_feats, train_labels, cv=5)\n",
    "\n",
    "    predicted_labels = knn.predict(test_feats)\n",
    "    prediction_accuracy = np.sum(predicted_labels==test_labels) / len(test_labels)\n",
    "    cross_val_accuracy.append(np.mean(cv_accuracy))\n",
    "    test_accuracy.append(prediction_accuracy)\n",
    "\n",
    "ind = np.argmax(cross_val_accuracy)\n",
    "\n",
    "print(\"\\nFeature set: \", feature_set[ind], \"\\nCV-Accuracy: \", cross_val_accuracy[ind], \"\\nTest Accuracy: \", test_accuracy[ind])"
   ]
  },
  {
   "source": [
    "### Support Vector Machine"
   ],
   "cell_type": "markdown",
   "metadata": {}
  },
  {
   "cell_type": "code",
   "execution_count": 4,
   "metadata": {
    "tags": []
   },
   "outputs": [
    {
     "output_type": "stream",
     "name": "stderr",
     "text": [
      "100%|██████████| 2046/2046 [01:30<00:00, 22.51it/s]\n",
      "Feature set:  ['rbf', ('danceability', 'loudness', 'speechiness', 'acousticness', 'liveness', 'valence')] \n",
      "CV-Accuracy:  0.8028971028971028 \n",
      "Test Accuracy:  0.845360824742268\n",
      "\n"
     ]
    }
   ],
   "source": [
    "pipeline = []\n",
    "pipeline.append(('rbf', svm.SVC()))\n",
    "# pipeline.append(('linear', svm.SVC(kernel = 'linear')))\n",
    "# pipeline.append(('poly', svm.SVC(kernel = 'poly')))\n",
    "\n",
    "features = train.columns\n",
    "feature_combinations = sum([list(combinations(features, i)) for i in range(1,len(features))], [])\n",
    "cross_val_accuracy, test_accuracy, feature_set = [], [], []\n",
    "\n",
    "for feats in tqdm(feature_combinations):\n",
    "    train_feats = train[list(feats)]\n",
    "    test_feats = test[list(feats)]\n",
    "\n",
    "    for modelname, model in pipeline:\n",
    "        feature_set.append([modelname, feats])\n",
    "        cv_accuracy = cross_val_score(model, train_feats, train_labels, cv=5)\n",
    "        cross_val_accuracy.append(np.mean(cv_accuracy))\n",
    "        model.fit(train_feats, train_labels)\n",
    "        predicted_labels = model.predict(test_feats)\n",
    "        prediction_accuracy = np.sum(predicted_labels==test_labels) / len(test_labels)\n",
    "        test_accuracy.append(prediction_accuracy)\n",
    "\n",
    "\n",
    "ind = np.argmax(cross_val_accuracy)\n",
    "print(\"\\nFeature set: \", feature_set[ind], \"\\nCV-Accuracy: \", cross_val_accuracy[ind], \"\\nTest Accuracy: \", test_accuracy[ind])\n"
   ]
  },
  {
   "source": [
    "### Random Forest\n"
   ],
   "cell_type": "markdown",
   "metadata": {}
  },
  {
   "cell_type": "code",
   "execution_count": 27,
   "metadata": {
    "tags": []
   },
   "outputs": [
    {
     "output_type": "stream",
     "name": "stdout",
     "text": [
      "\nCV-Accuracy:  0.8238761238761239 \nTest Accuracy:  0.8551724137931035\n"
     ]
    }
   ],
   "source": [
    "forest = RandomForestClassifier(n_estimators=100, criterion='gini', max_depth=6)\n",
    "cv_accuracy = cross_val_score(forest, train, train_labels, cv=5)\n",
    "cross_val_accuracy = np.mean(cv_accuracy)\n",
    "\n",
    "forest.fit(train, train_labels)\n",
    "prediction = forest.predict(test)\n",
    "prediction_accuracy = np.sum(prediction==test_labels) / len(test_labels)\n",
    "print(\"\\nCV-Accuracy: \", cross_val_accuracy, \"\\nTest Accuracy: \", prediction_accuracy)"
   ]
  },
  {
   "cell_type": "code",
   "execution_count": null,
   "metadata": {},
   "outputs": [],
   "source": []
  }
 ]
}