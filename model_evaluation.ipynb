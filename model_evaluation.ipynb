{
 "metadata": {
  "language_info": {
   "codemirror_mode": {
    "name": "ipython",
    "version": 3
   },
   "file_extension": ".py",
   "mimetype": "text/x-python",
   "name": "python",
   "nbconvert_exporter": "python",
   "pygments_lexer": "ipython3",
   "version": "3.8.2-final"
  },
  "orig_nbformat": 2,
  "kernelspec": {
   "name": "Python 3.8.2 64-bit ('env': venv)",
   "display_name": "Python 3.8.2 64-bit ('env': venv)",
   "metadata": {
    "interpreter": {
     "hash": "f3f2af16ea42f1360018e47f3e409ab6b8c53d11ab4d9ce20c73dd5faaab1e80"
    }
   }
  }
 },
 "nbformat": 4,
 "nbformat_minor": 2,
 "cells": [
  {
   "cell_type": "code",
   "execution_count": 5,
   "metadata": {},
   "outputs": [],
   "source": [
    "import pandas as pd\n",
    "import numpy as np\n",
    "from sklearn.model_selection import train_test_split\n",
    "from sklearn.neighbors import KNeighborsClassifier\n",
    "from sklearn import svm\n",
    "from sklearn.model_selection import cross_val_score, cross_val_predict\n",
    "from sklearn.metrics import accuracy_score\n",
    "from sklearn.pipeline import Pipeline\n",
    "from sklearn.preprocessing import StandardScaler\n",
    "from sklearn.preprocessing import MinMaxScaler\n",
    "from sklearn.preprocessing import Normalizer\n",
    "import matplotlib.pyplot as plt\n",
    "import plotly.graph_objects as go\n",
    "import seaborn as sns\n",
    "sns.set_style(\"dark\")"
   ]
  },
  {
   "source": [
    "### Partition data"
   ],
   "cell_type": "markdown",
   "metadata": {}
  },
  {
   "cell_type": "code",
   "execution_count": 6,
   "metadata": {
    "tags": []
   },
   "outputs": [],
   "source": [
    "# Load dataset and preview\n",
    "df = pd.read_csv(\"project_train.csv\")\n",
    "\n",
    "# Partition data set\n",
    "train, test = train_test_split(df, test_size=0.2)\n",
    "\n",
    "train_labels = train['Label']\n",
    "test_labels = test['Label']\n",
    "\n",
    "train = train.drop('Label', axis = 1)\n",
    "test = test.drop('Label', axis = 1)\n",
    "\n",
    "\n",
    "train_unnormalized = train\n",
    "# Normalize data in sets\n",
    "# train = (train - train.min()) / (train.max() - train.min())\n",
    "# test = (test - test.min()) / (test.max() - test.min())\n",
    "\n",
    "train = (train - train.mean()) / (train.std())\n",
    "test = (test - test.mean()) / (test.std())"
   ]
  },
  {
   "source": [
    "### k-Nearest Neighbour"
   ],
   "cell_type": "markdown",
   "metadata": {}
  },
  {
   "cell_type": "code",
   "execution_count": 10,
   "metadata": {
    "tags": []
   },
   "outputs": [
    {
     "output_type": "error",
     "ename": "TypeError",
     "evalue": "can only concatenate str (not &quot;int&quot;) to str",
     "traceback": [
      "\u001b[0;31m---------------------------------------------------------------------------\u001b[0m",
      "\u001b[0;31mTypeError\u001b[0m                                 Traceback (most recent call last)",
      "\u001b[0;32m&lt;ipython-input-10-76c3336d5403&gt;\u001b[0m in \u001b[0;36m&lt;module&gt;\u001b[0;34m\u001b[0m\n\u001b[1;32m     19\u001b[0m     \u001b[0mprediction_accuracy\u001b[0m \u001b[0;34m=\u001b[0m \u001b[0mnp\u001b[0m\u001b[0;34m.\u001b[0m\u001b[0msum\u001b[0m\u001b[0;34m(\u001b[0m\u001b[0mpredicted_labels\u001b[0m\u001b[0;34m==\u001b[0m\u001b[0mtest_labels\u001b[0m\u001b[0;34m)\u001b[0m \u001b[0;34m/\u001b[0m \u001b[0mlen\u001b[0m\u001b[0;34m(\u001b[0m\u001b[0mtest_labels\u001b[0m\u001b[0;34m)\u001b[0m\u001b[0;34m\u001b[0m\u001b[0;34m\u001b[0m\u001b[0m\n\u001b[1;32m     20\u001b[0m     \u001b[0mpred_acc\u001b[0m\u001b[0;34m.\u001b[0m\u001b[0mappend\u001b[0m\u001b[0;34m(\u001b[0m\u001b[0mprediction_accuracy\u001b[0m\u001b[0;34m)\u001b[0m\u001b[0;34m\u001b[0m\u001b[0;34m\u001b[0m\u001b[0m\n\u001b[0;32m---&gt; 21\u001b[0;31m     \u001b[0mprint\u001b[0m\u001b[0;34m(\u001b[0m\u001b[0;34m&quot;\\n&quot;\u001b[0m\u001b[0;34m+\u001b[0m \u001b[0;34m&quot;k = &quot;\u001b[0m \u001b[0;34m+\u001b[0m \u001b[0mk\u001b[0m \u001b[0;34m+\u001b[0m\u001b[0;34m&quot;\\ncv acc:&quot;\u001b[0m \u001b[0;34m+\u001b[0m \u001b[0mstr\u001b[0m\u001b[0;34m(\u001b[0m\u001b[0mmean_accuracy\u001b[0m\u001b[0;34m)\u001b[0m \u001b[0;34m+\u001b[0m \u001b[0;34m&quot;\\npred acc: &quot;\u001b[0m \u001b[0;34m+\u001b[0m \u001b[0mstr\u001b[0m\u001b[0;34m(\u001b[0m\u001b[0mprediction_accuracy\u001b[0m\u001b[0;34m)\u001b[0m\u001b[0;34m)\u001b[0m\u001b[0;34m\u001b[0m\u001b[0;34m\u001b[0m\u001b[0m\n\u001b[0m\u001b[1;32m     22\u001b[0m \u001b[0;34m\u001b[0m\u001b[0m\n\u001b[1;32m     23\u001b[0m \u001b[0mplt\u001b[0m\u001b[0;34m.\u001b[0m\u001b[0mplot\u001b[0m\u001b[0;34m(\u001b[0m\u001b[0mnumber_of_neighbours\u001b[0m\u001b[0;34m,\u001b[0m \u001b[0mmean_cv_acc\u001b[0m\u001b[0;34m,\u001b[0m \u001b[0mlabel\u001b[0m\u001b[0;34m=\u001b[0m\u001b[0;34m&#39;CV Accuracy&#39;\u001b[0m\u001b[0;34m)\u001b[0m\u001b[0;34m\u001b[0m\u001b[0;34m\u001b[0m\u001b[0m\n",
      "\u001b[0;31mTypeError\u001b[0m: can only concatenate str (not &quot;int&quot;) to str"
     ]
    }
   ],
   "source": [
    "# Apply k Nearest Neighbours to assign labels\n",
    "\n",
    "mean_cv_acc = []\n",
    "pred_acc = []\n",
    "number_of_neighbours = range(2,64)\n",
    "\n",
    "for k in number_of_neighbours:\n",
    "\n",
    "    knn = KNeighborsClassifier(n_neighbors=k)\n",
    "    knn.fit(train, train_labels)\n",
    "\n",
    "    # cross_validate\n",
    "    cv_accuracy = cross_val_score(knn, train, train_labels, cv=5)\n",
    "\n",
    "    mean_accuracy = np.mean(cv_accuracy)\n",
    "    mean_cv_acc.append(mean_accuracy)\n",
    "\n",
    "    predicted_labels = knn.predict(test)\n",
    "    prediction_accuracy = np.sum(predicted_labels==test_labels) / len(test_labels)\n",
    "    pred_acc.append(prediction_accuracy)\n",
    "    print(\"\\n\"+ \"k = \" + str(k) +\"\\ncv acc:\" + str(mean_accuracy) + \"\\npred acc: \" + str(prediction_accuracy))\n",
    "\n",
    "plt.plot(number_of_neighbours, mean_cv_acc, label='CV Accuracy')\n",
    "plt.plot(number_of_neighbours, pred_acc, label='Validation Accuracy')\n",
    "plt.ylim([0, 1])\n",
    "plt.legend()\n",
    "plt.tight_layout()\n",
    "plt.xlabel('Number of Neighbours')\n",
    "plt.ylabel('Prediction Accuracy')\n"
   ]
  },
  {
   "source": [
    "### Support Vector Machine"
   ],
   "cell_type": "markdown",
   "metadata": {}
  },
  {
   "cell_type": "code",
   "execution_count": 4,
   "metadata": {
    "tags": []
   },
   "outputs": [
    {
     "output_type": "stream",
     "name": "stdout",
     "text": "Model: Scaler_rbf - Accuracy : 0.8109\nModel: Scaler_linear - Accuracy : 0.7876\nModel: Scaler_poly - Accuracy : 0.8083\nModel: Min_max_scaler - Accuracy : 0.7953\nModel: Min_max_scaler_linear - Accuracy : 0.7798\nModel: Min_max_scaler_poly - Accuracy : 0.7902\nModel: Normalizer - Accuracy : 0.6788\nModel: Normalizer_linear - Accuracy : 0.6684\nModel: Normalizer_poly - Accuracy : 0.6813\n"
    }
   ],
   "source": [
    "# Cross-validation and accuracy of the model\n",
    "def accuracy(clf, data, target):\n",
    "    results = cross_val_predict(clf, data ,target ,cv = 10)\n",
    "    return metrics.accuracy_score(target,results)\n",
    "\n",
    "\n",
    "p1 = Pipeline([('scaler',StandardScaler()),\n",
    "                  ('clf', svm.SVC())\n",
    "])\n",
    "\n",
    "p2 = Pipeline([('scaler',StandardScaler()),\n",
    "                ('clf', svm.SVC(kernel = 'linear'))               \n",
    "])\n",
    "\n",
    "p3 = Pipeline([('scaler', StandardScaler()),\n",
    "                ('clf', svm.SVC(kernel = 'poly', degree=2))                \n",
    " ])\n",
    "\n",
    "p4 = Pipeline([('min_max_scaler', MinMaxScaler()),\n",
    "                 ('clf', svm.SVC())               \n",
    "])\n",
    "\n",
    "p5 = Pipeline([('min_max_scaler', MinMaxScaler()),\n",
    "                 ('clf', svm.SVC(kernel= 'linear'))               \n",
    "])\n",
    "\n",
    "p6 = Pipeline([('min_max_scaler', MinMaxScaler()),\n",
    "                  ('clf', svm.SVC(kernel='poly', degree=2))               \n",
    "])\n",
    "\n",
    "p7 = Pipeline([('Normalize', Normalizer()),\n",
    "                  ('clf', svm.SVC() )    \n",
    "])\n",
    "\n",
    "p8 = Pipeline([('Normalize', Normalizer()),\n",
    "                  ('clf', svm.SVC(kernel='linear') )    \n",
    "])\n",
    "\n",
    "p9 = Pipeline([('Normalize', Normalizer()),\n",
    "                  ('clf', svm.SVC(kernel='poly', degree=2) )    \n",
    "])\n",
    "\n",
    "# list with pipelines\n",
    "pipelines = []\n",
    "pipelines.append(('Scaler_rbf', p1))\n",
    "pipelines.append(('Scaler_linear', p2))\n",
    "pipelines.append(('Scaler_poly', p3))\n",
    "pipelines.append(('Min_max_scaler', p4))\n",
    "pipelines.append(('Min_max_scaler_linear', p5))\n",
    "pipelines.append(('Min_max_scaler_poly', p6))\n",
    "pipelines.append(('Normalizer', p7))\n",
    "pipelines.append(('Normalizer_linear', p8))\n",
    "pipelines.append(('Normalizer_poly', p9))\n",
    "\n",
    "# Function to train and predict models\n",
    "def model_accuracy(clf_models, data, target):\n",
    "    for model, pip in clf_models:\n",
    "        cross_val = cross_val_predict(pip, data, target, cv = 10)\n",
    "        accuracy = accuracy_score(target, cross_val)               \n",
    "        print(f'Model: {model} - Accuracy : {accuracy:.4f}')\n",
    "\n",
    "model_accuracy(pipelines, train_unnormalized, train_labels)"
   ]
  },
  {
   "cell_type": "code",
   "execution_count": null,
   "metadata": {},
   "outputs": [],
   "source": []
  }
 ]
}